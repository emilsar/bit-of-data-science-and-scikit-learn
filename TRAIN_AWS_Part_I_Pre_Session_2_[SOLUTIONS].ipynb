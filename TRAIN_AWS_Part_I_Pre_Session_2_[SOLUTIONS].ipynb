{
  "cells": [
    {
      "cell_type": "markdown",
      "metadata": {
        "id": "view-in-github",
        "colab_type": "text"
      },
      "source": [
        "<a href=\"https://colab.research.google.com/github/emilsar/bit-of-data-science-and-scikit-learn/blob/master/TRAIN_AWS_Part_I_Pre_Session_2_%5BSOLUTIONS%5D.ipynb\" target=\"_parent\"><img src=\"https://colab.research.google.com/assets/colab-badge.svg\" alt=\"Open In Colab\"/></a>"
      ]
    },
    {
      "cell_type": "markdown",
      "source": [
        "# **Pre-Session 2: Introduction to Python**\n",
        "---\n",
        "\n",
        "### **Description**\n",
        "In this lab, we will continue learn the basics of coding in python that will be necessary for machine learning in the following days.\n",
        "\n",
        "<br>\n",
        "\n",
        "### **Lab Structure**\n",
        "* **Part 1**: [Review](#p1)\n",
        "* **Part 2**: [Lists](#p2)\n",
        "* **Part 3**: [[OPTIONAL] Lists and Indexing Practice](#p3)\n",
        "\n",
        "\n",
        "<br>\n",
        "\n",
        "### **Goals**\n",
        "By the end of this lab, you will:\n",
        "* Feel comfortable with print statements, variables, and data types in python.\n",
        "* Be familiar with lists and indexing.\n",
        "\n",
        "<br>\n",
        "\n",
        "### **Cheat Sheets**\n",
        "* [Python Basics](https://docs.google.com/document/d/1jC6zIdBukfEoJ8CesGf_usCtK2P6pJTWe5oxopC49aY/edit?usp=sharing)"
      ],
      "metadata": {
        "id": "mbZXQ3rA3NwL"
      }
    },
    {
      "cell_type": "markdown",
      "source": [
        "<a name=\"p1\"></a>\n",
        "\n",
        "\n",
        "---\n",
        "## **Part 1: Review**\n",
        "---"
      ],
      "metadata": {
        "id": "ZxdGPNWQRiJh"
      }
    },
    {
      "cell_type": "markdown",
      "metadata": {
        "id": "-tmSZ5MiI0T6"
      },
      "source": [
        "### **Problem #1.1**\n",
        "\n",
        "Print your age.\n",
        "\n"
      ]
    },
    {
      "cell_type": "code",
      "execution_count": null,
      "metadata": {
        "id": "eimDOZ9iIn_6"
      },
      "outputs": [],
      "source": []
    },
    {
      "cell_type": "markdown",
      "metadata": {
        "id": "HNUj15rcMRkw"
      },
      "source": [
        "#### **Solution**\n",
        "\n",
        "\n"
      ]
    },
    {
      "cell_type": "code",
      "execution_count": null,
      "metadata": {
        "id": "RsroFCHLNZNi"
      },
      "outputs": [],
      "source": [
        "print(60)"
      ]
    },
    {
      "cell_type": "markdown",
      "metadata": {
        "id": "vIuM5XBXI5Oe"
      },
      "source": [
        "### **Problem #1.2**\n",
        "\n",
        "Print your name.\n",
        "\n"
      ]
    },
    {
      "cell_type": "code",
      "execution_count": null,
      "metadata": {
        "id": "eSnP-nCvQ5RI"
      },
      "outputs": [],
      "source": []
    },
    {
      "cell_type": "markdown",
      "metadata": {
        "id": "TfX-aoXeNfoH"
      },
      "source": [
        "#### **Solution**"
      ]
    },
    {
      "cell_type": "code",
      "execution_count": null,
      "metadata": {
        "id": "Wi0dmLNPNl30"
      },
      "outputs": [],
      "source": [
        "print(\"NAME\")"
      ]
    },
    {
      "cell_type": "markdown",
      "source": [
        "### **Problem #1.3**\n",
        "\n",
        "What are the following data types?\n",
        "\n",
        "```python\n",
        "11\n",
        "\"zipcode\"\n",
        "3.0\n",
        "3\n",
        "\"yellow\"\n",
        "[1, 2, 3]\n",
        "-11\n",
        "[\"peaches\", \"grapes\", \"tomatoes\"]\n",
        "\"49ers\"\n",
        "```"
      ],
      "metadata": {
        "id": "3DbiAes6odAP"
      }
    },
    {
      "cell_type": "markdown",
      "source": [
        "#### **Solution**"
      ],
      "metadata": {
        "id": "giH5Hc1so5Yt"
      }
    },
    {
      "cell_type": "code",
      "source": [
        "11 #integer\n",
        "\"zipcode\" #string\n",
        "3.0 #float\n",
        "3 #integer\n",
        "\"yellow\" #string\n",
        "[1, 2, 3] #list\n",
        "-11 #integer\n",
        "[\"peaches\", \"grapes\", \"tomatoes\"] #list\n",
        "\"49ers\" #string"
      ],
      "metadata": {
        "id": "SrTXLxMtpDr0"
      },
      "execution_count": null,
      "outputs": []
    },
    {
      "cell_type": "markdown",
      "source": [
        "### **Problem #1.4**\n",
        "\n",
        "Create a variable called `name` and assign it to your name. Then print a statement that reads: `Welcome back, [YOUR NAME]`"
      ],
      "metadata": {
        "id": "JwQ_Dl6epNbl"
      }
    },
    {
      "cell_type": "code",
      "source": [],
      "metadata": {
        "id": "VU19noUzpQ1d"
      },
      "execution_count": null,
      "outputs": []
    },
    {
      "cell_type": "markdown",
      "source": [
        "#### **Solution**"
      ],
      "metadata": {
        "id": "D93c_1c1pc37"
      }
    },
    {
      "cell_type": "code",
      "source": [
        "name = \"Lisa\"\n",
        "print(\"Welcome back, \" + name)"
      ],
      "metadata": {
        "id": "mdx9feLspeGX"
      },
      "execution_count": null,
      "outputs": []
    },
    {
      "cell_type": "markdown",
      "metadata": {
        "id": "YzJwWlLU6oUp"
      },
      "source": [
        "### **Problem #1.5**\n",
        "\n",
        "Using the variable `zipcode`, print: `\"My zipcode is <zipcode>\"`."
      ]
    },
    {
      "cell_type": "code",
      "execution_count": null,
      "metadata": {
        "id": "DLWD4qoe603N"
      },
      "outputs": [],
      "source": [
        "zipcode = 11780"
      ]
    },
    {
      "cell_type": "markdown",
      "metadata": {
        "id": "SLTIJu6561Hu"
      },
      "source": [
        "#### **Solution**"
      ]
    },
    {
      "cell_type": "code",
      "execution_count": null,
      "metadata": {
        "id": "kOWWSIMU63lr"
      },
      "outputs": [],
      "source": [
        "zipcode = 11780\n",
        "print(\"My zip code is \" + str(zipcode))"
      ]
    },
    {
      "cell_type": "markdown",
      "metadata": {
        "id": "qr8upnhn7C8-"
      },
      "source": [
        "### **Problem #1.6**\n",
        "\n",
        "Print the sum of 76 and 92."
      ]
    },
    {
      "cell_type": "code",
      "execution_count": null,
      "metadata": {
        "id": "xxCYqOjM7KK3"
      },
      "outputs": [],
      "source": []
    },
    {
      "cell_type": "markdown",
      "metadata": {
        "id": "nvBxBR3C7KhM"
      },
      "source": [
        "#### **Solution**"
      ]
    },
    {
      "cell_type": "code",
      "execution_count": null,
      "metadata": {
        "id": "zMIeMXdb7MVP"
      },
      "outputs": [],
      "source": [
        "print(76+92)"
      ]
    },
    {
      "cell_type": "markdown",
      "metadata": {
        "id": "LB9hjApu7PDt"
      },
      "source": [
        "### **Problem #1.7**\n",
        "\n",
        "Print the product of 2 and 45.0."
      ]
    },
    {
      "cell_type": "code",
      "execution_count": null,
      "metadata": {
        "id": "UNnCPWsX7V5k"
      },
      "outputs": [],
      "source": []
    },
    {
      "cell_type": "markdown",
      "metadata": {
        "id": "vIGyGGU_7WOp"
      },
      "source": [
        "#### **Solution**"
      ]
    },
    {
      "cell_type": "code",
      "execution_count": null,
      "metadata": {
        "id": "om-1PtI87YEy",
        "colab": {
          "base_uri": "https://localhost:8080/"
        },
        "outputId": "9e6c1576-32b3-4f00-8496-dcdecbd3bb65"
      },
      "outputs": [
        {
          "output_type": "stream",
          "name": "stdout",
          "text": [
            "90.0\n"
          ]
        }
      ],
      "source": [
        "print(2*45.0)"
      ]
    },
    {
      "cell_type": "markdown",
      "metadata": {
        "id": "xKpsappT7gXZ"
      },
      "source": [
        "### **Problem #1.8**\n",
        "\n",
        "Print the sum of students and teachers."
      ]
    },
    {
      "cell_type": "code",
      "execution_count": null,
      "metadata": {
        "id": "Krv3SJpg77S9"
      },
      "outputs": [],
      "source": [
        "students = 35\n",
        "teachers = 1\n",
        "# add code here"
      ]
    },
    {
      "cell_type": "markdown",
      "metadata": {
        "id": "wtvaHSxL77bQ"
      },
      "source": [
        "#### **Solution**"
      ]
    },
    {
      "cell_type": "code",
      "source": [
        "students = 35\n",
        "teachers = 1\n",
        "print(students + teachers)"
      ],
      "metadata": {
        "id": "Xb9CRkEBoQyw"
      },
      "execution_count": null,
      "outputs": []
    },
    {
      "cell_type": "markdown",
      "source": [
        "### **Problem #1.9**\n",
        "\n",
        "Create a variable named `participants`. Set it equal to the number of participants in this zoom. Use this variable to print \"There are [x] participants in this zoom.\""
      ],
      "metadata": {
        "id": "ikilPWuzZVt0"
      }
    },
    {
      "cell_type": "code",
      "source": [],
      "metadata": {
        "id": "rNw4ZBZpZVZU"
      },
      "execution_count": null,
      "outputs": []
    },
    {
      "cell_type": "markdown",
      "source": [
        "#### **Solution**"
      ],
      "metadata": {
        "id": "owPIslw3Znuk"
      }
    },
    {
      "cell_type": "code",
      "source": [
        "participants = 20\n",
        "print(\"There are \" + str(participants) + \" participants in this zoom.\")"
      ],
      "metadata": {
        "colab": {
          "base_uri": "https://localhost:8080/"
        },
        "id": "38RfWwfUZoLf",
        "outputId": "2ac4dd1b-b2a0-48c2-828b-95afc30457f6"
      },
      "execution_count": null,
      "outputs": [
        {
          "output_type": "stream",
          "name": "stdout",
          "text": [
            "There are 20 participants in this zoom.\n"
          ]
        }
      ]
    },
    {
      "cell_type": "markdown",
      "metadata": {
        "id": "0xLrJZzMJCT8"
      },
      "source": [
        "<center>\n",
        "\n",
        "---\n",
        "\n",
        "### **Back to Lecture**\n",
        "\n",
        "---"
      ]
    },
    {
      "cell_type": "markdown",
      "source": [
        "<a name=\"p2\"></a>\n",
        "\n",
        "---\n",
        "## **Part 2: Lists**\n",
        "---"
      ],
      "metadata": {
        "id": "loojxB3pRWyg"
      }
    },
    {
      "cell_type": "markdown",
      "source": [
        "### **Problem #2.1**\n",
        "\n",
        "**Together**, let's create a list called `states` of 4 different U.S. states. Print the list.\n",
        "\n",
        "<br>\n",
        "\n",
        "**NOTE**: When you create a list, this is referred to as *initializing a list*."
      ],
      "metadata": {
        "id": "kTwSOV67Wwms"
      }
    },
    {
      "cell_type": "code",
      "source": [
        "states = [\"Montana\", \"California\", \"Alabama\", \"Georgia\"]\n",
        "print(states)"
      ],
      "metadata": {
        "id": "r_46chQTvmIK",
        "colab": {
          "base_uri": "https://localhost:8080/"
        },
        "outputId": "a5d764e7-3dd5-4c73-b80a-cf65d87569c4"
      },
      "execution_count": null,
      "outputs": [
        {
          "output_type": "stream",
          "name": "stdout",
          "text": [
            "['Montana', 'California', 'Alabama', 'Georgia']\n"
          ]
        }
      ]
    },
    {
      "cell_type": "markdown",
      "source": [
        "### **Problem #2.2**\n",
        "\n",
        "**Together**, let's initialize a list called `even` of all even numbers from 1-10. Print the list."
      ],
      "metadata": {
        "id": "VCKoULo_4Hbh"
      }
    },
    {
      "cell_type": "code",
      "source": [
        "even = [2, 4, 6, 8, 10]\n",
        "print(even)"
      ],
      "metadata": {
        "id": "ikoj_76Y4LTW",
        "colab": {
          "base_uri": "https://localhost:8080/"
        },
        "outputId": "46b27f9d-91a0-40cb-c01a-8701ced75eba"
      },
      "execution_count": null,
      "outputs": [
        {
          "output_type": "stream",
          "name": "stdout",
          "text": [
            "[2, 4, 6, 8, 10]\n"
          ]
        }
      ]
    },
    {
      "cell_type": "markdown",
      "source": [
        "#### **Solution**"
      ],
      "metadata": {
        "id": "JU_BnVgI4Max"
      }
    },
    {
      "cell_type": "code",
      "source": [
        "even = [2, 4, 6, 8, 10]\n",
        "print(even)"
      ],
      "metadata": {
        "id": "sXj0amPM4O0e"
      },
      "execution_count": null,
      "outputs": []
    },
    {
      "cell_type": "markdown",
      "source": [
        "### **Problem #2.3**\n",
        "\n",
        "**Together**, let's use indexing to print out `“code!”` from the following list."
      ],
      "metadata": {
        "id": "-2sudpUxdzTe"
      }
    },
    {
      "cell_type": "code",
      "execution_count": null,
      "metadata": {
        "id": "myCEwtzJWfLF"
      },
      "outputs": [],
      "source": [
        "ls = [\"I\", \"love\", \"to\", \"code!\"]"
      ]
    },
    {
      "cell_type": "markdown",
      "metadata": {
        "id": "CMqbt95uWfeJ"
      },
      "source": [
        "#### **Solution**"
      ]
    },
    {
      "cell_type": "code",
      "execution_count": null,
      "metadata": {
        "id": "_xG9psqUWhe1"
      },
      "outputs": [],
      "source": [
        "ls = [\"I\", \"love\", \"to\", \"code!\"]\n",
        "print(ls[3])"
      ]
    },
    {
      "cell_type": "markdown",
      "metadata": {
        "id": "jSVb4xoQWg3y"
      },
      "source": [
        "### **Problem #2.4**\n",
        "\n",
        "**Together**, let's use indexing to print Alexus' name from the following list."
      ]
    },
    {
      "cell_type": "code",
      "execution_count": null,
      "metadata": {
        "id": "JFz5_XI8W7uJ"
      },
      "outputs": [],
      "source": [
        "family = [\"Rebecca\", \"Samuel\", \"Indiyah\", \"Alexus\"]"
      ]
    },
    {
      "cell_type": "markdown",
      "metadata": {
        "id": "qMliA8jnW72b"
      },
      "source": [
        "#### **Solution**"
      ]
    },
    {
      "cell_type": "code",
      "execution_count": null,
      "metadata": {
        "id": "86fijjAdXAxm",
        "colab": {
          "base_uri": "https://localhost:8080/"
        },
        "outputId": "b51984e5-7f44-499d-e5aa-1fc52b39b896"
      },
      "outputs": [
        {
          "output_type": "stream",
          "name": "stdout",
          "text": [
            "Alexus\n"
          ]
        }
      ],
      "source": [
        "family = [\"Rebecca\", \"Samuel\", \"Indiyah\", \"Alexus\"]\n",
        "print(family[3])"
      ]
    },
    {
      "cell_type": "markdown",
      "source": [
        "### **Problem #2.5**\n",
        "\n",
        "**Independently**, initialize a list called `count` of numbers 1-6. Print the list."
      ],
      "metadata": {
        "id": "9MdTwgfcP8uh"
      }
    },
    {
      "cell_type": "code",
      "source": [],
      "metadata": {
        "id": "x9_mZ9QxP-fM"
      },
      "execution_count": null,
      "outputs": []
    },
    {
      "cell_type": "markdown",
      "source": [
        "#### **Solution**"
      ],
      "metadata": {
        "id": "_MtdgCIVP-wN"
      }
    },
    {
      "cell_type": "code",
      "source": [
        "count = [1, 2, 3, 4, 5, 6]\n",
        "print(count)"
      ],
      "metadata": {
        "id": "LQYi3I9mQAvJ"
      },
      "execution_count": null,
      "outputs": []
    },
    {
      "cell_type": "markdown",
      "source": [
        "### **Problem #2.6**\n",
        "\n",
        "Initialize a list called `animals` of your three favorite animals. Print the list."
      ],
      "metadata": {
        "id": "hUyLcpciQCBj"
      }
    },
    {
      "cell_type": "code",
      "source": [],
      "metadata": {
        "id": "UHXqiezBQsxc"
      },
      "execution_count": null,
      "outputs": []
    },
    {
      "cell_type": "markdown",
      "source": [
        "#### **Solution**"
      ],
      "metadata": {
        "id": "U68vmpfAQrHr"
      }
    },
    {
      "cell_type": "code",
      "source": [
        "animals = [\"chicken\", \"dogs\", \"penguins\"]\n",
        "print(animals)"
      ],
      "metadata": {
        "id": "svxiRBTUQsbB"
      },
      "execution_count": null,
      "outputs": []
    },
    {
      "cell_type": "markdown",
      "metadata": {
        "id": "MnVf2J1EXJhA"
      },
      "source": [
        "### **Problem #2.7**\n",
        "\n",
        "Use indexing to print out `\"the\"` in the provided list."
      ]
    },
    {
      "cell_type": "code",
      "execution_count": null,
      "metadata": {
        "id": "zPaDSFOVXO5K"
      },
      "outputs": [],
      "source": [
        "ls = [\"welcome\", \"to\", \"the\", \"coding\", \"school\"]"
      ]
    },
    {
      "cell_type": "markdown",
      "metadata": {
        "id": "VG1n-RE1N7rg"
      },
      "source": [
        "#### **Solution**"
      ]
    },
    {
      "cell_type": "code",
      "execution_count": null,
      "metadata": {
        "id": "iEgXJLt5J83w"
      },
      "outputs": [],
      "source": [
        "ls = [\"welcome\", \"to\", \"the\", \"coding\", \"school\"]\n",
        "print(ls[2])"
      ]
    },
    {
      "cell_type": "markdown",
      "metadata": {
        "id": "qBEfMrArX-b2"
      },
      "source": [
        "### **Problem #2.8**\n",
        "\n",
        "Print `21` using indexing."
      ]
    },
    {
      "cell_type": "code",
      "execution_count": null,
      "metadata": {
        "id": "Alxt6MWqYDMO"
      },
      "outputs": [],
      "source": [
        "numbers = [17, 15, 21, 33]"
      ]
    },
    {
      "cell_type": "markdown",
      "metadata": {
        "id": "NE7_i3NyYDUC"
      },
      "source": [
        "#### **Solution**"
      ]
    },
    {
      "cell_type": "code",
      "execution_count": null,
      "metadata": {
        "id": "UZg9N52QYE2-"
      },
      "outputs": [],
      "source": [
        "numbers = [17, 15, 21, 33]\n",
        "print(numbers[2])"
      ]
    },
    {
      "cell_type": "markdown",
      "metadata": {
        "id": "a_jWISL6bJQI"
      },
      "source": [
        "### **Problem #2.9**\n",
        "\n",
        "Print `\"Math\"` using indexing."
      ]
    },
    {
      "cell_type": "code",
      "execution_count": null,
      "metadata": {
        "id": "dNlRvpp_bJQY"
      },
      "outputs": [],
      "source": [
        "subjects = [\"Math\", \"Science\", \"History\", \"English\"]"
      ]
    },
    {
      "cell_type": "markdown",
      "metadata": {
        "id": "OMB6CNWebJQY"
      },
      "source": [
        "#### **Solution**"
      ]
    },
    {
      "cell_type": "code",
      "execution_count": null,
      "metadata": {
        "id": "lt8G_WUtbJQZ"
      },
      "outputs": [],
      "source": [
        "subjects = [\"Math\", \"Science\", \"History\", \"English\"]\n",
        "print(subjects[0])"
      ]
    },
    {
      "cell_type": "markdown",
      "metadata": {
        "id": "v2z9pNIQbJ-d"
      },
      "source": [
        "### **Problem #2.10**\n",
        "\n",
        "Print `\"jellyfish\"` using indexing."
      ]
    },
    {
      "cell_type": "code",
      "execution_count": null,
      "metadata": {
        "id": "LimoSCoXbJ-e"
      },
      "outputs": [],
      "source": [
        "animals = [\"shark\", \"fish\", \"octopus\", \"jellyfish\", \"whale\"]"
      ]
    },
    {
      "cell_type": "markdown",
      "metadata": {
        "id": "gxv2yyOGbJ-e"
      },
      "source": [
        "#### **Solution**"
      ]
    },
    {
      "cell_type": "code",
      "execution_count": null,
      "metadata": {
        "id": "fT8iQpBCbJ-e"
      },
      "outputs": [],
      "source": [
        "animals = [\"shark\", \"fish\", \"octopus\", \"jellyfish\", \"whale\"]\n",
        "print(animals[4])"
      ]
    },
    {
      "cell_type": "markdown",
      "metadata": {
        "id": "WnWADPRmWFap"
      },
      "source": [
        "<center>\n",
        "\n",
        "---\n",
        "\n",
        "### **Back to Lecture**\n",
        "\n",
        "---"
      ]
    },
    {
      "cell_type": "markdown",
      "source": [
        "### **Problem #2.11**\n",
        "\n",
        "**Together**, let's replace the values of `41` and `20` in the provided list, `ascending`, so that the list is in ascending order."
      ],
      "metadata": {
        "id": "IM6-ftAOfPYl"
      }
    },
    {
      "cell_type": "code",
      "execution_count": null,
      "metadata": {
        "id": "wreiU5FJfPY5"
      },
      "outputs": [],
      "source": [
        "ascending = [12, 13, 41, 15, 16, 20, 18]"
      ]
    },
    {
      "cell_type": "markdown",
      "metadata": {
        "id": "Blm1F0S_fPY6"
      },
      "source": [
        "#### **Solution**"
      ]
    },
    {
      "cell_type": "code",
      "execution_count": null,
      "metadata": {
        "id": "m9ayJ9uvfPY6"
      },
      "outputs": [],
      "source": [
        "ascending = [12, 13, 41, 15, 16, 20, 18]\n",
        "ascending[2] = 14\n",
        "ascending[5] = 17\n",
        "print(ascending)"
      ]
    },
    {
      "cell_type": "markdown",
      "source": [
        "### **Problem #2.12**\n",
        "\n",
        "**Together**, let's modify the list `endangered` as follows:\n",
        "\n",
        "1. Replace `\"Tiger\"` with `\"Rhino\"`. Print the list.\n",
        "2. Replace `\"Snow leopard\"` with `\"Elephant\"`. Print the list."
      ],
      "metadata": {
        "id": "QNVBAx0lJNYc"
      }
    },
    {
      "cell_type": "code",
      "source": [
        "endangered = [\"Tiger\", \"Giant panda\", \"Snow leopard\", \"Vaquita\"]"
      ],
      "metadata": {
        "id": "NEaZyLVkkfG_"
      },
      "execution_count": null,
      "outputs": []
    },
    {
      "cell_type": "markdown",
      "source": [
        "#### **Solution**"
      ],
      "metadata": {
        "id": "chOVBYcpkgIg"
      }
    },
    {
      "cell_type": "code",
      "source": [
        "endangered = [\"Tiger\", \"Giant panda\", \"Snow leopard\", \"Vaquita\"]\n",
        "endangered[0] = \"Rhino\"\n",
        "print(endangered)\n",
        "endangered[2] = \"Elephant\"\n",
        "print(endangered)"
      ],
      "metadata": {
        "id": "p_ZiWeHUJpWP",
        "colab": {
          "base_uri": "https://localhost:8080/"
        },
        "outputId": "8d9f7036-a8be-42f8-e12f-9426151407e3"
      },
      "execution_count": null,
      "outputs": [
        {
          "output_type": "stream",
          "name": "stdout",
          "text": [
            "['Rhino', 'Giant panda', 'Snow leopard', 'Vaquita']\n",
            "['Rhino', 'Giant panda', 'Elephant', 'Vaquita']\n"
          ]
        }
      ]
    },
    {
      "cell_type": "markdown",
      "metadata": {
        "id": "B40N_2LPouEr"
      },
      "source": [
        "### **Problem #2.13**\n",
        "\n",
        "**Independently**, replace `\"monkeys\"` with `\"penguins\"` in the list below. Print the list."
      ]
    },
    {
      "cell_type": "code",
      "execution_count": null,
      "metadata": {
        "id": "Jgx-E6uCovBi"
      },
      "outputs": [],
      "source": [
        "fav_animals = [\"giraffes\", \"walruses\", \"pandas\", \"peacocks\", \"monkeys\"]"
      ]
    },
    {
      "cell_type": "markdown",
      "metadata": {
        "id": "J6JOwm5howPw"
      },
      "source": [
        "#### **Solution**"
      ]
    },
    {
      "cell_type": "code",
      "execution_count": null,
      "metadata": {
        "id": "j4ylJZeGoxil"
      },
      "outputs": [],
      "source": [
        "fav_animals = [\"giraffes\", \"walruses\", \"pandas\", \"peacocks\", \"monkeys\"]\n",
        "fav_animals[4] = \"penguins\"\n",
        "print(fav_animals)"
      ]
    },
    {
      "cell_type": "markdown",
      "source": [
        "### **Problem #2.14**\n",
        "\n",
        "Given the list `us_presidents`, replace `\"Jackson\"` with `\"Lincoln\"`, and then print the updated list."
      ],
      "metadata": {
        "id": "vZzf8GILuzv_"
      }
    },
    {
      "cell_type": "code",
      "source": [
        "us_presidents = [\"Washington\", \"Adams\", \"Jefferson\", \"Madison\", \"Jackson\"]"
      ],
      "metadata": {
        "id": "Jl0ouh8qvMjx"
      },
      "execution_count": null,
      "outputs": []
    },
    {
      "cell_type": "markdown",
      "source": [
        "#### **Solution**"
      ],
      "metadata": {
        "id": "jEaBfqCa40LY"
      }
    },
    {
      "cell_type": "code",
      "source": [
        "us_presidents = [\"Washington\", \"Adams\", \"Jefferson\", \"Madison\", \"Jackson\"]\n",
        "us_presidents[4] = \"Lincoln\"\n",
        "print(us_presidents)"
      ],
      "metadata": {
        "id": "0Hd09AVi41mF",
        "colab": {
          "base_uri": "https://localhost:8080/"
        },
        "outputId": "6f305383-fb20-433e-f360-3def841fde54"
      },
      "execution_count": null,
      "outputs": [
        {
          "output_type": "stream",
          "name": "stdout",
          "text": [
            "['Washington', 'Adams', 'Jefferson', 'Madison', 'Lincoln']\n"
          ]
        }
      ]
    },
    {
      "cell_type": "markdown",
      "source": [
        "### **Problem #2.15**\n",
        "\n",
        "Given the list `subjects`, replace `\"Science\"` with `\"Biology\"`. Print the list."
      ],
      "metadata": {
        "id": "MgBRqflxpOI_"
      }
    },
    {
      "cell_type": "code",
      "source": [
        "subjects = [\"Math\", \"Science\", \"History\", \"English\"]"
      ],
      "metadata": {
        "id": "eapHtysrpOJL"
      },
      "execution_count": null,
      "outputs": []
    },
    {
      "cell_type": "markdown",
      "source": [
        "#### **Solution**"
      ],
      "metadata": {
        "id": "0gEnRUyQpOJL"
      }
    },
    {
      "cell_type": "code",
      "source": [
        "subjects = [\"Math\", \"Science\", \"History\", \"English\"]\n",
        "subjects[1] = \"Biology\"\n",
        "print(subjects)"
      ],
      "metadata": {
        "colab": {
          "base_uri": "https://localhost:8080/"
        },
        "outputId": "04ac895d-e74f-4d7c-8d81-b077bfe4dc9b",
        "id": "UBAR8zX6pOJL"
      },
      "execution_count": null,
      "outputs": [
        {
          "output_type": "stream",
          "name": "stdout",
          "text": [
            "['Math', 'Biology', 'History', 'English']\n"
          ]
        }
      ]
    },
    {
      "cell_type": "markdown",
      "source": [
        "### **Problem #2.16**\n",
        "\n",
        "Given the list `odd`, replace the even numbers with odd numbers. Print the list."
      ],
      "metadata": {
        "id": "-KrgRO7OpOes"
      }
    },
    {
      "cell_type": "code",
      "source": [
        "odd = [3, 11, 19, 25, 12, 8]"
      ],
      "metadata": {
        "id": "ICeljXdVpOet"
      },
      "execution_count": null,
      "outputs": []
    },
    {
      "cell_type": "markdown",
      "source": [
        "#### **Solution**"
      ],
      "metadata": {
        "id": "ClkR4o_apOet"
      }
    },
    {
      "cell_type": "code",
      "source": [
        "odd = [3, 11, 19, 25, 12, 8]\n",
        "odd[4] = 7\n",
        "odd[5] = 33\n",
        "print(odd)"
      ],
      "metadata": {
        "colab": {
          "base_uri": "https://localhost:8080/"
        },
        "outputId": "f3fc09e1-536f-4702-fd68-5bebfd64ddee",
        "id": "WwE3q4cVpOeu"
      },
      "execution_count": null,
      "outputs": [
        {
          "output_type": "stream",
          "name": "stdout",
          "text": [
            "[3, 11, 19, 25, 7, 33]\n"
          ]
        }
      ]
    },
    {
      "cell_type": "markdown",
      "source": [
        "<center>\n",
        "\n",
        "---\n",
        "### **Back To Lecture**\n",
        "\n",
        "---\n"
      ],
      "metadata": {
        "id": "t-cDFSudb_BG"
      }
    },
    {
      "cell_type": "markdown",
      "source": [
        "### **Problem #2.17**\n",
        "\n",
        "**Together**, let's initialize a list called `subjects` and assign it three values: `\"English\"`, `\"Math\"`, `\"Physics\"`.\n",
        "\n",
        "1. Add `\"Computer Science\"` and then print the updated list.\n",
        "2. Add `\"Psychology\"` and then print the updated list.\n",
        "\n"
      ],
      "metadata": {
        "id": "CH3mBVBQ0dcQ"
      }
    },
    {
      "cell_type": "code",
      "source": [],
      "metadata": {
        "id": "wHIuEIXiewxj"
      },
      "execution_count": null,
      "outputs": []
    },
    {
      "cell_type": "markdown",
      "source": [
        "#### **Solution**"
      ],
      "metadata": {
        "id": "20rjZ1LYewxk"
      }
    },
    {
      "cell_type": "code",
      "source": [
        "subjects = [\"English\", \"Math\", \"Physics\"]\n",
        "subjects.append(\"Computer Science\")\n",
        "print(subjects)\n",
        "subjects.append(\"Psychology\")\n",
        "print(subjects)"
      ],
      "metadata": {
        "id": "BfZe1Zlu0d6G",
        "colab": {
          "base_uri": "https://localhost:8080/"
        },
        "outputId": "d069cc85-3fbb-41c0-fa3b-eb0a0b949b20"
      },
      "execution_count": null,
      "outputs": [
        {
          "output_type": "stream",
          "name": "stdout",
          "text": [
            "['English', 'Math', 'Physics', 'Computer Science']\n",
            "['English', 'Math', 'Physics', 'Computer Science', 'Psychology']\n"
          ]
        }
      ]
    },
    {
      "cell_type": "markdown",
      "source": [
        "### **Problem #2.18**\n",
        "\n",
        "**Together**, let's initialize an empty list called `endangered`. Append the following values to the list one at a time: `\"Tiger\"`, `\"Giant panda\"`, `\"Snow leopard\"`, and `\"Vaquita\"`.\n",
        "\n",
        "Print your list to make sure it is correct."
      ],
      "metadata": {
        "id": "wOMCSDWSJJGt"
      }
    },
    {
      "cell_type": "code",
      "source": [],
      "metadata": {
        "id": "eaiVkUDzkeNA"
      },
      "execution_count": null,
      "outputs": []
    },
    {
      "cell_type": "markdown",
      "source": [
        "#### **Solution**"
      ],
      "metadata": {
        "id": "Wwo39jfTioXX"
      }
    },
    {
      "cell_type": "code",
      "source": [
        "endangered = []\n",
        "endangered.append(\"Tiger\")\n",
        "endangered.append(\"Giant panda\")\n",
        "endangered.append(\"Snow leopard\")\n",
        "endangered.append(\"Vaquita\")\n",
        "print(endangered)"
      ],
      "metadata": {
        "id": "BDPkJkxAI-Mv",
        "colab": {
          "base_uri": "https://localhost:8080/"
        },
        "outputId": "8d6d5a62-ecd3-47b1-ae2b-f6f52f406278"
      },
      "execution_count": null,
      "outputs": [
        {
          "output_type": "stream",
          "name": "stdout",
          "text": [
            "['Tiger', 'Giant panda', 'Snow leopard', 'Vaquita']\n"
          ]
        }
      ]
    },
    {
      "cell_type": "markdown",
      "source": [
        "### **Problem #2.19**\n",
        "\n",
        "**Together**, let's remove all animals that live in the water from the list `land_animals`. Then print the list."
      ],
      "metadata": {
        "id": "4u7-AqFUtZFm"
      }
    },
    {
      "cell_type": "code",
      "source": [
        "land_animals = [\"dog\", \"tiger\", \"whale\", \"bear\", \"dolphin\", \"hamster\", \"shark\"]"
      ],
      "metadata": {
        "id": "_q2sFOyBtZFn"
      },
      "execution_count": null,
      "outputs": []
    },
    {
      "cell_type": "markdown",
      "source": [
        "#### **Solution**"
      ],
      "metadata": {
        "id": "eQNHmGoMtZFo"
      }
    },
    {
      "cell_type": "code",
      "source": [
        "land_animals = [\"dog\", \"tiger\", \"whale\", \"bear\", \"dolphin\", \"hamster\", \"shark\"]\n",
        "land_animals.remove(\"whale\")\n",
        "land_animals.remove(\"dolphin\")\n",
        "land_animals.remove(\"shark\")\n",
        "print(land_animals)"
      ],
      "metadata": {
        "colab": {
          "base_uri": "https://localhost:8080/"
        },
        "id": "29JgsQfEtZFo",
        "outputId": "f8892477-9d76-4b0d-ac78-ddc0c06d77df"
      },
      "execution_count": null,
      "outputs": [
        {
          "output_type": "stream",
          "name": "stdout",
          "text": [
            "['dog', 'tiger', 'bear', 'hamster']\n"
          ]
        }
      ]
    },
    {
      "cell_type": "markdown",
      "source": [
        "### **Problem #2.20**\n",
        "\n",
        "\n",
        "**Together**, let's remove all subjects that are not science subjects the list `sciences`. Then, print the list."
      ],
      "metadata": {
        "id": "Ycp0n3S4ttex"
      }
    },
    {
      "cell_type": "code",
      "source": [
        "sciences = [\"Physics\", \"\n",
        "Math\", \"History\", \"Chemistry\", \"Music\", \"Biology\"]"
      ],
      "metadata": {
        "id": "_cbWb4UfttfE"
      },
      "execution_count": null,
      "outputs": []
    },
    {
      "cell_type": "markdown",
      "source": [
        "#### **Solution**"
      ],
      "metadata": {
        "id": "7gaIhpAtttfF"
      }
    },
    {
      "cell_type": "code",
      "source": [
        "sciences = [\"Physics\", \"Math\", \"History\", \"Chemistry\", \"Music\", \"Biology\"]\n",
        "sciences.remove(\"Math\")\n",
        "sciences.remove(\"History\")\n",
        "sciences.remove(\"Music\")\n",
        "print(sciences)"
      ],
      "metadata": {
        "colab": {
          "base_uri": "https://localhost:8080/"
        },
        "id": "bGY3Duo5ttfF",
        "outputId": "a0d8d21a-4724-4e48-86ed-8e6178c12c5c"
      },
      "execution_count": null,
      "outputs": [
        {
          "output_type": "stream",
          "name": "stdout",
          "text": [
            "['Physics', 'Chemistry', 'Biology']\n"
          ]
        }
      ]
    },
    {
      "cell_type": "markdown",
      "source": [
        "### **Problem #2.21**\n",
        "\n",
        "**Independently**, given the  list `[10, 12, 12, 40]`, append your age to the list.\n",
        "\n",
        "\n",
        "\n"
      ],
      "metadata": {
        "id": "q89mZP6j2BGF"
      }
    },
    {
      "cell_type": "code",
      "source": [],
      "metadata": {
        "id": "hSgjRO9y2Ewf"
      },
      "execution_count": null,
      "outputs": []
    },
    {
      "cell_type": "markdown",
      "source": [
        "#### **Solution**"
      ],
      "metadata": {
        "id": "7W5-IBt02ET6"
      }
    },
    {
      "cell_type": "code",
      "source": [
        "ls = [10, 12, 12, 40]\n",
        "ls.append(30)"
      ],
      "metadata": {
        "id": "Gyzx6kau2G_5"
      },
      "execution_count": null,
      "outputs": []
    },
    {
      "cell_type": "markdown",
      "source": [
        "### **Problem #2.22**\n",
        "\n",
        "Initialize an empty list called `letters` and append the value `\"abc\"` three times."
      ],
      "metadata": {
        "id": "5KlKVgz3uxEf"
      }
    },
    {
      "cell_type": "code",
      "source": [],
      "metadata": {
        "id": "aENzXd89u33s"
      },
      "execution_count": null,
      "outputs": []
    },
    {
      "cell_type": "markdown",
      "source": [
        "#### **Solution**"
      ],
      "metadata": {
        "id": "Ys5_ew8IuyQd"
      }
    },
    {
      "cell_type": "code",
      "source": [
        "letters = []\n",
        "letters.append(\"abc\")\n",
        "letters.append(\"abc\")\n",
        "letters.append(\"abc\")\n",
        "print(letters)"
      ],
      "metadata": {
        "id": "1iAfzv9ZuykI",
        "colab": {
          "base_uri": "https://localhost:8080/"
        },
        "outputId": "dabf6b87-46cc-4cd1-e7df-fa87ac3af231"
      },
      "execution_count": null,
      "outputs": [
        {
          "output_type": "stream",
          "name": "stdout",
          "text": [
            "['abc', 'abc', 'abc']\n"
          ]
        }
      ]
    },
    {
      "cell_type": "markdown",
      "source": [
        "### **Problem #2.23**\n",
        "\n",
        "Given the list `us_presidents`, append `\"Nixon\"` to the list. Print the list."
      ],
      "metadata": {
        "id": "c5XePZMprTh6"
      }
    },
    {
      "cell_type": "code",
      "source": [
        "us_presidents = [\"Washington\", \"Adams\", \"Jefferson\", \"Madison\", \"Jackson\"]"
      ],
      "metadata": {
        "id": "J9edzZsVrTiI"
      },
      "execution_count": null,
      "outputs": []
    },
    {
      "cell_type": "markdown",
      "source": [
        "#### **Solution**"
      ],
      "metadata": {
        "id": "dyWSQof9rTiJ"
      }
    },
    {
      "cell_type": "code",
      "source": [
        "us_presidents = [\"Washington\", \"Adams\", \"Jefferson\", \"Madison\", \"Jackson\"]\n",
        "us_presidents.append(\"Nixon\")\n",
        "print(us_presidents)"
      ],
      "metadata": {
        "colab": {
          "base_uri": "https://localhost:8080/"
        },
        "id": "DIB_k1DMrTiJ",
        "outputId": "2b600c37-8c7c-4464-f760-cb903331b3b0"
      },
      "execution_count": null,
      "outputs": [
        {
          "output_type": "stream",
          "name": "stdout",
          "text": [
            "['Washington', 'Adams', 'Jefferson', 'Madison', 'Jackson', 'Nixon']\n"
          ]
        }
      ]
    },
    {
      "cell_type": "markdown",
      "source": [
        "### **Problem #2.24**\n",
        "\n",
        "Given the list below, remove `\"Gilmore Girls\"` and then print the list."
      ],
      "metadata": {
        "id": "sdsVbN-s2Hkl"
      }
    },
    {
      "cell_type": "code",
      "source": [
        "fav_tv = [\"Gilmore Girls\", \"Star Trek\", \"Stranger Things\", \"Ted Lasso\"]"
      ],
      "metadata": {
        "id": "JKOxCSzf2Kl-"
      },
      "execution_count": null,
      "outputs": []
    },
    {
      "cell_type": "markdown",
      "source": [
        "#### **Solution**"
      ],
      "metadata": {
        "id": "IIm4r5cB2NV5"
      }
    },
    {
      "cell_type": "code",
      "source": [
        "fav_tv = [\"Gilmore Girls\", \"Star Trek\", \"Stranger Things\", \"Ted Lasso\"]\n",
        "fav_tv.remove(\"Gilmore Girls\")\n",
        "print(fav_tv)"
      ],
      "metadata": {
        "id": "Ojjjtysi2Qfp",
        "colab": {
          "base_uri": "https://localhost:8080/"
        },
        "outputId": "356e5b78-cad6-43fc-be1d-62dc5d610d7c"
      },
      "execution_count": null,
      "outputs": [
        {
          "output_type": "stream",
          "name": "stdout",
          "text": [
            "['Star Trek', 'Stranger Things', 'Ted Lasso']\n"
          ]
        }
      ]
    },
    {
      "cell_type": "markdown",
      "source": [
        "### **Problem #2.25**\n",
        "\n",
        "Remove `3` from the list below."
      ],
      "metadata": {
        "id": "QtGXxEeM2V2r"
      }
    },
    {
      "cell_type": "code",
      "source": [
        "age_cats = [5, 3, 2, 4]"
      ],
      "metadata": {
        "id": "nOQVoCbe2WjR"
      },
      "execution_count": null,
      "outputs": []
    },
    {
      "cell_type": "markdown",
      "source": [
        "#### **Solution**"
      ],
      "metadata": {
        "id": "c-JsS-6G2YtC"
      }
    },
    {
      "cell_type": "code",
      "source": [
        "age_cats = [5, 3, 2, 4]\n",
        "age_cats.remove(3)"
      ],
      "metadata": {
        "id": "TJ2tf58H2aiK"
      },
      "execution_count": null,
      "outputs": []
    },
    {
      "cell_type": "markdown",
      "metadata": {
        "id": "5faNpr1toDo5"
      },
      "source": [
        "### **Problem #2.26**\n",
        "\n",
        "Remove `\"pandas\"` from the list below."
      ]
    },
    {
      "cell_type": "code",
      "execution_count": null,
      "metadata": {
        "id": "JKksRgv7oIWJ"
      },
      "outputs": [],
      "source": [
        "fav_animals = [\"giraffes\", \"walruses\", \"pandas\", \"peacocks\", \"monkeys\"]"
      ]
    },
    {
      "cell_type": "markdown",
      "metadata": {
        "id": "9jQegq5NoJt2"
      },
      "source": [
        "#### **Solution**"
      ]
    },
    {
      "cell_type": "code",
      "execution_count": null,
      "metadata": {
        "id": "fenL7BVZoK5S"
      },
      "outputs": [],
      "source": [
        "fav_animals = [\"giraffes\", \"walruses\", \"pandas\", \"peacocks\", \"monkeys\"]\n",
        "fav_animals.remove(\"pandas\")"
      ]
    },
    {
      "cell_type": "markdown",
      "source": [
        "<center>\n",
        "\n",
        "---\n",
        "### **Back To Lecture**\n",
        "---\n",
        "\n",
        "\n"
      ],
      "metadata": {
        "id": "0NWWg5iQ9dVC"
      }
    },
    {
      "cell_type": "markdown",
      "source": [
        "<a name=\"p3\"></a>\n",
        "\n",
        "---\n",
        "## **Part 3: [OPTIONAL] Lists and Indexing Practice**\n",
        "---"
      ],
      "metadata": {
        "id": "1JC1dFWc6FDv"
      }
    },
    {
      "cell_type": "markdown",
      "source": [
        "### **Problem #3.1**\n",
        "\n",
        "Initialize a list called `countries` of three different countries. Print the list."
      ],
      "metadata": {
        "id": "aR8G2Y7ygu3a"
      }
    },
    {
      "cell_type": "code",
      "source": [],
      "metadata": {
        "id": "yUfXhV8f6rl3"
      },
      "execution_count": null,
      "outputs": []
    },
    {
      "cell_type": "markdown",
      "source": [
        "#### **Solution**"
      ],
      "metadata": {
        "id": "XAyzkXgN7hNp"
      }
    },
    {
      "cell_type": "code",
      "source": [
        "countries = [\"United States\", \"Brazil\", \"Egypt\"]\n",
        "print(countries)"
      ],
      "metadata": {
        "id": "w1YRGs827h2p"
      },
      "execution_count": null,
      "outputs": []
    },
    {
      "cell_type": "markdown",
      "source": [
        "### **Problem #3.2**\n",
        "\n",
        "Initialize a list called `tv_shows` of five different TV shows. Print the list."
      ],
      "metadata": {
        "id": "1HkO3UoM6uTW"
      }
    },
    {
      "cell_type": "code",
      "source": [],
      "metadata": {
        "id": "xPYRJhsh7au4"
      },
      "execution_count": null,
      "outputs": []
    },
    {
      "cell_type": "markdown",
      "source": [
        "#### **Solution**"
      ],
      "metadata": {
        "id": "ZetmEx4G7iXm"
      }
    },
    {
      "cell_type": "code",
      "source": [
        "tv_shows = [\"The Office\", \"Friends\", \"Bridgerton\", \"Parks and Recreation\", \"Brooklyn Nine-Nine\" ]\n",
        "print(tv_shows)"
      ],
      "metadata": {
        "id": "_0WbErq37inw"
      },
      "execution_count": null,
      "outputs": []
    },
    {
      "cell_type": "markdown",
      "source": [
        "### **Problem #3.3**\n",
        "\n",
        "Use indexing to print the element `9`."
      ],
      "metadata": {
        "id": "fn7QNV2g6utF"
      }
    },
    {
      "cell_type": "code",
      "source": [
        "numbers = [1, 3, 5, 7, 9]"
      ],
      "metadata": {
        "id": "HFAdKG8c7bMQ"
      },
      "execution_count": null,
      "outputs": []
    },
    {
      "cell_type": "markdown",
      "source": [
        "#### **Solution**"
      ],
      "metadata": {
        "id": "SjKqEitf7jWL"
      }
    },
    {
      "cell_type": "code",
      "source": [
        "numbers = [1, 3, 5, 7, 9]\n",
        "print(numbers[4])"
      ],
      "metadata": {
        "id": "EmdDN2Vn7joT"
      },
      "execution_count": null,
      "outputs": []
    },
    {
      "cell_type": "markdown",
      "source": [
        "### **Problem #3.4**\n",
        "\n",
        "Print the first element in the given list."
      ],
      "metadata": {
        "id": "4xF86-z_6u2O"
      }
    },
    {
      "cell_type": "code",
      "source": [
        "ls = [\"first\", \"second\", \"third\"]"
      ],
      "metadata": {
        "id": "rPI54ctY7bsk"
      },
      "execution_count": null,
      "outputs": []
    },
    {
      "cell_type": "markdown",
      "source": [
        "#### **Solution**"
      ],
      "metadata": {
        "id": "rR-zFBEB7kHb"
      }
    },
    {
      "cell_type": "code",
      "source": [
        "ls = [\"first\", \"second\", \"third\"]\n",
        "print(ls[0])"
      ],
      "metadata": {
        "id": "Wxu75H_j7kcp"
      },
      "execution_count": null,
      "outputs": []
    },
    {
      "cell_type": "markdown",
      "source": [
        "### **Problem #3.5**\n",
        "\n",
        "Print the last element in the given list."
      ],
      "metadata": {
        "id": "1nI8kaTn6vAv"
      }
    },
    {
      "cell_type": "code",
      "source": [
        "flowers = [\"rose\", \"tulip\", \"dandelion\", \"sunflower\"]"
      ],
      "metadata": {
        "id": "vvno8PKg7cOw"
      },
      "execution_count": null,
      "outputs": []
    },
    {
      "cell_type": "markdown",
      "source": [
        "#### **Solution**"
      ],
      "metadata": {
        "id": "0OawC4h37lB8"
      }
    },
    {
      "cell_type": "code",
      "source": [
        "flowers = [\"rose\", \"tulip\", \"dandelion\", \"sunflower\"]\n",
        "print(flowers[3])"
      ],
      "metadata": {
        "id": "9gB8JHPq7lYJ"
      },
      "execution_count": null,
      "outputs": []
    },
    {
      "cell_type": "markdown",
      "source": [
        "### **Problem #3.6**\n",
        "\n",
        "Given the list `supplies`,\n",
        "add `\"notebook\"` to the list. Print the resulting list."
      ],
      "metadata": {
        "id": "OmUKcC0v6vHp"
      }
    },
    {
      "cell_type": "code",
      "source": [
        "supplies = [\"textbook\", \"pencil\", \"pen\"]"
      ],
      "metadata": {
        "id": "8wp1oRoY7cm-"
      },
      "execution_count": null,
      "outputs": []
    },
    {
      "cell_type": "markdown",
      "source": [
        "#### **Solution**"
      ],
      "metadata": {
        "id": "4mSZgxg47l6-"
      }
    },
    {
      "cell_type": "code",
      "source": [
        "supplies = [\"textbook\", \"pencil\", \"pen\"]\n",
        "supplies.append(\"notebook\")\n",
        "print(supplies)"
      ],
      "metadata": {
        "id": "4aOrzNA-7mOA",
        "colab": {
          "base_uri": "https://localhost:8080/"
        },
        "outputId": "ea919bbb-7725-449f-d928-afa955081236"
      },
      "execution_count": null,
      "outputs": [
        {
          "output_type": "stream",
          "name": "stdout",
          "text": [
            "['textbook', 'pencil', 'pen', 'notebook']\n"
          ]
        }
      ]
    },
    {
      "cell_type": "markdown",
      "source": [
        "### **Problem #3.7**\n",
        "\n",
        "Given the list `supplies`, remove `\"pen\"` from the list. Print the resulting list."
      ],
      "metadata": {
        "id": "FoS4nhGU6vNf"
      }
    },
    {
      "cell_type": "code",
      "source": [
        "supplies = [\"textbook\", \"pencil\", \"pen\", \"notebook\"]"
      ],
      "metadata": {
        "id": "6BIXlL5h7c-B"
      },
      "execution_count": null,
      "outputs": []
    },
    {
      "cell_type": "markdown",
      "source": [
        "#### **Solution**"
      ],
      "metadata": {
        "id": "1gUi8OoJ7m3K"
      }
    },
    {
      "cell_type": "code",
      "source": [
        "supplies = [\"textbook\", \"pencil\", \"pen\", \"notebook\"]\n",
        "supplies.remove(\"pen\")\n",
        "print(supplies)"
      ],
      "metadata": {
        "id": "hxZ87rp47nNT",
        "colab": {
          "base_uri": "https://localhost:8080/"
        },
        "outputId": "e3955944-54de-4a11-8147-1a9aa0553ff8"
      },
      "execution_count": null,
      "outputs": [
        {
          "output_type": "stream",
          "name": "stdout",
          "text": [
            "['textbook', 'pencil', 'notebook']\n"
          ]
        }
      ]
    },
    {
      "cell_type": "markdown",
      "source": [
        "### **Problem #3.8**\n",
        "\n",
        "Given the list `colors`, replace `\"grape\"` with `\"purple\"`. Print the resulting list."
      ],
      "metadata": {
        "id": "rU1c5xRo6vTo"
      }
    },
    {
      "cell_type": "code",
      "source": [
        "colors = [\"blue\", \"red\", \"green\", \"orange\", \"grape\"]"
      ],
      "metadata": {
        "id": "TkN8zIlE7deJ"
      },
      "execution_count": null,
      "outputs": []
    },
    {
      "cell_type": "markdown",
      "source": [
        "#### **Solution**"
      ],
      "metadata": {
        "id": "Tl0CDoeB7p13"
      }
    },
    {
      "cell_type": "code",
      "source": [
        "colors = [\"blue\", \"red\", \"green\", \"orange\", \"grape\"]\n",
        "colors[4] = \"purple\"\n",
        "print(colors)"
      ],
      "metadata": {
        "id": "ZP984DA-7qSL",
        "colab": {
          "base_uri": "https://localhost:8080/"
        },
        "outputId": "79f6842b-1bc6-4865-f4df-0d4db37d8858"
      },
      "execution_count": null,
      "outputs": [
        {
          "output_type": "stream",
          "name": "stdout",
          "text": [
            "['blue', 'red', 'green', 'orange', 'purple']\n"
          ]
        }
      ]
    },
    {
      "cell_type": "markdown",
      "source": [
        "### **Problem #3.9**\n",
        "\n",
        "Given the list `greetings`, remove the empty string. Print the resulting list."
      ],
      "metadata": {
        "id": "9jzIM3hL6vYp"
      }
    },
    {
      "cell_type": "code",
      "source": [
        "greetings = [\"hello\", \"\", \"hi\", \"hey\"]"
      ],
      "metadata": {
        "id": "JWLpCU9c7d0O"
      },
      "execution_count": null,
      "outputs": []
    },
    {
      "cell_type": "markdown",
      "source": [
        "#### **Solution**"
      ],
      "metadata": {
        "id": "04TDhUys7qrr"
      }
    },
    {
      "cell_type": "code",
      "source": [
        "greetings = [\"hello\", \"\", \"hi\", \"hey\"]\n",
        "greetings.remove(\"\")\n",
        "print(greetings)"
      ],
      "metadata": {
        "colab": {
          "base_uri": "https://localhost:8080/"
        },
        "id": "UTYec6cU7q_7",
        "outputId": "03fe2d76-9a38-4dda-e27e-d768e13bb3f9"
      },
      "execution_count": null,
      "outputs": [
        {
          "output_type": "stream",
          "name": "stdout",
          "text": [
            "['hello', 'hi', 'hey']\n"
          ]
        }
      ]
    },
    {
      "cell_type": "markdown",
      "source": [
        "### **Problem #3.10**\n",
        "\n",
        "Given the list `animals`, replace `\"zoo\"` with `giraffe`. Print the resulting list."
      ],
      "metadata": {
        "id": "wLkbvPzc6veV"
      }
    },
    {
      "cell_type": "code",
      "source": [
        "animals = [\"zoo\", \"dolphin\", \"horse\", \"bird\", \"gorilla\"]"
      ],
      "metadata": {
        "id": "WjheM0ZU7eoB"
      },
      "execution_count": null,
      "outputs": []
    },
    {
      "cell_type": "markdown",
      "source": [
        "#### **Solution**"
      ],
      "metadata": {
        "id": "AYf8GR0J7rlW"
      }
    },
    {
      "cell_type": "code",
      "source": [
        "animals = [\"zoo\", \"dolphin\", \"horse\", \"bird\", \"gorilla\"]\n",
        "animals[0] = \"giraffe\"\n",
        "print(animals)"
      ],
      "metadata": {
        "colab": {
          "base_uri": "https://localhost:8080/"
        },
        "id": "ibeMiGA17r5Z",
        "outputId": "899f88e6-9483-4199-8165-4037a139832e"
      },
      "execution_count": null,
      "outputs": [
        {
          "output_type": "stream",
          "name": "stdout",
          "text": [
            "['giraffe', 'dolphin', 'horse', 'bird', 'gorilla']\n"
          ]
        }
      ]
    },
    {
      "cell_type": "markdown",
      "source": [
        "### **Problem #3.11**\n",
        "\n",
        "Use indexing to print the largest number in the list."
      ],
      "metadata": {
        "id": "E9D-UlhIADN-"
      }
    },
    {
      "cell_type": "code",
      "source": [
        "numbers = [93, 27, 42, 31, 95, 97]"
      ],
      "metadata": {
        "id": "VgOsjfnSADN-"
      },
      "execution_count": null,
      "outputs": []
    },
    {
      "cell_type": "markdown",
      "source": [
        "#### **Solution**"
      ],
      "metadata": {
        "id": "f4d_k9LpADN_"
      }
    },
    {
      "cell_type": "code",
      "source": [
        "numbers = [93, 27, 42, 31, 95, 97]\n",
        "print(numbers[5])"
      ],
      "metadata": {
        "colab": {
          "base_uri": "https://localhost:8080/"
        },
        "outputId": "24806a39-5629-43f9-a0fa-be2313299ab9",
        "id": "tsDcEqRvADN_"
      },
      "execution_count": null,
      "outputs": [
        {
          "output_type": "stream",
          "name": "stdout",
          "text": [
            "97\n"
          ]
        }
      ]
    },
    {
      "cell_type": "markdown",
      "source": [
        "### **Problem #3.12**\n",
        "\n",
        "Initialize an empty list called `grocery_list`. Then, add the following items to the list, one at a time: `\"milk\"`, `\"eggs\"`, `\"bread\"`, `\"juice\"`, and `\"cheese\"`. Print the resulting list."
      ],
      "metadata": {
        "id": "lRsVWDOuADN6"
      }
    },
    {
      "cell_type": "code",
      "source": [],
      "metadata": {
        "id": "0V0CPoBDADN6"
      },
      "execution_count": null,
      "outputs": []
    },
    {
      "cell_type": "markdown",
      "source": [
        "#### **Solution**"
      ],
      "metadata": {
        "id": "b2sBpJxvADN7"
      }
    },
    {
      "cell_type": "code",
      "source": [
        "grocery_list = []\n",
        "grocery_list.append(\"milk\")\n",
        "grocery_list.append(\"eggs\")\n",
        "grocery_list.append(\"bread\")\n",
        "grocery_list.append(\"juice\")\n",
        "grocery_list.append(\"cheese\")\n",
        "print(grocery_list)"
      ],
      "metadata": {
        "id": "Ur2a8__9ADN7",
        "colab": {
          "base_uri": "https://localhost:8080/"
        },
        "outputId": "69bc22c4-1dc5-4155-9e1f-d2ae279461cc"
      },
      "execution_count": null,
      "outputs": [
        {
          "output_type": "stream",
          "name": "stdout",
          "text": [
            "['milk', 'eggs', 'bread', 'juice', 'cheese']\n"
          ]
        }
      ]
    },
    {
      "cell_type": "markdown",
      "source": [
        "### **Problem #3.13**\n",
        "\n",
        "Given the list `ls = [1, 2, 3, 4, 5]`, create a new list called `reversed_ls` such that it has the values of `ls` in reverse order. Print that list."
      ],
      "metadata": {
        "id": "SuqQO4-4_-oC"
      }
    },
    {
      "cell_type": "code",
      "source": [
        "ls = [1, 2, 3, 4, 5]"
      ],
      "metadata": {
        "id": "aBs-LgGq_-oV"
      },
      "execution_count": null,
      "outputs": []
    },
    {
      "cell_type": "markdown",
      "source": [
        "#### **Solution**"
      ],
      "metadata": {
        "id": "gQ3hE4Nu_-oW"
      }
    },
    {
      "cell_type": "code",
      "source": [
        "ls = [1, 2, 3, 4, 5]\n",
        "reversed_ls = [5, 4, 3, 2, 1]\n",
        "print(reversed_ls)"
      ],
      "metadata": {
        "id": "u9EmOKjD_-oW",
        "colab": {
          "base_uri": "https://localhost:8080/"
        },
        "outputId": "dfc7c20d-fd25-4a5b-c438-5996c3869f1e"
      },
      "execution_count": null,
      "outputs": [
        {
          "output_type": "stream",
          "name": "stdout",
          "text": [
            "[5, 4, 3, 2, 1]\n"
          ]
        }
      ]
    },
    {
      "cell_type": "markdown",
      "source": [
        "### **Problem #3.14**\n",
        "\n",
        "Given the list `ls = [\"h\", \"e\", \"l\", \"l\", \"o\"]`, print the concatenated string of the elements in the list."
      ],
      "metadata": {
        "id": "ubJ-KywFADN8"
      }
    },
    {
      "cell_type": "code",
      "source": [
        "ls = [\"h\", \"e\", \"l\", \"l\", \"o\"]"
      ],
      "metadata": {
        "id": "aHCSGFFFADN8"
      },
      "execution_count": null,
      "outputs": []
    },
    {
      "cell_type": "markdown",
      "source": [
        "#### **Solution**"
      ],
      "metadata": {
        "id": "mtm8_ymnADN8"
      }
    },
    {
      "cell_type": "code",
      "source": [
        "ls = [\"h\", \"e\", \"l\", \"l\", \"o\"]\n",
        "print(ls[0] + ls[1] + ls[2] + ls[3] + ls[4])"
      ],
      "metadata": {
        "id": "X95rW47VADN8",
        "colab": {
          "base_uri": "https://localhost:8080/"
        },
        "outputId": "3a92719b-4ddd-4b22-8814-26c41faa99b4"
      },
      "execution_count": null,
      "outputs": [
        {
          "output_type": "stream",
          "name": "stdout",
          "text": [
            "hello\n"
          ]
        }
      ]
    },
    {
      "cell_type": "markdown",
      "source": [
        "### **Problem #3.15**\n",
        "\n",
        "Given the list `months`, modify the list so that it contains all 12 months. Print the resulting list."
      ],
      "metadata": {
        "id": "DY2wNus6ADN_"
      }
    },
    {
      "cell_type": "code",
      "source": [
        "months = [\"January\", \"February\", \"March\", \"May\", \"June\", \"July\", \"September\", \"November\"]"
      ],
      "metadata": {
        "id": "70JsZsZWADN_"
      },
      "execution_count": null,
      "outputs": []
    },
    {
      "cell_type": "markdown",
      "source": [
        "#### **Solution**"
      ],
      "metadata": {
        "id": "Zo917LDQADOA"
      }
    },
    {
      "cell_type": "code",
      "source": [
        "months = [\"January\", \"February\", \"March\", \"May\", \"June\", \"July\", \"September\", \"November\"]\n",
        "months.append(\"April\")\n",
        "months.append(\"August\")\n",
        "months.append(\"October\")\n",
        "months.append(\"December\")\n",
        "print(months)"
      ],
      "metadata": {
        "id": "IonVrds0ADOA",
        "colab": {
          "base_uri": "https://localhost:8080/"
        },
        "outputId": "8cbb4597-5e96-479f-c7fa-df1182b5a1d2"
      },
      "execution_count": null,
      "outputs": [
        {
          "output_type": "stream",
          "name": "stdout",
          "text": [
            "['January', 'February', 'March', 'May', 'June', 'July', 'September', 'November', 'April', 'August', 'October', 'December']\n"
          ]
        }
      ]
    },
    {
      "cell_type": "markdown",
      "source": [
        "### **Problem #3.16**\n",
        "\n",
        "Given the list `numbers = [7, 12, 13, 15, 4, 8, 9]`, remove the even numbers from the list. Print the resulting list."
      ],
      "metadata": {
        "id": "kZou2IaoADN7"
      }
    },
    {
      "cell_type": "code",
      "source": [
        "numbers = [7, 12, 13, 15, 4, 8, 9]"
      ],
      "metadata": {
        "id": "S40-OHc8ADN7"
      },
      "execution_count": null,
      "outputs": []
    },
    {
      "cell_type": "markdown",
      "source": [
        "#### **Solution**"
      ],
      "metadata": {
        "id": "vKo8k4loADN7"
      }
    },
    {
      "cell_type": "code",
      "source": [
        "numbers = [7, 12, 13, 15, 4, 8, 9]\n",
        "numbers.remove(12)\n",
        "numbers.remove(4)\n",
        "numbers.remove(8)\n",
        "print(numbers)"
      ],
      "metadata": {
        "id": "-tYtv9XUADN7",
        "colab": {
          "base_uri": "https://localhost:8080/"
        },
        "outputId": "28673e56-431f-443a-9d1f-4e0d113ca1d0"
      },
      "execution_count": null,
      "outputs": [
        {
          "output_type": "stream",
          "name": "stdout",
          "text": [
            "[7, 13, 15, 9]\n"
          ]
        }
      ]
    },
    {
      "cell_type": "markdown",
      "source": [
        "### **Problem #3.17**\n",
        "\n",
        "Use indexing to print ```15```.\n"
      ],
      "metadata": {
        "id": "elp3kIirADN5"
      }
    },
    {
      "cell_type": "code",
      "source": [
        "numbers = [5, 7, 10, 14, 19]"
      ],
      "metadata": {
        "id": "DvCB3vv_ADN5"
      },
      "execution_count": null,
      "outputs": []
    },
    {
      "cell_type": "markdown",
      "source": [
        "#### **Solution**"
      ],
      "metadata": {
        "id": "eCFTELZKADN6"
      }
    },
    {
      "cell_type": "code",
      "source": [
        "numbers = [5, 7, 10, 14, 19]\n",
        "print(numbers[0] + numbers[2])"
      ],
      "metadata": {
        "colab": {
          "base_uri": "https://localhost:8080/"
        },
        "outputId": "16ac5f33-3249-4e1b-94c2-1a48b8595701",
        "id": "vLxxRqXgADN6"
      },
      "execution_count": null,
      "outputs": [
        {
          "output_type": "stream",
          "name": "stdout",
          "text": [
            "15\n"
          ]
        }
      ]
    },
    {
      "cell_type": "markdown",
      "source": [
        "### **Problem #3.18**\n",
        "\n",
        "Modify the list below so that it becomes `[100, 25, 60, 90, 40]`. Print the resulting list."
      ],
      "metadata": {
        "id": "8LKZoLXQADN9"
      }
    },
    {
      "cell_type": "code",
      "source": [
        "numbers = [10, 25, 40, 60, 90]"
      ],
      "metadata": {
        "id": "a3vedSR4ADN9"
      },
      "execution_count": null,
      "outputs": []
    },
    {
      "cell_type": "markdown",
      "source": [
        "#### **Solution**"
      ],
      "metadata": {
        "id": "kMrrfpt2ADN9"
      }
    },
    {
      "cell_type": "code",
      "source": [
        "numbers = [10, 25, 40, 60, 90]\n",
        "numbers[0] = 100\n",
        "numbers.remove(40)\n",
        "numbers.append(40)\n",
        "print(numbers)"
      ],
      "metadata": {
        "colab": {
          "base_uri": "https://localhost:8080/"
        },
        "outputId": "bc8c29ad-f14b-49a5-8a6b-498c10d1e109",
        "id": "gkncgim6ADN9"
      },
      "execution_count": null,
      "outputs": [
        {
          "output_type": "stream",
          "name": "stdout",
          "text": [
            "[100, 25, 60, 90, 40]\n"
          ]
        }
      ]
    },
    {
      "cell_type": "markdown",
      "source": [
        "#End of notebook\n",
        "---\n",
        "© 2023 The Coding School, All rights reserved"
      ],
      "metadata": {
        "id": "7dzC09dLlEhm"
      }
    }
  ],
  "metadata": {
    "colab": {
      "provenance": [],
      "include_colab_link": true
    },
    "kernelspec": {
      "display_name": "Python 3",
      "name": "python3"
    },
    "language_info": {
      "name": "python"
    }
  },
  "nbformat": 4,
  "nbformat_minor": 0
}