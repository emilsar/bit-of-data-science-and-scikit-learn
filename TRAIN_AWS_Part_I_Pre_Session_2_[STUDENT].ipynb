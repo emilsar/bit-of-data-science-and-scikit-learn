{
  "cells": [
    {
      "cell_type": "markdown",
      "metadata": {
        "id": "view-in-github",
        "colab_type": "text"
      },
      "source": [
        "<a href=\"https://colab.research.google.com/github/emilsar/bit-of-data-science-and-scikit-learn/blob/master/TRAIN_AWS_Part_I_Pre_Session_2_%5BSTUDENT%5D.ipynb\" target=\"_parent\"><img src=\"https://colab.research.google.com/assets/colab-badge.svg\" alt=\"Open In Colab\"/></a>"
      ]
    },
    {
      "cell_type": "markdown",
      "source": [
        "# **Pre-Session 2: Introduction to Python**\n",
        "---\n",
        "\n",
        "### **Description**\n",
        "In this lab, we will continue learn the basics of coding in python that will be necessary for machine learning in the following days.\n",
        "\n",
        "<br>\n",
        "\n",
        "### **Lab Structure**\n",
        "* **Part 1**: [Review](#p1)\n",
        "* **Part 2**: [Lists](#p2)\n",
        "* **Part 3**: [[OPTIONAL] Lists and Indexing Practice](#p3)\n",
        "\n",
        "\n",
        "<br>\n",
        "\n",
        "### **Goals**\n",
        "By the end of this lab, you will:\n",
        "* Feel comfortable with print statements, variables, and data types in python.\n",
        "* Be familiar with lists and indexing.\n",
        "\n",
        "<br>\n",
        "\n",
        "### **Cheat Sheets**\n",
        "* [Python Basics](https://docs.google.com/document/d/1jC6zIdBukfEoJ8CesGf_usCtK2P6pJTWe5oxopC49aY/edit?usp=sharing)"
      ],
      "metadata": {
        "id": "mbZXQ3rA3NwL"
      }
    },
    {
      "cell_type": "markdown",
      "source": [
        "<a name=\"p1\"></a>\n",
        "\n",
        "\n",
        "---\n",
        "## **Part 1: Review**\n",
        "---"
      ],
      "metadata": {
        "id": "ZxdGPNWQRiJh"
      }
    },
    {
      "cell_type": "markdown",
      "metadata": {
        "id": "-tmSZ5MiI0T6"
      },
      "source": [
        "### **Problem #1.1**\n",
        "\n",
        "Print your age.\n",
        "\n"
      ]
    },
    {
      "cell_type": "code",
      "execution_count": null,
      "metadata": {
        "id": "eimDOZ9iIn_6"
      },
      "outputs": [],
      "source": []
    },
    {
      "cell_type": "markdown",
      "metadata": {
        "id": "vIuM5XBXI5Oe"
      },
      "source": [
        "### **Problem #1.2**\n",
        "\n",
        "Print your name.\n",
        "\n"
      ]
    },
    {
      "cell_type": "code",
      "execution_count": null,
      "metadata": {
        "id": "eSnP-nCvQ5RI"
      },
      "outputs": [],
      "source": []
    },
    {
      "cell_type": "markdown",
      "source": [
        "### **Problem #1.3**\n",
        "\n",
        "What are the following data types?\n",
        "\n",
        "```python\n",
        "11\n",
        "\"zipcode\"\n",
        "3.0\n",
        "3\n",
        "\"yellow\"\n",
        "[1, 2, 3]\n",
        "-11\n",
        "[\"peaches\", \"grapes\", \"tomatoes\"]\n",
        "\"49ers\"\n",
        "```"
      ],
      "metadata": {
        "id": "3DbiAes6odAP"
      }
    },
    {
      "cell_type": "markdown",
      "source": [
        "### **Problem #1.4**\n",
        "\n",
        "Create a variable called `name` and assign it to your name. Then print a statement that reads: `Welcome back, [YOUR NAME]`"
      ],
      "metadata": {
        "id": "JwQ_Dl6epNbl"
      }
    },
    {
      "cell_type": "code",
      "source": [],
      "metadata": {
        "id": "VU19noUzpQ1d"
      },
      "execution_count": null,
      "outputs": []
    },
    {
      "cell_type": "markdown",
      "metadata": {
        "id": "YzJwWlLU6oUp"
      },
      "source": [
        "### **Problem #1.5**\n",
        "\n",
        "Using the variable `zipcode`, print: `\"My zipcode is <zipcode>\"`."
      ]
    },
    {
      "cell_type": "code",
      "execution_count": null,
      "metadata": {
        "id": "DLWD4qoe603N"
      },
      "outputs": [],
      "source": [
        "zipcode = 11780"
      ]
    },
    {
      "cell_type": "markdown",
      "metadata": {
        "id": "qr8upnhn7C8-"
      },
      "source": [
        "### **Problem #1.6**\n",
        "\n",
        "Print the sum of 76 and 92."
      ]
    },
    {
      "cell_type": "code",
      "execution_count": null,
      "metadata": {
        "id": "xxCYqOjM7KK3"
      },
      "outputs": [],
      "source": []
    },
    {
      "cell_type": "markdown",
      "metadata": {
        "id": "LB9hjApu7PDt"
      },
      "source": [
        "### **Problem #1.7**\n",
        "\n",
        "Print the product of 2 and 45.0."
      ]
    },
    {
      "cell_type": "code",
      "execution_count": null,
      "metadata": {
        "id": "UNnCPWsX7V5k"
      },
      "outputs": [],
      "source": []
    },
    {
      "cell_type": "markdown",
      "metadata": {
        "id": "xKpsappT7gXZ"
      },
      "source": [
        "### **Problem #1.8**\n",
        "\n",
        "Print the sum of students and teachers."
      ]
    },
    {
      "cell_type": "code",
      "execution_count": null,
      "metadata": {
        "id": "Krv3SJpg77S9"
      },
      "outputs": [],
      "source": [
        "students = 35\n",
        "teachers = 1\n",
        "# add code here"
      ]
    },
    {
      "cell_type": "markdown",
      "source": [
        "### **Problem #1.9**\n",
        "\n",
        "Create a variable named `participants`. Set it equal to the number of participants in this zoom. Use this variable to print \"There are [x] participants in this zoom.\""
      ],
      "metadata": {
        "id": "ikilPWuzZVt0"
      }
    },
    {
      "cell_type": "code",
      "source": [],
      "metadata": {
        "id": "rNw4ZBZpZVZU"
      },
      "execution_count": null,
      "outputs": []
    },
    {
      "cell_type": "markdown",
      "metadata": {
        "id": "0xLrJZzMJCT8"
      },
      "source": [
        "<center>\n",
        "\n",
        "---\n",
        "\n",
        "### **Back to Lecture**\n",
        "\n",
        "---"
      ]
    },
    {
      "cell_type": "markdown",
      "source": [
        "<a name=\"p2\"></a>\n",
        "\n",
        "---\n",
        "## **Part 2: Lists**\n",
        "---"
      ],
      "metadata": {
        "id": "loojxB3pRWyg"
      }
    },
    {
      "cell_type": "markdown",
      "source": [
        "### **Problem #2.1**\n",
        "\n",
        "**Together**, let's create a list called `states` of 4 different U.S. states. Print the list.\n",
        "\n",
        "<br>\n",
        "\n",
        "**NOTE**: When you create a list, this is referred to as *initializing a list*."
      ],
      "metadata": {
        "id": "kTwSOV67Wwms"
      }
    },
    {
      "cell_type": "code",
      "source": [
        "states = [\"Montana\", \"California\", \"Alabama\", \"Georgia\"]\n",
        "print(states)"
      ],
      "metadata": {
        "id": "r_46chQTvmIK"
      },
      "execution_count": null,
      "outputs": []
    },
    {
      "cell_type": "markdown",
      "source": [
        "### **Problem #2.2**\n",
        "\n",
        "**Together**, let's initialize a list called `even` of all even numbers from 1-10. Print the list."
      ],
      "metadata": {
        "id": "VCKoULo_4Hbh"
      }
    },
    {
      "cell_type": "code",
      "source": [
        "even = [# COMPLETE THIS LINE\n",
        "print(even)"
      ],
      "metadata": {
        "id": "ikoj_76Y4LTW"
      },
      "execution_count": null,
      "outputs": []
    },
    {
      "cell_type": "markdown",
      "source": [
        "### **Problem #2.3**\n",
        "\n",
        "**Together**, let's use indexing to print out `“code!”` from the following list."
      ],
      "metadata": {
        "id": "-2sudpUxdzTe"
      }
    },
    {
      "cell_type": "code",
      "execution_count": null,
      "metadata": {
        "id": "myCEwtzJWfLF"
      },
      "outputs": [],
      "source": [
        "ls = [\"I\", \"love\", \"to\", \"code!\"]"
      ]
    },
    {
      "cell_type": "markdown",
      "metadata": {
        "id": "jSVb4xoQWg3y"
      },
      "source": [
        "### **Problem #2.4**\n",
        "\n",
        "**Together**, let's use indexing to print Alexus' name from the following list."
      ]
    },
    {
      "cell_type": "code",
      "execution_count": null,
      "metadata": {
        "id": "JFz5_XI8W7uJ"
      },
      "outputs": [],
      "source": [
        "family = [\"Rebecca\", \"Samuel\", \"Indiyah\", \"Alexus\"]"
      ]
    },
    {
      "cell_type": "markdown",
      "source": [
        "### **Problem #2.5**\n",
        "\n",
        "**Independently**, initialize a list called `count` of numbers 1-6. Print the list."
      ],
      "metadata": {
        "id": "9MdTwgfcP8uh"
      }
    },
    {
      "cell_type": "code",
      "source": [],
      "metadata": {
        "id": "x9_mZ9QxP-fM"
      },
      "execution_count": null,
      "outputs": []
    },
    {
      "cell_type": "markdown",
      "source": [
        "### **Problem #2.6**\n",
        "\n",
        "Initialize a list called `animals` of your three favorite animals. Print the list."
      ],
      "metadata": {
        "id": "hUyLcpciQCBj"
      }
    },
    {
      "cell_type": "code",
      "source": [],
      "metadata": {
        "id": "UHXqiezBQsxc"
      },
      "execution_count": null,
      "outputs": []
    },
    {
      "cell_type": "markdown",
      "metadata": {
        "id": "MnVf2J1EXJhA"
      },
      "source": [
        "### **Problem #2.7**\n",
        "\n",
        "Use indexing to print out `\"the\"` in the provided list."
      ]
    },
    {
      "cell_type": "code",
      "execution_count": null,
      "metadata": {
        "id": "zPaDSFOVXO5K"
      },
      "outputs": [],
      "source": [
        "ls = [\"welcome\", \"to\", \"the\", \"coding\", \"school\"]"
      ]
    },
    {
      "cell_type": "markdown",
      "metadata": {
        "id": "qBEfMrArX-b2"
      },
      "source": [
        "### **Problem #2.8**\n",
        "\n",
        "Print `21` using indexing."
      ]
    },
    {
      "cell_type": "code",
      "execution_count": null,
      "metadata": {
        "id": "Alxt6MWqYDMO"
      },
      "outputs": [],
      "source": [
        "numbers = [17, 15, 21, 33]"
      ]
    },
    {
      "cell_type": "markdown",
      "metadata": {
        "id": "a_jWISL6bJQI"
      },
      "source": [
        "### **Problem #2.9**\n",
        "\n",
        "Print `\"Math\"` using indexing."
      ]
    },
    {
      "cell_type": "code",
      "execution_count": null,
      "metadata": {
        "id": "dNlRvpp_bJQY"
      },
      "outputs": [],
      "source": [
        "subjects = [\"Math\", \"Science\", \"History\", \"English\"]"
      ]
    },
    {
      "cell_type": "markdown",
      "metadata": {
        "id": "v2z9pNIQbJ-d"
      },
      "source": [
        "### **Problem #2.10**\n",
        "\n",
        "Print `\"jellyfish\"` using indexing."
      ]
    },
    {
      "cell_type": "code",
      "execution_count": null,
      "metadata": {
        "id": "LimoSCoXbJ-e"
      },
      "outputs": [],
      "source": [
        "animals = [\"shark\", \"fish\", \"octopus\", \"jellyfish\", \"whale\"]"
      ]
    },
    {
      "cell_type": "markdown",
      "metadata": {
        "id": "WnWADPRmWFap"
      },
      "source": [
        "<center>\n",
        "\n",
        "---\n",
        "\n",
        "### **Back to Lecture**\n",
        "\n",
        "---"
      ]
    },
    {
      "cell_type": "markdown",
      "source": [
        "### **Problem #2.11**\n",
        "\n",
        "**Together**, let's replace the values of `41` and `20` in the provided list, `ascending`, so that the list is in ascending order."
      ],
      "metadata": {
        "id": "IM6-ftAOfPYl"
      }
    },
    {
      "cell_type": "code",
      "execution_count": null,
      "metadata": {
        "id": "wreiU5FJfPY5"
      },
      "outputs": [],
      "source": [
        "ascending = [12, 13, 41, 15, 16, 20, 18]"
      ]
    },
    {
      "cell_type": "markdown",
      "source": [
        "### **Problem #2.12**\n",
        "\n",
        "**Together**, let's modify the list `endangered` as follows:\n",
        "\n",
        "1. Replace `\"Tiger\"` with `\"Rhino\"`. Print the list.\n",
        "2. Replace `\"Snow leopard\"` with `\"Elephant\"`. Print the list."
      ],
      "metadata": {
        "id": "QNVBAx0lJNYc"
      }
    },
    {
      "cell_type": "code",
      "source": [
        "endangered = [\"Tiger\", \"Giant panda\", \"Snow leopard\", \"Vaquita\"]"
      ],
      "metadata": {
        "id": "NEaZyLVkkfG_"
      },
      "execution_count": null,
      "outputs": []
    },
    {
      "cell_type": "markdown",
      "metadata": {
        "id": "B40N_2LPouEr"
      },
      "source": [
        "### **Problem #2.13**\n",
        "\n",
        "**Independently**, replace `\"monkeys\"` with `\"penguins\"` in the list below. Print the list."
      ]
    },
    {
      "cell_type": "code",
      "execution_count": null,
      "metadata": {
        "id": "Jgx-E6uCovBi"
      },
      "outputs": [],
      "source": [
        "fav_animals = [\"giraffes\", \"walruses\", \"pandas\", \"peacocks\", \"monkeys\"]"
      ]
    },
    {
      "cell_type": "markdown",
      "source": [
        "### **Problem #2.14**\n",
        "\n",
        "Given the list `us_presidents`, replace `\"Jackson\"` with `\"Lincoln\"`, and then print the updated list."
      ],
      "metadata": {
        "id": "vZzf8GILuzv_"
      }
    },
    {
      "cell_type": "code",
      "source": [
        "us_presidents = [\"Washington\", \"Adams\", \"Jefferson\", \"Madison\", \"Jackson\"]"
      ],
      "metadata": {
        "id": "Jl0ouh8qvMjx"
      },
      "execution_count": null,
      "outputs": []
    },
    {
      "cell_type": "markdown",
      "source": [
        "### **Problem #2.15**\n",
        "\n",
        "Given the list `subjects`, replace `\"Science\"` with `\"Biology\"`. Print the list."
      ],
      "metadata": {
        "id": "MgBRqflxpOI_"
      }
    },
    {
      "cell_type": "code",
      "source": [
        "subjects = [\"Math\", \"Science\", \"History\", \"English\"]"
      ],
      "metadata": {
        "id": "eapHtysrpOJL"
      },
      "execution_count": null,
      "outputs": []
    },
    {
      "cell_type": "markdown",
      "source": [
        "### **Problem #2.16**\n",
        "\n",
        "Given the list `odd`, replace the even numbers with odd numbers. Print the list."
      ],
      "metadata": {
        "id": "-KrgRO7OpOes"
      }
    },
    {
      "cell_type": "code",
      "source": [
        "odd = [3, 11, 19, 25, 12, 8]"
      ],
      "metadata": {
        "id": "ICeljXdVpOet"
      },
      "execution_count": null,
      "outputs": []
    },
    {
      "cell_type": "markdown",
      "source": [
        "<center>\n",
        "\n",
        "---\n",
        "### **Back To Lecture**\n",
        "\n",
        "---\n"
      ],
      "metadata": {
        "id": "t-cDFSudb_BG"
      }
    },
    {
      "cell_type": "markdown",
      "source": [
        "### **Problem #2.17**\n",
        "\n",
        "**Together**, let's initialize a list called `subjects` and assign it three values: `\"English\"`, `\"Math\"`, `\"Physics\"`.\n",
        "\n",
        "1. Add `\"Computer Science\"` and then print the updated list.\n",
        "2. Add `\"Psychology\"` and then print the updated list.\n",
        "\n"
      ],
      "metadata": {
        "id": "CH3mBVBQ0dcQ"
      }
    },
    {
      "cell_type": "code",
      "source": [],
      "metadata": {
        "id": "wHIuEIXiewxj"
      },
      "execution_count": null,
      "outputs": []
    },
    {
      "cell_type": "markdown",
      "source": [
        "### **Problem #2.18**\n",
        "\n",
        "**Together**, let's initialize an empty list called `endangered`. Append the following values to the list one at a time: `\"Tiger\"`, `\"Giant panda\"`, `\"Snow leopard\"`, and `\"Vaquita\"`.\n",
        "\n",
        "Print your list to make sure it is correct."
      ],
      "metadata": {
        "id": "wOMCSDWSJJGt"
      }
    },
    {
      "cell_type": "code",
      "source": [],
      "metadata": {
        "id": "eaiVkUDzkeNA"
      },
      "execution_count": null,
      "outputs": []
    },
    {
      "cell_type": "markdown",
      "source": [
        "### **Problem #2.19**\n",
        "\n",
        "**Together**, let's remove all animals that live in the water from the list `land_animals`. Then print the list."
      ],
      "metadata": {
        "id": "4u7-AqFUtZFm"
      }
    },
    {
      "cell_type": "code",
      "source": [
        "land_animals = [\"dog\", \"tiger\", \"whale\", \"bear\", \"dolphin\", \"hamster\", \"shark\"]"
      ],
      "metadata": {
        "id": "_q2sFOyBtZFn"
      },
      "execution_count": null,
      "outputs": []
    },
    {
      "cell_type": "markdown",
      "source": [
        "### **Problem #2.20**\n",
        "\n",
        "\n",
        "**Together**, let's remove all subjects that are not science subjects the list `sciences`. Then, print the list."
      ],
      "metadata": {
        "id": "Ycp0n3S4ttex"
      }
    },
    {
      "cell_type": "code",
      "source": [
        "sciences = [\"Physics\", \"\n",
        "Math\", \"History\", \"Chemistry\", \"Music\", \"Biology\"]"
      ],
      "metadata": {
        "id": "_cbWb4UfttfE"
      },
      "execution_count": null,
      "outputs": []
    },
    {
      "cell_type": "markdown",
      "source": [
        "### **Problem #2.21**\n",
        "\n",
        "**Independently**, given the  list `[10, 12, 12, 40]`, append your age to the list.\n",
        "\n",
        "\n",
        "\n"
      ],
      "metadata": {
        "id": "q89mZP6j2BGF"
      }
    },
    {
      "cell_type": "code",
      "source": [],
      "metadata": {
        "id": "hSgjRO9y2Ewf"
      },
      "execution_count": null,
      "outputs": []
    },
    {
      "cell_type": "markdown",
      "source": [
        "### **Problem #2.22**\n",
        "\n",
        "Initialize an empty list called `letters` and append the value `\"abc\"` three times."
      ],
      "metadata": {
        "id": "5KlKVgz3uxEf"
      }
    },
    {
      "cell_type": "code",
      "source": [],
      "metadata": {
        "id": "aENzXd89u33s"
      },
      "execution_count": null,
      "outputs": []
    },
    {
      "cell_type": "markdown",
      "source": [
        "### **Problem #2.23**\n",
        "\n",
        "Given the list `us_presidents`, append `\"Nixon\"` to the list. Print the list."
      ],
      "metadata": {
        "id": "c5XePZMprTh6"
      }
    },
    {
      "cell_type": "code",
      "source": [
        "us_presidents = [\"Washington\", \"Adams\", \"Jefferson\", \"Madison\", \"Jackson\"]"
      ],
      "metadata": {
        "id": "J9edzZsVrTiI"
      },
      "execution_count": null,
      "outputs": []
    },
    {
      "cell_type": "markdown",
      "source": [
        "### **Problem #2.24**\n",
        "\n",
        "Given the list below, remove `\"Gilmore Girls\"` and then print the list."
      ],
      "metadata": {
        "id": "sdsVbN-s2Hkl"
      }
    },
    {
      "cell_type": "code",
      "source": [
        "fav_tv = [\"Gilmore Girls\", \"Star Trek\", \"Stranger Things\", \"Ted Lasso\"]"
      ],
      "metadata": {
        "id": "JKOxCSzf2Kl-"
      },
      "execution_count": null,
      "outputs": []
    },
    {
      "cell_type": "markdown",
      "source": [
        "### **Problem #2.25**\n",
        "\n",
        "Remove `3` from the list below."
      ],
      "metadata": {
        "id": "QtGXxEeM2V2r"
      }
    },
    {
      "cell_type": "code",
      "source": [
        "age_cats = [5, 3, 2, 4]"
      ],
      "metadata": {
        "id": "nOQVoCbe2WjR"
      },
      "execution_count": null,
      "outputs": []
    },
    {
      "cell_type": "markdown",
      "metadata": {
        "id": "5faNpr1toDo5"
      },
      "source": [
        "### **Problem #2.26**\n",
        "\n",
        "Remove `\"pandas\"` from the list below."
      ]
    },
    {
      "cell_type": "code",
      "execution_count": null,
      "metadata": {
        "id": "JKksRgv7oIWJ"
      },
      "outputs": [],
      "source": [
        "fav_animals = [\"giraffes\", \"walruses\", \"pandas\", \"peacocks\", \"monkeys\"]"
      ]
    },
    {
      "cell_type": "markdown",
      "source": [
        "<center>\n",
        "\n",
        "---\n",
        "### **Back To Lecture**\n",
        "---\n",
        "\n",
        "\n"
      ],
      "metadata": {
        "id": "0NWWg5iQ9dVC"
      }
    },
    {
      "cell_type": "markdown",
      "source": [
        "<a name=\"p3\"></a>\n",
        "\n",
        "---\n",
        "## **Part 3: [OPTIONAL] Lists and Indexing Practice**\n",
        "---"
      ],
      "metadata": {
        "id": "1JC1dFWc6FDv"
      }
    },
    {
      "cell_type": "markdown",
      "source": [
        "### **Problem #3.1**\n",
        "\n",
        "Initialize a list called `countries` of three different countries. Print the list."
      ],
      "metadata": {
        "id": "aR8G2Y7ygu3a"
      }
    },
    {
      "cell_type": "code",
      "source": [],
      "metadata": {
        "id": "yUfXhV8f6rl3"
      },
      "execution_count": null,
      "outputs": []
    },
    {
      "cell_type": "markdown",
      "source": [
        "### **Problem #3.2**\n",
        "\n",
        "Initialize a list called `tv_shows` of five different TV shows. Print the list."
      ],
      "metadata": {
        "id": "1HkO3UoM6uTW"
      }
    },
    {
      "cell_type": "code",
      "source": [],
      "metadata": {
        "id": "xPYRJhsh7au4"
      },
      "execution_count": null,
      "outputs": []
    },
    {
      "cell_type": "markdown",
      "source": [
        "### **Problem #3.3**\n",
        "\n",
        "Use indexing to print the element `9`."
      ],
      "metadata": {
        "id": "fn7QNV2g6utF"
      }
    },
    {
      "cell_type": "code",
      "source": [
        "numbers = [1, 3, 5, 7, 9]"
      ],
      "metadata": {
        "id": "HFAdKG8c7bMQ"
      },
      "execution_count": null,
      "outputs": []
    },
    {
      "cell_type": "markdown",
      "source": [
        "### **Problem #3.4**\n",
        "\n",
        "Print the first element in the given list."
      ],
      "metadata": {
        "id": "4xF86-z_6u2O"
      }
    },
    {
      "cell_type": "code",
      "source": [
        "ls = [\"first\", \"second\", \"third\"]"
      ],
      "metadata": {
        "id": "rPI54ctY7bsk"
      },
      "execution_count": null,
      "outputs": []
    },
    {
      "cell_type": "markdown",
      "source": [
        "### **Problem #3.5**\n",
        "\n",
        "Print the last element in the given list."
      ],
      "metadata": {
        "id": "1nI8kaTn6vAv"
      }
    },
    {
      "cell_type": "code",
      "source": [
        "flowers = [\"rose\", \"tulip\", \"dandelion\", \"sunflower\"]"
      ],
      "metadata": {
        "id": "vvno8PKg7cOw"
      },
      "execution_count": null,
      "outputs": []
    },
    {
      "cell_type": "markdown",
      "source": [
        "### **Problem #3.6**\n",
        "\n",
        "Given the list `supplies`,\n",
        "add `\"notebook\"` to the list. Print the resulting list."
      ],
      "metadata": {
        "id": "OmUKcC0v6vHp"
      }
    },
    {
      "cell_type": "code",
      "source": [
        "supplies = [\"textbook\", \"pencil\", \"pen\"]"
      ],
      "metadata": {
        "id": "8wp1oRoY7cm-"
      },
      "execution_count": null,
      "outputs": []
    },
    {
      "cell_type": "markdown",
      "source": [
        "### **Problem #3.7**\n",
        "\n",
        "Given the list `supplies`, remove `\"pen\"` from the list. Print the resulting list."
      ],
      "metadata": {
        "id": "FoS4nhGU6vNf"
      }
    },
    {
      "cell_type": "code",
      "source": [
        "supplies = [\"textbook\", \"pencil\", \"pen\", \"notebook\"]"
      ],
      "metadata": {
        "id": "6BIXlL5h7c-B"
      },
      "execution_count": null,
      "outputs": []
    },
    {
      "cell_type": "markdown",
      "source": [
        "### **Problem #3.8**\n",
        "\n",
        "Given the list `colors`, replace `\"grape\"` with `\"purple\"`. Print the resulting list."
      ],
      "metadata": {
        "id": "rU1c5xRo6vTo"
      }
    },
    {
      "cell_type": "code",
      "source": [
        "colors = [\"blue\", \"red\", \"green\", \"orange\", \"grape\"]"
      ],
      "metadata": {
        "id": "TkN8zIlE7deJ"
      },
      "execution_count": null,
      "outputs": []
    },
    {
      "cell_type": "markdown",
      "source": [
        "### **Problem #3.9**\n",
        "\n",
        "Given the list `greetings`, remove the empty string. Print the resulting list."
      ],
      "metadata": {
        "id": "9jzIM3hL6vYp"
      }
    },
    {
      "cell_type": "code",
      "source": [
        "greetings = [\"hello\", \"\", \"hi\", \"hey\"]"
      ],
      "metadata": {
        "id": "JWLpCU9c7d0O"
      },
      "execution_count": null,
      "outputs": []
    },
    {
      "cell_type": "markdown",
      "source": [
        "### **Problem #3.10**\n",
        "\n",
        "Given the list `animals`, replace `\"zoo\"` with `giraffe`. Print the resulting list."
      ],
      "metadata": {
        "id": "wLkbvPzc6veV"
      }
    },
    {
      "cell_type": "code",
      "source": [
        "animals = [\"zoo\", \"dolphin\", \"horse\", \"bird\", \"gorilla\"]"
      ],
      "metadata": {
        "id": "WjheM0ZU7eoB"
      },
      "execution_count": null,
      "outputs": []
    },
    {
      "cell_type": "markdown",
      "source": [
        "### **Problem #3.11**\n",
        "\n",
        "Use indexing to print the largest number in the list."
      ],
      "metadata": {
        "id": "E9D-UlhIADN-"
      }
    },
    {
      "cell_type": "code",
      "source": [
        "numbers = [93, 27, 42, 31, 95, 97]"
      ],
      "metadata": {
        "id": "VgOsjfnSADN-"
      },
      "execution_count": null,
      "outputs": []
    },
    {
      "cell_type": "markdown",
      "source": [
        "### **Problem #3.12**\n",
        "\n",
        "Initialize an empty list called `grocery_list`. Then, add the following items to the list, one at a time: `\"milk\"`, `\"eggs\"`, `\"bread\"`, `\"juice\"`, and `\"cheese\"`. Print the resulting list."
      ],
      "metadata": {
        "id": "lRsVWDOuADN6"
      }
    },
    {
      "cell_type": "code",
      "source": [],
      "metadata": {
        "id": "0V0CPoBDADN6"
      },
      "execution_count": null,
      "outputs": []
    },
    {
      "cell_type": "markdown",
      "source": [
        "### **Problem #3.13**\n",
        "\n",
        "Given the list `ls = [1, 2, 3, 4, 5]`, create a new list called `reversed_ls` such that it has the values of `ls` in reverse order. Print that list."
      ],
      "metadata": {
        "id": "SuqQO4-4_-oC"
      }
    },
    {
      "cell_type": "code",
      "source": [
        "ls = [1, 2, 3, 4, 5]"
      ],
      "metadata": {
        "id": "aBs-LgGq_-oV"
      },
      "execution_count": null,
      "outputs": []
    },
    {
      "cell_type": "markdown",
      "source": [
        "### **Problem #3.14**\n",
        "\n",
        "Given the list `ls = [\"h\", \"e\", \"l\", \"l\", \"o\"]`, print the concatenated string of the elements in the list."
      ],
      "metadata": {
        "id": "ubJ-KywFADN8"
      }
    },
    {
      "cell_type": "code",
      "source": [
        "ls = [\"h\", \"e\", \"l\", \"l\", \"o\"]"
      ],
      "metadata": {
        "id": "aHCSGFFFADN8"
      },
      "execution_count": null,
      "outputs": []
    },
    {
      "cell_type": "markdown",
      "source": [
        "### **Problem #3.15**\n",
        "\n",
        "Given the list `months`, modify the list so that it contains all 12 months. Print the resulting list."
      ],
      "metadata": {
        "id": "DY2wNus6ADN_"
      }
    },
    {
      "cell_type": "code",
      "source": [
        "months = [\"January\", \"February\", \"March\", \"May\", \"June\", \"July\", \"September\", \"November\"]"
      ],
      "metadata": {
        "id": "70JsZsZWADN_"
      },
      "execution_count": null,
      "outputs": []
    },
    {
      "cell_type": "markdown",
      "source": [
        "### **Problem #3.16**\n",
        "\n",
        "Given the list `numbers = [7, 12, 13, 15, 4, 8, 9]`, remove the even numbers from the list. Print the resulting list."
      ],
      "metadata": {
        "id": "kZou2IaoADN7"
      }
    },
    {
      "cell_type": "code",
      "source": [
        "numbers = [7, 12, 13, 15, 4, 8, 9]"
      ],
      "metadata": {
        "id": "S40-OHc8ADN7"
      },
      "execution_count": null,
      "outputs": []
    },
    {
      "cell_type": "markdown",
      "source": [
        "### **Problem #3.17**\n",
        "\n",
        "Use indexing to print ```15```.\n"
      ],
      "metadata": {
        "id": "elp3kIirADN5"
      }
    },
    {
      "cell_type": "code",
      "source": [
        "numbers = [5, 7, 10, 14, 19]"
      ],
      "metadata": {
        "id": "DvCB3vv_ADN5"
      },
      "execution_count": null,
      "outputs": []
    },
    {
      "cell_type": "markdown",
      "source": [
        "### **Problem #3.18**\n",
        "\n",
        "Modify the list below so that it becomes `[100, 25, 60, 90, 40]`. Print the resulting list."
      ],
      "metadata": {
        "id": "8LKZoLXQADN9"
      }
    },
    {
      "cell_type": "code",
      "source": [
        "numbers = [10, 25, 40, 60, 90]"
      ],
      "metadata": {
        "id": "a3vedSR4ADN9"
      },
      "execution_count": null,
      "outputs": []
    },
    {
      "cell_type": "markdown",
      "source": [
        "#End of notebook\n",
        "---\n",
        "© 2023 The Coding School, All rights reserved"
      ],
      "metadata": {
        "id": "7dzC09dLlEhm"
      }
    }
  ],
  "metadata": {
    "colab": {
      "provenance": [],
      "include_colab_link": true
    },
    "kernelspec": {
      "display_name": "Python 3",
      "name": "python3"
    },
    "language_info": {
      "name": "python"
    }
  },
  "nbformat": 4,
  "nbformat_minor": 0
}