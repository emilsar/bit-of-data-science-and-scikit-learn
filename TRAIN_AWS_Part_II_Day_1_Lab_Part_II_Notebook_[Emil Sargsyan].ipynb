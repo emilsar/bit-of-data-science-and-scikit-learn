{
  "nbformat": 4,
  "nbformat_minor": 0,
  "metadata": {
    "colab": {
      "provenance": [],
      "include_colab_link": true
    },
    "kernelspec": {
      "name": "python3",
      "display_name": "Python 3"
    },
    "language_info": {
      "name": "python"
    }
  },
  "cells": [
    {
      "cell_type": "markdown",
      "metadata": {
        "id": "view-in-github",
        "colab_type": "text"
      },
      "source": [
        "<a href=\"https://colab.research.google.com/github/emilsar/bit-of-data-science-and-scikit-learn/blob/master/TRAIN_AWS_Part_II_Day_1_Lab_Part_II_Notebook_%5BEmil%20Sargsyan%5D.ipynb\" target=\"_parent\"><img src=\"https://colab.research.google.com/assets/colab-badge.svg\" alt=\"Open In Colab\"/></a>"
      ]
    },
    {
      "cell_type": "markdown",
      "source": [
        "# **Lab 1: Part II - Review of Linear Regression with sklearn**\n",
        "---\n",
        "### **Description**\n",
        "This lab provides a comprehensive overview of implementing and evaluating Linear Regression with sklearn.\n",
        "\n",
        "<br>\n",
        "\n",
        "### **Lab Structure**\n",
        "**Part 1**: [Predicting Wine Quality](#p1)\n",
        "\n",
        "**Part 2**: [Predicting CO2 Emissions](#p2)\n",
        "\n",
        "\n",
        "\n",
        "<br>\n",
        "\n",
        "### **Learning Objectives**\n",
        " By the end of this lab, we will:\n",
        "* Understand basic pandas commands for EDA.\n",
        "\n",
        "* Understand basic matplotlib commands for Data Visualization.\n",
        "\n",
        "\n",
        "<br>\n",
        "\n",
        "\n",
        "### **Resources**\n",
        "* [EDA with pandas Cheat Sheet](https://docs.google.com/document/d/1FFoqw45P-kuoq912ARP4qfdGeLTqoq73_qjZThPp2_8/edit?usp=drive_link)\n",
        "\n",
        "* [Data Visualization with matplotlib Cheat Sheet](https://docs.google.com/document/d/1YlUp6ll81qOyDpU1OWzE-SPxQ3hnF5C9ukLRL_6PYKE/edit?usp=drive_link)\n",
        "\n",
        "* [Linear Regression with sklearn Cheat Sheet](https://docs.google.com/document/d/1iVieBynTpoKq1LA0kR-4pqDo6evoW5wvbNyE0wOGhYY/edit?usp=drive_link)\n",
        "\n",
        "\n",
        "<br>\n",
        "\n",
        "**Before starting, run the code below to import all necessary functions and libraries.**\n"
      ],
      "metadata": {
        "id": "nvymFWiixQvT"
      }
    },
    {
      "cell_type": "code",
      "source": [
        "import warnings\n",
        "warnings.filterwarnings('ignore')\n",
        "\n",
        "import pandas as pd\n",
        "import matplotlib.pyplot as plt\n",
        "\n",
        "from sklearn import model_selection\n",
        "from sklearn import datasets\n",
        "from sklearn.metrics import *"
      ],
      "metadata": {
        "id": "9de72I1w8qKR"
      },
      "execution_count": null,
      "outputs": []
    },
    {
      "cell_type": "markdown",
      "metadata": {
        "id": "XKlXLctJMfWM"
      },
      "source": [
        "<a name=\"p1\"></a>\n",
        "\n",
        "---\n",
        "## **Part 1: Predicting Wine Quality**\n",
        "---\n",
        "\n",
        "In this part, we will implement a linear regression model aimed at predicting the quality rating of wines based on their chemical properties and characteristics.\n",
        "\n",
        "<br>\n",
        "\n",
        "This dataset contains data related to wine properties, including chemical characteristics like acidity, pH, and alcohol content. The target variable (label) represents a quality rating for each wine, which is a quantitative measure of wine quality.\n",
        "\n",
        "\n"
      ]
    },
    {
      "cell_type": "markdown",
      "metadata": {
        "id": "OqjbzvZ9OUWe"
      },
      "source": [
        "#### **Step #1: Load in Data**\n",
        "\n",
        "**Run the code below to load the data.**"
      ]
    },
    {
      "cell_type": "code",
      "execution_count": null,
      "metadata": {
        "id": "rYraPZuAOSX6",
        "tags": []
      },
      "outputs": [],
      "source": [
        "url = \"https://archive.ics.uci.edu/ml/machine-learning-databases/wine-quality/winequality-white.csv\"\n",
        "data = pd.read_csv(url, sep=';')"
      ]
    },
    {
      "cell_type": "markdown",
      "metadata": {
        "id": "_-Un9iSRFNKP"
      },
      "source": [
        "#### **Step #2: Choose your Variables**\n",
        "\n"
      ]
    },
    {
      "cell_type": "code",
      "execution_count": null,
      "metadata": {
        "id": "3w6YlXTflYLC"
      },
      "outputs": [],
      "source": [
        "inputs = df.drop(\"quality\", axis = 1)\n",
        "output = df[# COMPLETE THIS CODE"
      ]
    },
    {
      "cell_type": "markdown",
      "metadata": {
        "id": "TqCPAlJmlNUv"
      },
      "source": [
        "#### **Step #3: Split your Data**\n"
      ]
    },
    {
      "cell_type": "code",
      "execution_count": null,
      "metadata": {
        "id": "9Sm_Dda4lMS_",
        "tags": []
      },
      "outputs": [],
      "source": [
        "X_train, X_test, y_train, y_test = # COMPLETE THIS CODE"
      ]
    },
    {
      "cell_type": "markdown",
      "metadata": {
        "id": "AR4pT5pjFOYI"
      },
      "source": [
        "#### **Step #4: Import an ML Algorithm**\n",
        "\n",
        "\n"
      ]
    },
    {
      "cell_type": "code",
      "source": [
        "# COMPLETE THIS CODE"
      ],
      "metadata": {
        "id": "04ZAKnPJ2lc3"
      },
      "execution_count": null,
      "outputs": []
    },
    {
      "cell_type": "markdown",
      "metadata": {
        "id": "7vxxRybDl-6h"
      },
      "source": [
        "#### **Step #5: Initialize the Model**\n"
      ]
    },
    {
      "cell_type": "code",
      "execution_count": null,
      "metadata": {
        "id": "7Lg_OTRlmOdQ"
      },
      "outputs": [],
      "source": [
        "model = # COMPLETE THIS CODE"
      ]
    },
    {
      "cell_type": "markdown",
      "metadata": {
        "id": "QGjMGgtol_GV"
      },
      "source": [
        "#### **Step #6: Fit, Test, and Visualize**\n"
      ]
    },
    {
      "cell_type": "code",
      "execution_count": null,
      "metadata": {
        "id": "zXrul7JxmZCr"
      },
      "outputs": [],
      "source": [
        "model.fit(X_train, # COMPLETE THIS CODE"
      ]
    },
    {
      "cell_type": "code",
      "source": [
        "predictions = # COMPLETE THIS CODE"
      ],
      "metadata": {
        "id": "SJT-4r673-V3"
      },
      "execution_count": null,
      "outputs": []
    },
    {
      "cell_type": "code",
      "source": [
        "plt.figure(figsize=(8, 8))\n",
        "plt.scatter(y_test, predictions)\n",
        "plt.plot([y_test.min(), y_test.max()], [y_test.min(), y_test.max()], color = 'black', label=\"Correct prediction\")\n",
        "\n",
        "\n",
        "plt.xlabel('True Quality', fontsize = 'x-large')\n",
        "plt.ylabel('Predicted Quality', fontsize = 'x-large')\n",
        "plt.title(\"Real vs. Predicted Wine Quality\", fontsize = 'x-large')\n",
        "plt.legend()\n",
        "\n",
        "plt.show()"
      ],
      "metadata": {
        "id": "UjMtzl7L4MYf"
      },
      "execution_count": null,
      "outputs": []
    },
    {
      "cell_type": "markdown",
      "metadata": {
        "id": "tEjc9FYpFPXe"
      },
      "source": [
        "#### **Step #7: Evaluate**\n",
        "\n",
        "Let's evaluate this model and put it to the test! Specifically, evaluate the model using our standard regression metrics: $R^2$, MSE, and MAE.\n"
      ]
    },
    {
      "cell_type": "code",
      "source": [
        "# COMPLETE THIS CODE"
      ],
      "metadata": {
        "id": "I3-wwjqQ4kGe"
      },
      "execution_count": null,
      "outputs": []
    },
    {
      "cell_type": "markdown",
      "metadata": {
        "id": "ZSVrwR_HFScR"
      },
      "source": [
        "#### **Step #8: Apply your Model**\n",
        "\n",
        "You are provided with data from two new wines, and you want to assess the predicted quality ratings for each of them. The goal is to determine whether either wine is likely to have a higher quality rating based on the model's predictions.\n",
        "\n",
        "Here is the data for the two wines:\n",
        "\n",
        "**Wine 1:**\n",
        "* Fixed Acidity = 12.5\n",
        "* Volatile Acidity = 0.3\n",
        "* Citric Acid = 0.6\n",
        "* Residual Sugar = 1.2\n",
        "* Chlorides = 0.07\n",
        "* Free Sulfur Dioxide = 15.0\n",
        "* Total Sulfur Dioxide = 50.0\n",
        "* Density = 0.998\n",
        "* pH = 3.2\n",
        "* Sulphates = 0.68\n",
        "* Alcohol Content = 11.5\n",
        "\n",
        "<br>\n",
        "\n",
        "**Wine 2:**\n",
        "\n",
        "* Fixed Acidity = 13.2\n",
        "* Volatile Acidity = 0.28\n",
        "* Citric Acid = 0.45\n",
        "* Residual Sugar = 2.0\n",
        "* Chlorides = 0.09\n",
        "* Free Sulfur Dioxide = 12.0\n",
        "* Total Sulfur Dioxide = 65.0\n",
        "* Density = 0.995\n",
        "* pH = 3.3\n",
        "* Sulphates = 0.55\n",
        "* Alcohol Content = 12.0\n",
        "\n",
        "You will use your linear regression model to predict the quality ratings for these wines and assess their relative quality based on the predictions."
      ]
    },
    {
      "cell_type": "markdown",
      "metadata": {
        "id": "TNEz28GzPsza"
      },
      "source": [
        "##### **1. Predict the quality of Wine 1**\n"
      ]
    },
    {
      "cell_type": "code",
      "execution_count": null,
      "metadata": {
        "id": "qdlzRN3PFUXe",
        "tags": []
      },
      "outputs": [],
      "source": [
        "# COMPLETE THIS CODE"
      ]
    },
    {
      "cell_type": "markdown",
      "metadata": {
        "id": "mOVjEiDIPvKc"
      },
      "source": [
        "##### **2. Predict the quality of Wine 2**"
      ]
    },
    {
      "cell_type": "code",
      "execution_count": null,
      "metadata": {
        "id": "6OGtnxjUnJ3Q"
      },
      "outputs": [],
      "source": [
        "# COMPLETE THIS CODE"
      ]
    },
    {
      "cell_type": "markdown",
      "source": [
        "<a name=\"p2\"></a>\n",
        "\n",
        "---\n",
        "## **Part 2: Predicting C02 Emissions**\n",
        "---\n",
        "\n",
        "Using the CO2 Emissions dataset, do the following:\n",
        "* Build a model that will predict the CO2 emissions of a car;\n",
        "* Predict the CO2 emissions of a car with a specific volume and weight.\n",
        "\n",
        "<br>\n",
        "\n",
        "Since 1970, CO2 emissions have increased by nearly 90%. These elevated CO2 levels cause poor air quality and contribute to climate change. Globally, cars and other transportation vehicles are responsible for about 29% of overall CO2 emissions. This CO2 emissions dataset is a collection of data from cars that contains information on the car's make, model, volume, weight, and how much CO2 it emits.\n",
        "\n",
        "The features are as follows:\n",
        "* `Car`: name of car brand\n",
        "* `Model`: name of car model\n",
        "* `Volume`: engine size (in cm^3)\n",
        "* `Weight`: weight of car (in kg)\n",
        "* `CO2`: amount of CO2 emitted (in g/km)"
      ],
      "metadata": {
        "id": "2I1Jg2wSymZf"
      }
    },
    {
      "cell_type": "markdown",
      "source": [
        "#### **Step #1: Load the data**"
      ],
      "metadata": {
        "id": "uALsY1jv0OtU"
      }
    },
    {
      "cell_type": "code",
      "source": [
        "url = \"https://raw.githubusercontent.com/the-codingschool/TRAIN/main/emissions/car_emissions.csv\"\n",
        "\n",
        "cars_df = pd.read_csv(url)\n",
        "cars_df.head()"
      ],
      "metadata": {
        "id": "pg99h8lr0L0F"
      },
      "execution_count": null,
      "outputs": []
    },
    {
      "cell_type": "markdown",
      "source": [
        "#### **Step #2: Decide independent and dependent variables**\n",
        "\n",
        "We are going to use `Volume` and `Weight` as our independent variables for predicting `CO2` emissions.\n",
        "\n"
      ],
      "metadata": {
        "id": "5DJtkoHn0bL8"
      }
    },
    {
      "cell_type": "code",
      "source": [
        "features = # COMPLETE THIS CODE\n",
        "labels = # COMPLETE THIS CODE"
      ],
      "metadata": {
        "id": "f7-0cUep0naJ"
      },
      "execution_count": null,
      "outputs": []
    },
    {
      "cell_type": "markdown",
      "source": [
        "#### **Step #3: Split data into training and testing data**\n"
      ],
      "metadata": {
        "id": "5omgCtfW1i4U"
      }
    },
    {
      "cell_type": "code",
      "source": [
        "# COMPLETE THIS CODE"
      ],
      "metadata": {
        "id": "uE_3S_vw1mIr"
      },
      "execution_count": null,
      "outputs": []
    },
    {
      "cell_type": "markdown",
      "source": [
        "#### **Step #4: Import your algorithm**\n"
      ],
      "metadata": {
        "id": "rrBakbiK1qGv"
      }
    },
    {
      "cell_type": "code",
      "source": [
        "# COMPLETE THIS CODE"
      ],
      "metadata": {
        "id": "0-KRBRBN1s3W"
      },
      "execution_count": null,
      "outputs": []
    },
    {
      "cell_type": "markdown",
      "source": [
        "#### **Step #5: Initialize your model and set hyperparameters**\n",
        "\n"
      ],
      "metadata": {
        "id": "EEBL8QJ811ZN"
      }
    },
    {
      "cell_type": "code",
      "source": [
        "# COMPLETE THIS CODE"
      ],
      "metadata": {
        "id": "qPq8Sokb167W"
      },
      "execution_count": null,
      "outputs": []
    },
    {
      "cell_type": "markdown",
      "metadata": {
        "id": "-0AHATsp-Tcw"
      },
      "source": [
        "#### **Step #6: Fit, Test, and Visualize**\n"
      ]
    },
    {
      "cell_type": "code",
      "execution_count": null,
      "metadata": {
        "id": "5dDH9TVk-Tcw"
      },
      "outputs": [],
      "source": [
        "model.fit(X_train, # COMPLETE THIS CODE"
      ]
    },
    {
      "cell_type": "code",
      "source": [
        "predictions = # COMPLETE THIS CODE"
      ],
      "metadata": {
        "id": "ThkZMSde-Tcx"
      },
      "execution_count": null,
      "outputs": []
    },
    {
      "cell_type": "code",
      "source": [
        "# VISUALIZE THE TRUE VS. PREDICTED VALUES"
      ],
      "metadata": {
        "id": "_IWn7CDt-Tcy"
      },
      "execution_count": null,
      "outputs": []
    },
    {
      "cell_type": "markdown",
      "metadata": {
        "id": "yqwbSOnN-Tcy"
      },
      "source": [
        "#### **Step #7: Evaluate**\n",
        "\n",
        "Let's evaluate this model and put it to the test! Specifically, evaluate the model using our standard regression metrics: $R^2$, MSE, and MAE.\n"
      ]
    },
    {
      "cell_type": "code",
      "source": [],
      "metadata": {
        "id": "fDIIOUR1-Tcy"
      },
      "execution_count": null,
      "outputs": []
    },
    {
      "cell_type": "markdown",
      "source": [
        "#### **Step #8: Use the model**\n",
        "\n",
        "Using the model we created, predict the CO2 emissions of two cars:\n",
        "\n",
        "* **Car 1:** Volume is 800 cm^3 and weight is 1020 kg\n",
        "\n",
        "* **Car 2:**  Volume is 1020 cm^3 and weight is 800 kg\n",
        "\n",
        "<br>\n",
        "\n",
        "**NOTE**: You must create a dataframe containing with the information of the new cars:\n",
        "\n",
        "```python\n",
        "new_car_data = pd.DataFrame(new_car_data_here, columns = [\"Volume\", \"Weight\"])\n",
        "```"
      ],
      "metadata": {
        "id": "5KmH9KfBoQwn"
      }
    },
    {
      "cell_type": "code",
      "source": [
        "# COMPLETE THIS CODE"
      ],
      "metadata": {
        "id": "oNu2nca469tx"
      },
      "execution_count": null,
      "outputs": []
    },
    {
      "cell_type": "markdown",
      "source": [
        "---\n",
        "\n",
        "# End of Notebook\n",
        "\n",
        "© 2023 The Coding School, All rights reserved"
      ],
      "metadata": {
        "id": "75g0yrIewirj"
      }
    }
  ]
}