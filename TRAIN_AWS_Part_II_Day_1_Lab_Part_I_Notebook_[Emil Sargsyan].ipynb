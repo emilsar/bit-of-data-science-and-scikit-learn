{
  "nbformat": 4,
  "nbformat_minor": 0,
  "metadata": {
    "colab": {
      "provenance": [],
      "include_colab_link": true
    },
    "kernelspec": {
      "name": "python3",
      "display_name": "Python 3"
    },
    "language_info": {
      "name": "python"
    }
  },
  "cells": [
    {
      "cell_type": "markdown",
      "metadata": {
        "id": "view-in-github",
        "colab_type": "text"
      },
      "source": [
        "<a href=\"https://colab.research.google.com/github/emilsar/bit-of-data-science-and-scikit-learn/blob/master/TRAIN_AWS_Part_II_Day_1_Lab_Part_I_Notebook_%5BEmil%20Sargsyan%5D.ipynb\" target=\"_parent\"><img src=\"https://colab.research.google.com/assets/colab-badge.svg\" alt=\"Open In Colab\"/></a>"
      ]
    },
    {
      "cell_type": "markdown",
      "source": [
        "# **Lab 1: Part I - Review of Data Science**\n",
        "---\n",
        "### **Description**\n",
        "This lab provides a comprehensive overview of exploratory data analysis (EDA) techniques using Python's pandas library for data manipulation and analysis. Additionally, it explores data visualization using the matplotlib library. Throughout the notebook, you'll review how to load and manipulate datasets effectively with pandas commands and leverage matplotlib to create insightful visualizations that aid in uncovering patterns, trends, and insights within the data.\n",
        "\n",
        "<br>\n",
        "\n",
        "### **Lab Structure**\n",
        "**Part 1**: [Exploratory Data Analysis Review](#p1)\n",
        "\n",
        "  >  **Part 1.1**: [Basic Commands](#p1.1)\n",
        "\n",
        "  >  **Part 1.2**: [Further Exploration](#p1.2)\n",
        "\n",
        "**Part 2**: [Data Visualization Review](#p2)\n",
        "\n",
        "  >  **Part 2.1**: [Scatter Plots](#p2.1)\n",
        "\n",
        "  >  **Part 2.2**: [Line Plots](#p2.2)\n",
        "\n",
        "  >  **Part 2.3**: [Bar Plots](#p2.3)\n",
        "\n",
        "**Part 3**: [[OPTIONAL] Improving Visualizations](#p3)\n",
        "  >  **Part 3.1**: [Improving Scatter Plots](#p3.1)\n",
        "\n",
        "  >  **Part 3.2**: [Improving Line Plots](#p3.2)\n",
        "\n",
        "  >  **Part 3.3**: [Improving Bar Plots](#p3.3)\n",
        "\n",
        "  >  **Part 3.4**: [Enhancing Plot Aesthetics](#p3.4)\n",
        "\n",
        "\n",
        "\n",
        "<br>\n",
        "\n",
        "### **Learning Objectives**\n",
        " By the end of this lab, we will:\n",
        "* Understand basic pandas commands for EDA.\n",
        "\n",
        "* Understand basic matplotlib commands for Data Visualization.\n",
        "\n",
        "\n",
        "<br>\n",
        "\n",
        "\n",
        "### **Resources**\n",
        "* [EDA with pandas Cheat Sheet](https://docs.google.com/document/d/1FFoqw45P-kuoq912ARP4qfdGeLTqoq73_qjZThPp2_8/edit?usp=drive_link)\n",
        "\n",
        "* [Data Visualization with matplotlib Cheat Sheet](https://docs.google.com/document/d/1YlUp6ll81qOyDpU1OWzE-SPxQ3hnF5C9ukLRL_6PYKE/edit?usp=drive_link)\n",
        "\n",
        "\n",
        "<br>\n",
        "\n",
        "**Before starting, run the code below to import all necessary functions and libraries.**\n"
      ],
      "metadata": {
        "id": "nvymFWiixQvT"
      }
    },
    {
      "cell_type": "code",
      "source": [
        "import warnings\n",
        "warnings.filterwarnings('ignore')\n",
        "\n",
        "import pandas as pd\n",
        "import matplotlib.pyplot as plt"
      ],
      "metadata": {
        "id": "9de72I1w8qKR"
      },
      "execution_count": 1,
      "outputs": []
    },
    {
      "cell_type": "markdown",
      "source": [
        "<a name=\"p1\"></a>\n",
        "\n",
        "---\n",
        "## **Part 1: Exploratory Data Analysis Review**\n",
        "---\n",
        "\n",
        "\n"
      ],
      "metadata": {
        "id": "-l9pd5CCqVtD"
      }
    },
    {
      "cell_type": "markdown",
      "source": [
        "<a name=\"p1.1\"></a>\n",
        "\n",
        "---\n",
        "### **Part 1.1: Basic Commands**\n",
        "---\n",
        "\n",
        "\n",
        "**Run the code cell below to create the DataFrame.**"
      ],
      "metadata": {
        "id": "T9LU--mDehnn"
      }
    },
    {
      "cell_type": "code",
      "source": [
        "df = pd.DataFrame({'U.S. State': ['California', 'Florida', 'Indiana', 'Texas', 'Pennsylvania'],\n",
        "        'Population (in millions)': [38, 21, 6.5, 28, 13],\n",
        "        'Capitol': ['Sacramento', 'Tallahassee', 'Indianapolis', 'Austin', 'Harrisburg'],\n",
        "        'GDP ($ in billions)': [3700, 1070, 352, 1876, 726]})"
      ],
      "metadata": {
        "id": "iD9_DTVCzRbY"
      },
      "execution_count": null,
      "outputs": []
    },
    {
      "cell_type": "markdown",
      "source": [
        "#### **Problem #1.1.1**\n",
        "\n",
        "**Together**, let's inspect what `.head()` tells us about this DataFrame."
      ],
      "metadata": {
        "id": "hjbtt13XrE7G"
      }
    },
    {
      "cell_type": "code",
      "source": [],
      "metadata": {
        "id": "_d_m_CVn0t-z"
      },
      "execution_count": null,
      "outputs": []
    },
    {
      "cell_type": "markdown",
      "source": [
        "#### **Problem #1.1.2**\n",
        "\n",
        "**Together**, let's determine what datatype `Population (in millions)` is."
      ],
      "metadata": {
        "id": "_xkLxO4drLIL"
      }
    },
    {
      "cell_type": "code",
      "source": [],
      "metadata": {
        "id": "sn1aSL4ceKOj"
      },
      "execution_count": null,
      "outputs": []
    },
    {
      "cell_type": "markdown",
      "source": [
        "#### **Problem #1.1.3**\n",
        "\n",
        "**Together**, let's print all of the unique values for `GDP ($ in billions)`."
      ],
      "metadata": {
        "id": "M2ZiYzdX06OR"
      }
    },
    {
      "cell_type": "code",
      "source": [],
      "metadata": {
        "id": "NTMZN8Tw07bU"
      },
      "execution_count": null,
      "outputs": []
    },
    {
      "cell_type": "markdown",
      "source": [
        "---\n",
        "\n",
        "#### **Now it's your turn! Try Problems #1.1.4 - 1.1.7 on your own.**\n",
        "\n",
        "---"
      ],
      "metadata": {
        "id": "IVNCVaO-9kJS"
      }
    },
    {
      "cell_type": "markdown",
      "source": [
        "#### **Problem #1.1.4**\n",
        "\n",
        "**Independently**, determine the column names in the dataset."
      ],
      "metadata": {
        "id": "Qf1t26ecTaFO"
      }
    },
    {
      "cell_type": "code",
      "source": [],
      "metadata": {
        "id": "8CKIqilfUDhr"
      },
      "execution_count": null,
      "outputs": []
    },
    {
      "cell_type": "markdown",
      "source": [
        "#### **Problem #1.1.5**\n",
        "\n",
        "**Independently**, determine the highest `GDP ($ in billions)` in the dataset."
      ],
      "metadata": {
        "id": "jrKxwNQFUls3"
      }
    },
    {
      "cell_type": "code",
      "source": [],
      "metadata": {
        "id": "RSmYyAeGWC4X"
      },
      "execution_count": null,
      "outputs": []
    },
    {
      "cell_type": "markdown",
      "source": [
        "#### **Problem #1.1.6**\n",
        "\n",
        "**Independently**, determine which states are included in this dataset."
      ],
      "metadata": {
        "id": "Z-o7V6JfVCR6"
      }
    },
    {
      "cell_type": "code",
      "source": [],
      "metadata": {
        "id": "_5G1-bSxWsAr"
      },
      "execution_count": null,
      "outputs": []
    },
    {
      "cell_type": "markdown",
      "source": [
        "#### **Problem #1.1.7**\n",
        "\n",
        "**Independently**, determine the range of GDP values among the states?"
      ],
      "metadata": {
        "id": "Jb_Ob6OaVSQC"
      }
    },
    {
      "cell_type": "code",
      "source": [],
      "metadata": {
        "id": "MxnSgKfGW6YX"
      },
      "execution_count": null,
      "outputs": []
    },
    {
      "cell_type": "markdown",
      "source": [
        "---\n",
        "\n",
        "<center>\n",
        "\n",
        "#### **Wait for Your Instructor to Continue**\n",
        "\n",
        "---"
      ],
      "metadata": {
        "id": "5uUNWTJ9f3rx"
      }
    },
    {
      "cell_type": "markdown",
      "source": [
        "<a name=\"p1.2\"></a>\n",
        "\n",
        "---\n",
        "### **Part 1.2: Further Exploration**\n",
        "---\n",
        "\n"
      ],
      "metadata": {
        "id": "xnbhz3EjgRGW"
      }
    },
    {
      "cell_type": "markdown",
      "source": [
        "#### **Problem #1.2.1**\n",
        "\n",
        "**Independently**, determine the average `Population (in millions)` size among the U.S. states in the dataset."
      ],
      "metadata": {
        "id": "JFzkrUYt04_4"
      }
    },
    {
      "cell_type": "code",
      "source": [],
      "metadata": {
        "id": "J3Qt_0oneJtN"
      },
      "execution_count": null,
      "outputs": []
    },
    {
      "cell_type": "markdown",
      "source": [
        "#### **Problem #1.2.2**\n",
        "\n",
        "**Independently,** explore rows 4 and 5. What are the U.S. States listed?"
      ],
      "metadata": {
        "id": "pCQRROJm054A"
      }
    },
    {
      "cell_type": "code",
      "source": [],
      "metadata": {
        "id": "mclhR7MJeMto"
      },
      "execution_count": null,
      "outputs": []
    },
    {
      "cell_type": "markdown",
      "source": [
        "#### **Problem #1.2.3**\n",
        "\n",
        "**Independently**, determine the total `Population (in millions)` across all states."
      ],
      "metadata": {
        "id": "UJwIu_cuUhFR"
      }
    },
    {
      "cell_type": "code",
      "source": [],
      "metadata": {
        "id": "8fhwGXkKV0sY"
      },
      "execution_count": null,
      "outputs": []
    },
    {
      "cell_type": "markdown",
      "source": [
        "#### **Problem #1.2.4**\n",
        "\n",
        "**Independently**, determine the average `Population (in millions)` of the states."
      ],
      "metadata": {
        "id": "1TSmsuIUUsWo"
      }
    },
    {
      "cell_type": "code",
      "source": [],
      "metadata": {
        "id": "WBDhjRUPWVvd"
      },
      "execution_count": null,
      "outputs": []
    },
    {
      "cell_type": "markdown",
      "source": [
        "#### **Problem #1.2.5**\n",
        "\n",
        "**Independently**, determine the `Population (in millions)` for the 3rd state in the dataset."
      ],
      "metadata": {
        "id": "Mt80XQ5MU9yY"
      }
    },
    {
      "cell_type": "code",
      "source": [],
      "metadata": {
        "id": "rSprvOkBWedi"
      },
      "execution_count": null,
      "outputs": []
    },
    {
      "cell_type": "markdown",
      "source": [
        "#### **Problem #1.2.6**\n",
        "\n",
        "**Independently**, determine how many states have a population greater than 20 million."
      ],
      "metadata": {
        "id": "Q0Fgq9OcVYeQ"
      }
    },
    {
      "cell_type": "code",
      "source": [
        "\n"
      ],
      "metadata": {
        "id": "V07n-gn_XEXc"
      },
      "execution_count": null,
      "outputs": []
    },
    {
      "cell_type": "markdown",
      "source": [
        "#### **Problem #1.2.7**\n",
        "\n",
        "**Independently**, explore the last row in the dataset."
      ],
      "metadata": {
        "id": "Drvifp0dVdVt"
      }
    },
    {
      "cell_type": "code",
      "source": [],
      "metadata": {
        "id": "iRgm79MOXUaK"
      },
      "execution_count": null,
      "outputs": []
    },
    {
      "cell_type": "markdown",
      "source": [
        "#### **[Challenge Question] Problem #1.2.8**\n",
        "\n",
        "**Independently**, determine the average `GDP per capita` for the states.\n",
        "\n",
        "**HINT:** Divide `GDP per capita` by `Population (in millions)`."
      ],
      "metadata": {
        "id": "zl6J9CXNVqcP"
      }
    },
    {
      "cell_type": "code",
      "source": [],
      "metadata": {
        "id": "wTU7IGcnXyPZ"
      },
      "execution_count": null,
      "outputs": []
    },
    {
      "cell_type": "markdown",
      "source": [
        "---\n",
        "\n",
        "<center>\n",
        "\n",
        "#### **Wait for Your Instructor to Continue**\n",
        "\n",
        "---"
      ],
      "metadata": {
        "id": "QSwN-lHWtIuw"
      }
    },
    {
      "cell_type": "markdown",
      "source": [
        "<a name=\"p2\"></a>\n",
        "\n",
        "---\n",
        "## **Part 2: Data Visualization Review**\n",
        "---\n",
        "\n",
        "**Run the cell below to load in the data**"
      ],
      "metadata": {
        "id": "XxQR7m6jcBOg"
      }
    },
    {
      "cell_type": "code",
      "source": [
        "url = \"https://docs.google.com/spreadsheets/d/e/2PACX-1vS9jPkeKJ8QUuAl-fFdg3nJPDP6vx1byvIBl4yW8UZZJ9QEscyALJp1eywKeAg7aAffwdKP63D9osF1/pub?gid=169291584&single=true&output=csv\"\n",
        "movie_df = pd.read_csv(url)\n",
        "\n",
        "movie_df.drop_duplicates(inplace=True)\n",
        "\n",
        "mean_runtime = movie_df['Runtime'].mean()\n",
        "movie_df['Runtime'] = movie_df['Runtime'].fillna(mean_runtime)\n",
        "\n",
        "movie_df = movie_df.rename(columns = {\"Runtime\": \"Runtime (min)\"})\n",
        "movie_df = movie_df.astype({\"Runtime (min)\": \"int64\"})\n",
        "\n",
        "movie_df.head()"
      ],
      "metadata": {
        "id": "3e2U3qBtVK-1"
      },
      "execution_count": null,
      "outputs": []
    },
    {
      "cell_type": "markdown",
      "source": [
        "<a name=\"p2.1\"></a>\n",
        "\n",
        "---\n",
        "### **Part 2.1: Scatter Plots**\n",
        "---"
      ],
      "metadata": {
        "id": "XI7Kwp4SMYb1"
      }
    },
    {
      "cell_type": "markdown",
      "source": [
        "#### **Problem #2.1.1**\n",
        "\n",
        "**Together**, let's create a scatterplot using `Runtime (min)` as the x-axis value and `Gross` as the y-axis value.\n",
        "\n",
        "Make sure to include a meaningful:\n",
        "* `Title`: \"Gross Money vs. Runtime:\n",
        "* `X-axis`: \"Gross (USD)\"\n",
        "* `Y-axis`: \"Runtime (min)\""
      ],
      "metadata": {
        "id": "TmujqDuMDmua"
      }
    },
    {
      "cell_type": "code",
      "source": [],
      "metadata": {
        "id": "4z1ytVFrDmub"
      },
      "execution_count": null,
      "outputs": []
    },
    {
      "cell_type": "markdown",
      "source": [
        "---\n",
        "\n",
        "#### **Now it's your turn! Try Problem #2.1.2 on your own.**\n",
        "\n",
        "---"
      ],
      "metadata": {
        "id": "Kk166BM-MKBu"
      }
    },
    {
      "cell_type": "markdown",
      "source": [
        "#### **Problem #2.1.2**\n",
        "\n",
        "**Independently**, create a scatterplot using `Released_Year` as the x-axis value and `Runtime (min)` as the y-axis value.\n",
        "\n",
        "Make sure to include a meaningful:\n",
        "* `Title`: \"Runtime vs. Released_Year\"\n",
        "* `X-axis`: \"Year\"\n",
        "* `Y-axis`: \"Runtime (min)\""
      ],
      "metadata": {
        "id": "8kCYTBSCFaM9"
      }
    },
    {
      "cell_type": "code",
      "source": [],
      "metadata": {
        "id": "wAuYh9xqFaM-"
      },
      "execution_count": null,
      "outputs": []
    },
    {
      "cell_type": "markdown",
      "source": [
        "---\n",
        "\n",
        "<center>\n",
        "\n",
        "#### **Wait for Your Instructor to Continue**\n",
        "\n",
        "---"
      ],
      "metadata": {
        "id": "7nmfI9CkMTlu"
      }
    },
    {
      "cell_type": "markdown",
      "source": [
        "<a name=\"p2.2\"></a>\n",
        "\n",
        "---\n",
        "### **Part 2.2: Line Plots**\n",
        "---"
      ],
      "metadata": {
        "id": "zbPcGjrAMomw"
      }
    },
    {
      "cell_type": "markdown",
      "source": [
        "#### **Problem #2.2.1**\n",
        "\n",
        "**Together**, let's create a line plot using `Runtime (min)` as the x-axis value and `Gross` as the y-axis value.\n",
        "\n",
        "Make sure to include a meaningful:\n",
        "* Title, ex: `'Gross Money vs. Runtime'`.\n",
        "* X-axis label including units `'min'`.\n",
        "* Y-axis label including units `'USD'`.\n",
        "\n",
        "<br>\n",
        "\n",
        "**NOTE**: This is not going to be a particularly helpful graph (the scatter plot is a better choice), but we oftentimes will not know this ahead of time. A lot of EDA and visualizations involves trying a number of things and seeing what is useful."
      ],
      "metadata": {
        "id": "A7ZZMz9CJQKU"
      }
    },
    {
      "cell_type": "code",
      "source": [],
      "metadata": {
        "id": "V9Nwq-BhJQKU"
      },
      "execution_count": null,
      "outputs": []
    },
    {
      "cell_type": "markdown",
      "source": [
        "---\n",
        "\n",
        "#### **Now it's your turn! Try Problem #2.2.2 on your own.**\n",
        "\n",
        "---"
      ],
      "metadata": {
        "id": "v2rd1WnPNA3W"
      }
    },
    {
      "cell_type": "markdown",
      "source": [
        "#### **Problem #2.2.2**\n",
        "\n",
        "**Independently**, create a line plot using `Released_Year` as the x-axis value and `Average Gross in Year` as the y-axis value.\n",
        "\n",
        "Make sure to include a meaningful:\n",
        "* Title, ex: `'Average Gross Money vs. Released Year'`.\n",
        "* X-axis label.\n",
        "* Y-axis label including units `'USD'`."
      ],
      "metadata": {
        "id": "h9Xvd-tBJkja"
      }
    },
    {
      "cell_type": "code",
      "source": [
        "mean_gross = movie_df.groupby(# COMPLETE THIS LINE\n"
      ],
      "metadata": {
        "id": "Tugg473VJkjb"
      },
      "execution_count": null,
      "outputs": []
    },
    {
      "cell_type": "markdown",
      "source": [
        "---\n",
        "\n",
        "<center>\n",
        "\n",
        "#### **Wait for Your Instructor to Continue**\n",
        "\n",
        "---"
      ],
      "metadata": {
        "id": "431q3q7tNDH3"
      }
    },
    {
      "cell_type": "markdown",
      "source": [
        "<a name=\"p2.3\"></a>\n",
        "\n",
        "---\n",
        "### **Part 2.3: Bar Plots**\n",
        "---"
      ],
      "metadata": {
        "id": "q1YVzYILNZZ8"
      }
    },
    {
      "cell_type": "markdown",
      "source": [
        "#### **Problem #2.3.1**\n",
        "\n",
        "**Together**, let's create a bar plot of the number of movies released per year.\n",
        "\n",
        "Use the DataFrame provided, `movies_per_year` and make sure to include a meaningful:\n",
        "* Title.\n",
        "* X-axis label.\n",
        "* Y-axis label."
      ],
      "metadata": {
        "id": "ZBbQ_A7SHG84"
      }
    },
    {
      "cell_type": "code",
      "source": [
        "movies_per_year = movie_df['Released_Year'].value_counts()\n",
        "\n",
        "plt.bar(movies_per_year.index, # COMPLETE THIS CODE"
      ],
      "metadata": {
        "id": "1mgDNmnWHG85"
      },
      "execution_count": null,
      "outputs": []
    },
    {
      "cell_type": "markdown",
      "source": [
        "---\n",
        "\n",
        "#### **Now it's your turn! Try Problem #2.3.2 on your own.**\n",
        "\n",
        "---"
      ],
      "metadata": {
        "id": "K0jmtGiuNRen"
      }
    },
    {
      "cell_type": "markdown",
      "source": [
        "#### **Problem #2.3.2**\n",
        "\n",
        "**Independently**, create a bar plot of the number of Dramas released per year.\n",
        "\n",
        "Use the DataFrame provided, `movies_per_year` and make sure to include a meaningful:\n",
        "* Title.\n",
        "* X-axis label.\n",
        "* Y-axis label.\n",
        "\n",
        "<br>\n",
        "\n",
        "**Hint**: Recall that you can use `.loc[CRITERIA, :]` to find all data matching given criteria and the example in Problem #6 for finding the number of movies realeased per year."
      ],
      "metadata": {
        "id": "hA9Yjy0UGHtS"
      }
    },
    {
      "cell_type": "code",
      "source": [
        "# COMPLETE THIS CODE"
      ],
      "metadata": {
        "id": "OTLvzDLNGHtT"
      },
      "execution_count": null,
      "outputs": []
    },
    {
      "cell_type": "markdown",
      "source": [
        "---\n",
        "\n",
        "<center>\n",
        "\n",
        "#### **Wait for Your Instructor to Continue**\n",
        "\n",
        "---"
      ],
      "metadata": {
        "id": "O8DBse4cNO55"
      }
    },
    {
      "cell_type": "markdown",
      "source": [
        "<a name=\"p3\"></a>\n",
        "\n",
        "---\n",
        "## **Part 3: [OPTIONAL] Improving Visualizations**\n",
        "---\n",
        "\n",
        "In this section, we will explore several ways to improve upon the visuals we learned to make above."
      ],
      "metadata": {
        "id": "p5_an2bSV9UK"
      }
    },
    {
      "cell_type": "markdown",
      "source": [
        "<a name=\"p3.1\"></a>\n",
        "\n",
        "---\n",
        "### **Part 3.1: Improving Scatter Plots**\n",
        "---"
      ],
      "metadata": {
        "id": "8yXy7TnmVlsM"
      }
    },
    {
      "cell_type": "markdown",
      "source": [
        "#### **Problem #3.1.1**\n",
        "\n",
        "We are given average temperature values for the months of the year for two cities: `city_A` and `city_B`.\n",
        "\n",
        "**Independently**, plot each city's average temperatures. We'll need to make two scatter plots.\n",
        "\n",
        "Make `city_A` markers blue and `city_B` markers red. Add labels and a legend.\n",
        "\n",
        "From the graph, which city is most likely located in the Northeast?"
      ],
      "metadata": {
        "id": "dUqOMFqIqMGq"
      }
    },
    {
      "cell_type": "code",
      "source": [
        "city_A_temps = [60,65,67, 70, 77, 84, 94, 101, 90, 82, 62]\n",
        "city_B_temps = [-11, 14, 25, 32, 55, 73, 87, 92, 82, 66, 53]\n",
        "months = np.arange(1,12)\n",
        "\n",
        "# COMPLETE THE REST OF THE CODE"
      ],
      "metadata": {
        "id": "ZBZcgZ2trRtM"
      },
      "execution_count": null,
      "outputs": []
    },
    {
      "cell_type": "markdown",
      "source": [
        "#### **Problem #3.1.2**\n",
        "\n",
        "**Independently**, adjust the plot so that `city_A` markers are black and `city_B` markers are green."
      ],
      "metadata": {
        "id": "XJTJjzIdhMuF"
      }
    },
    {
      "cell_type": "code",
      "source": [
        "city_A_temps = [60,65,67, 70, 77, 84, 94, 101, 90, 82, 62]\n",
        "city_B_temps = [-11, 14, 25, 32, 55, 73, 87, 92, 82, 66, 53]\n",
        "months = np.arange(1,12)\n",
        "\n",
        "# COMPLETE THE REST OF THE CODE"
      ],
      "metadata": {
        "id": "FGyhRMmBhMuG"
      },
      "execution_count": null,
      "outputs": []
    },
    {
      "cell_type": "markdown",
      "source": [
        "---\n",
        "\n",
        "<center>\n",
        "\n",
        "#### **Wait for Your Instructor to Continue**\n",
        "\n",
        "---"
      ],
      "metadata": {
        "id": "fAA0_KPutL1u"
      }
    },
    {
      "cell_type": "markdown",
      "source": [
        "<a name=\"p3.2\"></a>\n",
        "\n",
        "---\n",
        "### **Part 3.2: Improving Line Plots**\n",
        "---"
      ],
      "metadata": {
        "id": "ekZX9XHgvpBh"
      }
    },
    {
      "cell_type": "markdown",
      "source": [
        "#### **Problem #3.2.1**\n",
        "\n",
        "**Independently**, create a line plot with the following features:\n",
        "\n",
        "\n",
        "* A dashed line\n",
        "* A grid\n",
        "\n",
        "\n"
      ],
      "metadata": {
        "id": "tCDKL5LXIDtm"
      }
    },
    {
      "cell_type": "code",
      "source": [
        "Year = [1920,1930,1940,1950,1960,1970,1980,1990,2000,2010]\n",
        "Unemployment_Rate = [9.8,12,8,7.2,6.9,7,6.5,6.2,5.5,6.3]\n",
        "\n",
        "# COMPLETE THE REST OF THE CODE"
      ],
      "metadata": {
        "id": "u04mZF2WYrb1"
      },
      "execution_count": null,
      "outputs": []
    },
    {
      "cell_type": "markdown",
      "source": [
        "#### **Problem #3.2.2**\n",
        "\n",
        "**Independently**, using the following data, create a line plot. In addition:\n",
        "* Make that line dashed and dotted with `\"-.\"`\n",
        "* Add a grid to the background"
      ],
      "metadata": {
        "id": "Jf5F6kZOZFoI"
      }
    },
    {
      "cell_type": "code",
      "source": [
        "# x axis values\n",
        "x = [1,2,3]\n",
        "# corresponding y axis values\n",
        "y = [2,4,1]\n",
        "\n",
        "# COMPLETE THE REST OF THE CODE"
      ],
      "metadata": {
        "id": "jWVJ7xzZZfk1"
      },
      "execution_count": null,
      "outputs": []
    },
    {
      "cell_type": "markdown",
      "source": [
        "---\n",
        "\n",
        "<center>\n",
        "\n",
        "#### **Wait for Your Instructor to Continue**\n",
        "\n",
        "---"
      ],
      "metadata": {
        "id": "eQPilPXst0CC"
      }
    },
    {
      "cell_type": "markdown",
      "source": [
        "<a name=\"p3.3\"></a>\n",
        "\n",
        "---\n",
        "### **Part 3.3: Improving Bar Plots**\n",
        "---"
      ],
      "metadata": {
        "id": "n0zfv749v-qj"
      }
    },
    {
      "cell_type": "markdown",
      "source": [
        "#### **Problem #3.3.1**\n",
        "\n",
        "**Independently**, make a bar plot with each bar as a different color."
      ],
      "metadata": {
        "id": "MsZMPksXamGz"
      }
    },
    {
      "cell_type": "code",
      "source": [
        "langs = ['English', 'French', 'Spanish', 'Chinese', 'Arabic']\n",
        "students = [23,17,35,29,12]\n",
        "\n",
        "# COMPLETE THE REST OF THE CODE"
      ],
      "metadata": {
        "id": "tun4npXIUqH9"
      },
      "execution_count": null,
      "outputs": []
    },
    {
      "cell_type": "markdown",
      "source": [
        "#### **Problem #3.3.2**\n",
        "\n",
        "**Independently**, use the following data to create a simple bar plot. Make all of the bars blue except bar `E`; make bar `E` red."
      ],
      "metadata": {
        "id": "UBfUrUZBa0jQ"
      }
    },
    {
      "cell_type": "code",
      "source": [
        "height = [3, 12, 5, 18, 45]       # y\n",
        "bars = ['A', 'B', 'C', 'D', 'E']  # x\n",
        "\n",
        "# COMPLETE THE REST OF THE CODE"
      ],
      "metadata": {
        "id": "0WAX4X4wbGnS"
      },
      "execution_count": null,
      "outputs": []
    },
    {
      "cell_type": "markdown",
      "source": [
        "---\n",
        "\n",
        "<center>\n",
        "\n",
        "#### **Wait for Your Instructor to Continue**\n",
        "\n",
        "---"
      ],
      "metadata": {
        "id": "H2YkMkpwuogS"
      }
    },
    {
      "cell_type": "markdown",
      "source": [
        "<a name=\"p3.4\"></a>\n",
        "\n",
        "---\n",
        "### **Part 3.4: Enhancing Plot Aesthetics**\n",
        "---"
      ],
      "metadata": {
        "id": "XgDJRJ2zuwQa"
      }
    },
    {
      "cell_type": "markdown",
      "source": [
        "#### **Run the cell below to import the data for the following problems.**\n",
        "\n",
        "This dataset contains information on U.S. agricultural exports in 2011."
      ],
      "metadata": {
        "id": "v52xBX4hPYcF"
      }
    },
    {
      "cell_type": "code",
      "source": [
        "url = 'https://raw.githubusercontent.com/plotly/datasets/master/2011_us_ag_exports.csv'\n",
        "export_df = pd.read_csv(url)\n",
        "export_df.head()"
      ],
      "metadata": {
        "id": "7ltA47zfPiTN"
      },
      "execution_count": null,
      "outputs": []
    },
    {
      "cell_type": "markdown",
      "source": [
        "#### **Problem #3.4.1**\n",
        "\n",
        "**Together**, let's compare beef export of different states using a bar plot. Adjust the size of the plot so that the graph and its labels are legible.\n",
        "\n",
        "\n",
        "\n",
        "**NOTE**: To use a DataFrame for a graph, here is the syntax:\n",
        "```\n",
        "plt.bar(DF_NAME['x_variable'],export_df['y_variable'])\n",
        "```"
      ],
      "metadata": {
        "id": "nN0tkLl8PoT4"
      }
    },
    {
      "cell_type": "code",
      "source": [],
      "metadata": {
        "id": "0JArGmUYP2jQ"
      },
      "execution_count": null,
      "outputs": []
    },
    {
      "cell_type": "markdown",
      "source": [
        "---\n",
        "\n",
        "#### **Now it's your turn! Try Problem #3.4.2 on your own.**\n",
        "\n",
        "---"
      ],
      "metadata": {
        "id": "muZVIuDQvHkB"
      }
    },
    {
      "cell_type": "markdown",
      "source": [
        "#### **Problem #3.4.2**\n",
        "\n",
        "**Independently**, compare the export of corn from different states using a bar plot. Make sure you adjust the size of the plot."
      ],
      "metadata": {
        "id": "_TtWLwGvQS7U"
      }
    },
    {
      "cell_type": "code",
      "source": [],
      "metadata": {
        "id": "aRIt-71SQTvy"
      },
      "execution_count": null,
      "outputs": []
    },
    {
      "cell_type": "markdown",
      "source": [
        "---\n",
        "\n",
        "# End of Notebook\n",
        "\n",
        "© 2023 The Coding School, All rights reserved"
      ],
      "metadata": {
        "id": "75g0yrIewirj"
      }
    }
  ]
}