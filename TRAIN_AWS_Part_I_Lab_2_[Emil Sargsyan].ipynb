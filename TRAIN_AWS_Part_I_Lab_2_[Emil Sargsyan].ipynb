{
  "nbformat": 4,
  "nbformat_minor": 0,
  "metadata": {
    "colab": {
      "provenance": [],
      "toc_visible": true,
      "include_colab_link": true
    },
    "kernelspec": {
      "name": "python3",
      "display_name": "Python 3"
    },
    "language_info": {
      "name": "python"
    }
  },
  "cells": [
    {
      "cell_type": "markdown",
      "metadata": {
        "id": "view-in-github",
        "colab_type": "text"
      },
      "source": [
        "<a href=\"https://colab.research.google.com/github/emilsar/bit-of-data-science-and-scikit-learn/blob/master/TRAIN_AWS_Part_I_Lab_2_%5BEmil%20Sargsyan%5D.ipynb\" target=\"_parent\"><img src=\"https://colab.research.google.com/assets/colab-badge.svg\" alt=\"Open In Colab\"/></a>"
      ]
    },
    {
      "cell_type": "markdown",
      "source": [
        "# **Lab #2: Introduction to Data Visualizations**\n",
        "---\n",
        "\n",
        "### **Description**\n",
        "In this notebook, you will be introduced to an essential step of the Exploratory Data Analysis (EDA) process: Data Visualization. We will explore different types of visualizations including scatter plots, line plots and bar plots.\n",
        "\n",
        "<br>\n",
        "\n",
        "### **Lab Structure**\n",
        "\n",
        "**Part 1**: [Scatter Plots](#p1)\n",
        "\n",
        "**Part 2**: [Line Plots](#p2)\n",
        "\n",
        "**Part 3**: [Bar Plots](#p3)\n",
        "\n",
        "**Part 4**: [Independent Work](#p4)\n",
        "\n",
        "</br>\n",
        "\n",
        "### **Goals**\n",
        "\n",
        "By the end of this lab, you will:\n",
        "* Be able to identify different types of visualizations.\n",
        "* Be able to create scatter, line, and bar plots using matplotlib.\n",
        "\n",
        "</br>\n",
        "\n",
        "### **Cheat Sheets**\n",
        "* [Python Basics](https://drive.google.com/drive/folders/1PYko513ZHHJdH2n-kPFYQyzRvaRlp3Ka)\n",
        "\n",
        "* [Data Visualizations with matplotlib](https://docs.google.com/document/d/1IA-sgjUvrQYyKlcBxFN-PIsHMEMrixwd6sh9RlMkubQ/edit?usp=sharing)\n",
        "\n",
        "</br>\n",
        "\n",
        "**Before starting, run the code below.**"
      ],
      "metadata": {
        "id": "JbBCapRlQ8Yu"
      }
    },
    {
      "cell_type": "code",
      "execution_count": null,
      "metadata": {
        "id": "YCin5p2tQ2tw"
      },
      "outputs": [],
      "source": [
        "#install libraries\n",
        "#!pip install matplotlib\n",
        "#!pip install pandas\n",
        "\n",
        "#import libraries\n",
        "import matplotlib.pyplot as plt\n",
        "import pandas as pd\n",
        "import numpy as np\n",
        "\n",
        "# ignore seaborn import... this is just for some datasets\n",
        "#! pip install seaborn\n",
        "#import seaborn as sns"
      ]
    },
    {
      "cell_type": "markdown",
      "source": [
        "<a name=\"p1\"></a>\n",
        "\n",
        "---\n",
        "## **Part 1: Scatter Plots**\n",
        "---"
      ],
      "metadata": {
        "id": "35kCNtZbRXbC"
      }
    },
    {
      "cell_type": "markdown",
      "source": [
        "### **Problem #1.1**\n",
        "\n",
        "**Together**, we will create a scatter plot. Specifically, let's:\n",
        "\n",
        "1. Create a scatter plot.\n",
        "\n",
        "2. Add a title.\n",
        "\n",
        "3. Add x and y labels.\n",
        "\n",
        "<br>\n",
        "\n",
        "**First, run the code below to create your dataframe called `df`.**"
      ],
      "metadata": {
        "id": "A9yCEWGndMPX"
      }
    },
    {
      "cell_type": "code",
      "source": [
        "# create dataframe\n",
        "df = pd.DataFrame.from_dict({\"ID\": [101, 102, 103, 104, 105, 106, 107, 108, 109, 110, 111, 112, 113, 114, 115],\n",
        "           \"Weight\": [125, 101, 165, 187, 144, 202, 113, 191, 223, 303, 166, 150, 108, 217, 191],\n",
        "           \"Gender\": ['F', 'F', 'M', 'M', 'F', 'M', 'F', 'M', 'M', 'F', 'F', 'M', 'F', 'M', 'M'],\n",
        "           \"Height (in)\": [64, 59, 70, 72, 66, 72, 61, 71, 74, 69, 69, 67, 60, 70, 65]})\n",
        "\n",
        "# reorganize columns\n",
        "df = df[['ID', 'Gender', 'Height (in)', 'Weight']]\n",
        "\n",
        "print(df)"
      ],
      "metadata": {
        "id": "N8MJgw3qR3vy"
      },
      "execution_count": null,
      "outputs": []
    },
    {
      "cell_type": "markdown",
      "source": [
        "#### **Step #1: Create a scatter plot using `Weight` as the x-axis value and `Height (in)` as the y-axis value.**"
      ],
      "metadata": {
        "id": "Sn8pkut_R79Z"
      }
    },
    {
      "cell_type": "code",
      "source": [
        "plt.scatter(# COMPLETE THIS LINE\n",
        "\n",
        "plt.show()"
      ],
      "metadata": {
        "id": "WfU7s64pXlMG"
      },
      "execution_count": null,
      "outputs": []
    },
    {
      "cell_type": "markdown",
      "source": [
        "#### **Step #2: Add a title called \"The relationship between height and weight in patients\".**"
      ],
      "metadata": {
        "id": "r4EsM8qjSBXk"
      }
    },
    {
      "cell_type": "code",
      "source": [
        "plt.scatter(# COMPLETE THIS LINE THE SAME AS ABOVE\n",
        "plt.title(# COMPLETE THIS LINE\n",
        "plt.show()"
      ],
      "metadata": {
        "id": "vthOOLkIrYll"
      },
      "execution_count": null,
      "outputs": []
    },
    {
      "cell_type": "markdown",
      "source": [
        "#### **Step #3: Add a x-axis label called \"Weight (lbs)\" and a y-axis label called \"Height (in)\".**"
      ],
      "metadata": {
        "id": "YHpZG9f_SEw6"
      }
    },
    {
      "cell_type": "code",
      "source": [
        "plt.scatter(# COMPLETE THIS LINE THE SAME AS ABOVE\n",
        "plt.title(# COMPLETE THIS LINE THE SAME AS ABOVE\n",
        "plt.xlabel(# COMPLETE THIS LINE\n",
        "plt.ylabel(# COMPLETE THIS LINE\n",
        "plt.show()"
      ],
      "metadata": {
        "id": "ucy2CbbnrbTU"
      },
      "execution_count": null,
      "outputs": []
    },
    {
      "cell_type": "markdown",
      "source": [
        "---\n",
        "### **Try Problem #1.2 on your own!**\n",
        "---"
      ],
      "metadata": {
        "id": "Mq2gi4MoMF52"
      }
    },
    {
      "cell_type": "markdown",
      "source": [
        "### **Problem #1.2**"
      ],
      "metadata": {
        "id": "gJM55cc_SMyx"
      }
    },
    {
      "cell_type": "markdown",
      "source": [
        "#### **Step #1: Graph the `x` and `y` data in the code below as a scatter plot.**\n"
      ],
      "metadata": {
        "id": "4-h9Kp9uSPtv"
      }
    },
    {
      "cell_type": "code",
      "source": [
        "df = pd.DataFrame.from_dict({'x': [5,7,8,7,2,17,2,9,4,11,12,9,6], 'y': [99,86,87,88,111,86,103,87,94,78,77,85,86]})\n",
        "\n",
        "# create your scatter plot here"
      ],
      "metadata": {
        "id": "ZShMfqUNSQI-"
      },
      "execution_count": null,
      "outputs": []
    },
    {
      "cell_type": "markdown",
      "source": [
        "#### **Step #2: Add a title.**\n",
        "The above information is from recording the age of cars and the speed at which they passed by. Add the following title: \"Speed of cars passing by vs. how many years old the car is\"."
      ],
      "metadata": {
        "id": "1aWeWYuMSYx2"
      }
    },
    {
      "cell_type": "code",
      "source": [
        "# COMPLETE THIS CODE"
      ],
      "metadata": {
        "id": "A_1iMdvacO-S"
      },
      "execution_count": null,
      "outputs": []
    },
    {
      "cell_type": "markdown",
      "source": [
        "#### **Step #3: Add the x-axis label: \"Age of car (years)\".**"
      ],
      "metadata": {
        "id": "h8Z8uvGISdXj"
      }
    },
    {
      "cell_type": "code",
      "source": [
        "# COMPLETE THIS CODE"
      ],
      "metadata": {
        "id": "Ty7fAI_ecSxw"
      },
      "execution_count": null,
      "outputs": []
    },
    {
      "cell_type": "markdown",
      "source": [
        "#### **Step #4: Add the y-axis label: \"Speed of car when it passes (mph)\"**."
      ],
      "metadata": {
        "id": "T_9VfHRMSh-Y"
      }
    },
    {
      "cell_type": "code",
      "source": [
        "# COMPLETE THIS CODE"
      ],
      "metadata": {
        "id": "H9htdHbicUtW"
      },
      "execution_count": null,
      "outputs": []
    },
    {
      "cell_type": "markdown",
      "source": [
        "<center>\n",
        "\n",
        "---\n",
        "### **Back to Lecture**\n",
        "---\n",
        "\n",
        "</center>"
      ],
      "metadata": {
        "id": "KO9EgSEdJ979"
      }
    },
    {
      "cell_type": "markdown",
      "source": [
        "<a name=\"p2\"></a>\n",
        "\n",
        "---\n",
        "## **Part 2: Line Plots**\n",
        "---"
      ],
      "metadata": {
        "id": "nGhw3y8aWiTT"
      }
    },
    {
      "cell_type": "markdown",
      "source": [
        "### **Problem #2.1**\n",
        "\n",
        "**Together**, we will create a line plot. Specifically, let's:\n",
        "\n",
        "1. Create a line plot.\n",
        "\n",
        "2. Add a title.\n",
        "\n",
        "3. Add x and y labels.\n",
        "\n",
        "<br>\n",
        "\n",
        "**First, run the code below to create your dataframe called `heights`.**"
      ],
      "metadata": {
        "id": "-AgTMHaeSth3"
      }
    },
    {
      "cell_type": "code",
      "source": [
        "#create dataframe\n",
        "heights = pd.DataFrame.from_dict({\"age\": [0, 1, 2, 3, 4, 5, 6, 7, 8, 9, 10, 11, 12, 13, 14, 15, 16, 17, 18], \"Height (in)\": [12, 18, 24, 30, 34, 38, 42, 45, 47, 50, 53, 56, 59, 62, 67, 68, 69, 70, 70]})\n",
        "heights"
      ],
      "metadata": {
        "id": "LXeV9SWOSzq3"
      },
      "execution_count": null,
      "outputs": []
    },
    {
      "cell_type": "markdown",
      "source": [
        "#### **Step #1: Create a line plot using `age` as the x-axis value and `height` as the y-axis value.**"
      ],
      "metadata": {
        "id": "_vsuIIQzSyJm"
      }
    },
    {
      "cell_type": "code",
      "source": [
        "plt.plot(# COMPLETE THIS LINE\n",
        "plt.# COMPLETE THIS LINE"
      ],
      "metadata": {
        "id": "EQAyQ7IXZy9O"
      },
      "execution_count": null,
      "outputs": []
    },
    {
      "cell_type": "markdown",
      "source": [
        "#### **Step #2: Add in labels and a title.**\n",
        "\n",
        "Make the title and x- and y-axis labels the following:\n",
        "* `Title`: \"Graph showing patients height over time\"\n",
        "* `X-axis`: \"Age\"\n",
        "* `Y-axis`: \"Height\""
      ],
      "metadata": {
        "id": "EnQzQgOLS3sY"
      }
    },
    {
      "cell_type": "code",
      "source": [
        "plt.plot(# COMPLETE THIS LINE THE SAME AS ABOVE\n",
        "\n",
        "plt.title(# COMPLETE THIS LINE\n",
        "plt.xlabel(# COMPLETE THIS LINE\n",
        "plt.ylabel(# COMPLETE THIS LINE\n",
        "\n",
        "plt.show()"
      ],
      "metadata": {
        "id": "Abe7GHjAZ3RA"
      },
      "execution_count": null,
      "outputs": []
    },
    {
      "cell_type": "markdown",
      "source": [
        "---\n",
        "### **Try Problem #2.2 on your own!**\n",
        "---"
      ],
      "metadata": {
        "id": "TqOVvPeO5CUv"
      }
    },
    {
      "cell_type": "markdown",
      "source": [
        "### **Problem #2.2**"
      ],
      "metadata": {
        "id": "cli6KeMRS86H"
      }
    },
    {
      "cell_type": "markdown",
      "source": [
        "#### **Step #1: Create a line plot out of the following data.**"
      ],
      "metadata": {
        "id": "dOq0DuwNTAvz"
      }
    },
    {
      "cell_type": "code",
      "source": [
        "df = pd.DataFrame.from_dict({'x': [1, 5, 3, 5, 7, 8], 'y': [1, 2, 3, 4, 5, 20]})\n",
        "\n",
        "\n",
        "# add graph here"
      ],
      "metadata": {
        "id": "k3VmfD-AS-3I"
      },
      "execution_count": null,
      "outputs": []
    },
    {
      "cell_type": "markdown",
      "source": [
        "#### **Step #2: Add a title and labels.**\n",
        "\n",
        "Let's assume the graph and data is representative of a stock on the market. Add a title, x-label, and y-label as follows:\n",
        "* `Title:` \"Stock price over time\"\n",
        "* `X-axis:` \"Month\"\n",
        "* `Y-axis`: \"Price (in thousands)\""
      ],
      "metadata": {
        "id": "GKNkBQDtTISi"
      }
    },
    {
      "cell_type": "code",
      "source": [],
      "metadata": {
        "id": "Gfjdc9HFa4Ew"
      },
      "execution_count": null,
      "outputs": []
    },
    {
      "cell_type": "markdown",
      "source": [
        "<center>\n",
        "\n",
        "---\n",
        "### **Back to Lecture**\n",
        "---\n",
        "\n",
        "</center>"
      ],
      "metadata": {
        "id": "CQeTZdP4J7B0"
      }
    },
    {
      "cell_type": "markdown",
      "source": [
        "<a name=\"p3\"></a>\n",
        "\n",
        "---\n",
        "## **Part 3: Bar Plots**\n",
        "---"
      ],
      "metadata": {
        "id": "g6oBbsgKWm2M"
      }
    },
    {
      "cell_type": "markdown",
      "source": [
        "### **Problem #3.1**\n",
        "\n",
        "**Together**, we will create a bar plot. Specifically, let's:\n",
        "\n",
        "1. Create a bar plot.\n",
        "\n",
        "2. Add a title.\n",
        "\n",
        "3. Add x and y labels.\n",
        "\n",
        "<br>\n",
        "\n",
        "**First, run the code below to create your dataframe called `courses`.**"
      ],
      "metadata": {
        "id": "IMHC6e1aTQJZ"
      }
    },
    {
      "cell_type": "code",
      "source": [
        "courses = pd.DataFrame.from_dict({'courses': ['Maths', 'English','Science','Music'], 'students': [35,15,30,50]})\n",
        "\n",
        "courses.head()"
      ],
      "metadata": {
        "id": "uns-Cu9yTb6F"
      },
      "execution_count": null,
      "outputs": []
    },
    {
      "cell_type": "markdown",
      "source": [
        "#### **Step #1: Create a bar plot using `courses` as the x-axis value and number of students enrolled as the y-axis value.**\n",
        "\n"
      ],
      "metadata": {
        "id": "c08SgzqqTdk4"
      }
    },
    {
      "cell_type": "code",
      "source": [],
      "metadata": {
        "id": "KOhdfYbCsiR1"
      },
      "execution_count": null,
      "outputs": []
    },
    {
      "cell_type": "markdown",
      "source": [
        "#### **Step #2: Add in labels and a title.**\n",
        "\n",
        "Add a title, x-label, and y-label as follows:\n",
        "* `Title:` \"Students enrolled in different courses\"\n",
        "* `X-axis:` \"Courses offered\"\n",
        "* `Y-axis`: \"Number of students enrolled\""
      ],
      "metadata": {
        "id": "kRMfghzDThOY"
      }
    },
    {
      "cell_type": "code",
      "source": [],
      "metadata": {
        "id": "79b_5k9Mn_U9"
      },
      "execution_count": null,
      "outputs": []
    },
    {
      "cell_type": "markdown",
      "source": [
        "---\n",
        "### **Try Problem #3.2 on your own!**\n",
        "---"
      ],
      "metadata": {
        "id": "HBqq5Mq_OFAj"
      }
    },
    {
      "cell_type": "markdown",
      "source": [
        "### **Problem #3.2**"
      ],
      "metadata": {
        "id": "5GNtcXXqTkEr"
      }
    },
    {
      "cell_type": "markdown",
      "source": [
        "\n",
        "#### **Step #1: Create a bar plot out of the following data.**\n",
        "\n",
        "`langs` refers to different programming classes, and `students` refers to the number of students enrolled in each one."
      ],
      "metadata": {
        "id": "3yQpgYrZd1zh"
      }
    },
    {
      "cell_type": "code",
      "source": [
        "langs = pd.DataFrame.from_dict({'langs': ['C', 'C++', 'Java', 'Python', 'PHP'], 'students': [23,17,35,29,12]})"
      ],
      "metadata": {
        "id": "VD1AoLbhTpOj"
      },
      "execution_count": null,
      "outputs": []
    },
    {
      "cell_type": "markdown",
      "source": [
        "#### **Step #2: Add in the following labels and title.**\n",
        "* `Title`: \"Number of students in different programming classes\"\n",
        "* `X-axis`: \"Programming classes\"\n",
        "* `Y-axis`: \"Number of students\"\n"
      ],
      "metadata": {
        "id": "evtYp9HkTrlq"
      }
    },
    {
      "cell_type": "code",
      "source": [],
      "metadata": {
        "id": "PM5Cnu1Tc-Mq"
      },
      "execution_count": null,
      "outputs": []
    },
    {
      "cell_type": "markdown",
      "source": [
        "<center>\n",
        "\n",
        "---\n",
        "### **Back to Lecture**\n",
        "---\n",
        "\n",
        "</center>"
      ],
      "metadata": {
        "id": "sbxppuZnJqy6"
      }
    },
    {
      "cell_type": "markdown",
      "source": [
        "<a name=\"p4\"></a>\n",
        "\n",
        "---\n",
        "## **Part 4: Independent Work**\n",
        "---"
      ],
      "metadata": {
        "id": "mAK42sxbULSD"
      }
    },
    {
      "cell_type": "markdown",
      "source": [
        "### **Problem #4.1**\n",
        "\n",
        "Create a scatter plot given the array `x_range` and array `y_range`. Add a title called \"Random Variable Vs. Random Variable\" to the graph. And add x- and y-labels that say \"Random X\" and \"Random Y\", respectively."
      ],
      "metadata": {
        "id": "eWlYktNOVEVu"
      }
    },
    {
      "cell_type": "code",
      "source": [
        "x_range = np.random.randint(400, size=50)\n",
        "y_range = np.random.randint(400, size=50)\n",
        "\n",
        "# add scatter plot"
      ],
      "metadata": {
        "id": "3xGZ60jKVFBk"
      },
      "execution_count": null,
      "outputs": []
    },
    {
      "cell_type": "markdown",
      "source": [
        "### **Problem #4.2**\n",
        "\n",
        "Create a line plot with the given data. Then, add the following labels and title:\n",
        "* `Title`: \"Unemployment Rate vs Year\"\n",
        "* `X-axis`: \"Year\"\n",
        "* `Y-axis`: \"Unemployment Rate\""
      ],
      "metadata": {
        "id": "IBZZO8zpN0y7"
      }
    },
    {
      "cell_type": "code",
      "source": [
        "unemployment = pd.DataFrame.from_dict({'year': [1920,1930,1940,1950,1960,1970,1980,1990,2000,2010], 'unemployment rate': [9.8,12,8,7.2,6.9,7,6.5,6.2,5.5,6.3]})\n",
        "\n",
        "#add code"
      ],
      "metadata": {
        "id": "LhSxS3JIUL6Z"
      },
      "execution_count": null,
      "outputs": []
    },
    {
      "cell_type": "markdown",
      "source": [
        "### **Problem #4.3**\n",
        "\n",
        "Given the following scatter plot, add the following labels and title:\n",
        "* `Title`: \"Distance vs Workout Duration\"\n",
        "* `X-axis`: \"Distance (km)\"\n",
        "* `Y-axis`: \"Workout Duration (min)\""
      ],
      "metadata": {
        "id": "6S8fsll0UQXt"
      }
    },
    {
      "cell_type": "code",
      "source": [
        "workout_df = pd.DataFrame({\"date\": [\"10/17/21\", \"11/04/21\", \"11/18/21\", \"11/23/21\", \"11/28/21\", \"11/29/21\"],\n",
        "           \"distance_km\": [4.3, 1.9, 1.9, 1.9, 2.3, 2.8],\n",
        "           \"duration_min\": [21.58, 9.25, 9.0, 8.93, 11.94, 14.05],\n",
        "           \"delta_last_workout\":[1, 18, 14, 5, 5, 1],\n",
        "           \"day_category\": [0, 1, 1, 0, 0, 0]})\n",
        "\n",
        "# creating scatter\n",
        "x = workout_df['distance_km']\n",
        "y = workout_df['duration_min']\n",
        "\n",
        "#add code\n",
        "\n",
        "plt.scatter(x, y)\n",
        "plt.show()"
      ],
      "metadata": {
        "id": "8_s7i36wH5qM"
      },
      "execution_count": null,
      "outputs": []
    },
    {
      "cell_type": "markdown",
      "source": [
        "### **Problem #4.4**\n",
        "\n",
        "Create a bar plot using the DataFrame below. Add labels: `Innovative companies` for the title, `Countries` for the x-axis label, and `Number of Companies` for the y-axis label."
      ],
      "metadata": {
        "id": "9pyY5MuXUX1R"
      }
    },
    {
      "cell_type": "code",
      "source": [
        "companies_df = pd.DataFrame({\"countries\": [\"USA\", \"South Korea\", \"China\", \"Japan\", \"Germany\", \"Netherlands\", \"India\", \"France\", \"London\", \"Switzerland\", \"Sweden\", \"Italy\"],\n",
        "             \"companies\": [25, 2, 3, 3, 6, 1, 3, 1, 1, 2, 2, 1]})\n",
        "\n",
        "companies_df.head()\n",
        "\n",
        "# add code"
      ],
      "metadata": {
        "id": "i0sk0NKfUYYo"
      },
      "execution_count": null,
      "outputs": []
    },
    {
      "cell_type": "markdown",
      "source": [
        "### **Problem #4.5**\n",
        "\n",
        "The information below contains data related to how many people have visited Disney Parks globally. Create a bar plot to show how the number of visits have changed between 2017 to 2020. Make sure you add in helpful labels and a title.\n",
        "\n",
        "**Note:** Visitors is in millions. For example, in 2017, 150 million people visited Disney Parks globally."
      ],
      "metadata": {
        "id": "e45I8G5DVUsf"
      }
    },
    {
      "cell_type": "code",
      "source": [
        "year = ['2017', '2018', '2019', '2020']\n",
        "visitors = [150, 157, 155.991, 43.525]\n"
      ],
      "metadata": {
        "id": "-FTYemlJVZtO"
      },
      "execution_count": null,
      "outputs": []
    },
    {
      "cell_type": "code",
      "source": [
        "# Bar Plot\n"
      ],
      "metadata": {
        "id": "2xGNI2UzOIM_"
      },
      "execution_count": null,
      "outputs": []
    },
    {
      "cell_type": "markdown",
      "source": [
        "### **Problem #4.6**\n",
        "\n",
        "Create a scatter plot for the following data. Make the title and labels the following:\n",
        "* `Title`: \"Age vs. height in teenagers\"\n",
        "* `X-axis`: \"Age\"\n",
        "* `Y-axis`: \"Height (in)\""
      ],
      "metadata": {
        "id": "-J73dIIJM1PS"
      }
    },
    {
      "cell_type": "code",
      "source": [
        "age = [14, 14, 13, 18, 17, 20, 17, 16, 19, 19]\n",
        "height = [65, 68, 58, 61, 64, 75, 67, 69, 71, 63] #in inches\n",
        "# Scatter Plot"
      ],
      "metadata": {
        "id": "Z9DTJN9xM1Pa"
      },
      "execution_count": null,
      "outputs": []
    },
    {
      "cell_type": "markdown",
      "source": [
        "### **Problem #4.7**\n",
        "\n",
        "Create a line plot for the following data. Add a title called \"Bike Rideshare Activity\" with x-axis and y-axis labels called \"Month\" and \"Bike Trips\", respectively."
      ],
      "metadata": {
        "id": "Luab9N3dM1pO"
      }
    },
    {
      "cell_type": "code",
      "source": [
        "months = [1, 2, 3, 4, 5, 6, 7, 8, 9, 10, 11, 12]\n",
        "trips = [300, 358, 521, 574, 783, 1549, 1776, 1920, 1714, 1234, 703, 438]\n",
        "\n",
        "# Line Plot"
      ],
      "metadata": {
        "id": "AgldHJkyM1pP"
      },
      "execution_count": null,
      "outputs": []
    },
    {
      "cell_type": "markdown",
      "source": [
        "### **Problem #4.8**\n",
        "\n",
        "Create a bar plot for the following data. Add a title called \"Favorite Types of Drinks\" with x-axis and y-axis labels called \"Drink\" and \"Number of People\", respectively."
      ],
      "metadata": {
        "id": "LbOtCpDGM14v"
      }
    },
    {
      "cell_type": "code",
      "source": [
        "drinks = [\"water\", \"tea\", \"coffee\", \"juice\", \"soda\"]\n",
        "people = [12, 5, 17, 15, 9]\n",
        "\n",
        "# Bar Plot"
      ],
      "metadata": {
        "id": "qTQBpaJYM14v"
      },
      "execution_count": null,
      "outputs": []
    },
    {
      "cell_type": "markdown",
      "source": [
        "<a name=\"p5\"></a>\n",
        "\n",
        "---\n",
        "## **Part 5: [ADVANCED] Improving Visualizations**\n",
        "---\n",
        "\n",
        "In this section, we will explore several ways to improve upon the visuals we learned to make above."
      ],
      "metadata": {
        "id": "p5_an2bSV9UK"
      }
    },
    {
      "cell_type": "markdown",
      "source": [
        "<a name=\"p5.1\"></a>\n",
        "\n",
        "---\n",
        "### **Part 5.1: Improving Scatter Plots**\n",
        "---"
      ],
      "metadata": {
        "id": "8yXy7TnmVlsM"
      }
    },
    {
      "cell_type": "markdown",
      "source": [
        "#### **Problem #5.1.1**\n",
        "\n",
        "We are given average temperature values for the months of the year for two cities: `city_A` and `city_B`. Let's plot each city's average temperatures. We'll need to make two scatter plots.\n",
        "\n",
        "Make `city_A` markers blue squares and `city_B` markers red stars. Add labels and a legend.\n",
        "\n",
        "From the graph, which city is most likely located in the Northeast?"
      ],
      "metadata": {
        "id": "dUqOMFqIqMGq"
      }
    },
    {
      "cell_type": "code",
      "source": [
        "city_A_temps = [60,65,67, 70, 77, 84, 94, 101, 90, 82, 62]\n",
        "city_B_temps = [-11, 14, 25, 32, 55, 73, 87, 92, 82, 66, 53]\n",
        "months = np.arange(1,12)"
      ],
      "metadata": {
        "id": "ZBZcgZ2trRtM"
      },
      "execution_count": null,
      "outputs": []
    },
    {
      "cell_type": "code",
      "source": [
        "# Plot here\n"
      ],
      "metadata": {
        "id": "B6nuqGlIOWDU"
      },
      "execution_count": null,
      "outputs": []
    },
    {
      "cell_type": "markdown",
      "source": [
        "#### **Problem #5.1.2**\n",
        "\n",
        "Now, adjust the plot so that `city_A` markers are black diamonds and `city_B` markers are green octagons. You can find all the marker options [here](https://matplotlib.org/stable/api/markers_api.html)."
      ],
      "metadata": {
        "id": "XJTJjzIdhMuF"
      }
    },
    {
      "cell_type": "code",
      "source": [
        "city_A_temps = [60,65,67, 70, 77, 84, 94, 101, 90, 82, 62]\n",
        "city_B_temps = [-11, 14, 25, 32, 55, 73, 87, 92, 82, 66, 53]\n",
        "months = np.arange(1,12)"
      ],
      "metadata": {
        "id": "FGyhRMmBhMuG"
      },
      "execution_count": null,
      "outputs": []
    },
    {
      "cell_type": "code",
      "source": [
        "# Plot here\n",
        "\n"
      ],
      "metadata": {
        "id": "tDc50XjYOZ-g"
      },
      "execution_count": null,
      "outputs": []
    },
    {
      "cell_type": "markdown",
      "source": [
        "#### **Problem #5.1.3**\n",
        "\n",
        "Run the following cell to see the given scatter plot. As you can see, there is a lot of overlap of the points. So, let's set the transparency (`alpha`) to 0.5."
      ],
      "metadata": {
        "id": "D8fNYzcGUV3O"
      }
    },
    {
      "cell_type": "code",
      "source": [
        "# get data (ignore the sns part)\n",
        "tips_df = sns.load_dataset('tips')\n",
        "total_bill = tips_df.total_bill.to_numpy()\n",
        "tip = tips_df.tip.to_numpy()\n",
        "\n",
        "# plot data\n",
        "plt.scatter(total_bill, tip)\n",
        "plt.title('Total Bill vs Tip')\n",
        "plt.xlabel('Total Bill ($)')\n",
        "plt.ylabel('Tip ($)')\n",
        "plt.show()"
      ],
      "metadata": {
        "id": "ecevoMqiUb9p"
      },
      "execution_count": null,
      "outputs": []
    },
    {
      "cell_type": "code",
      "source": [
        "# Change transparency\n",
        "\n",
        "\n"
      ],
      "metadata": {
        "id": "7jPR8UfIOdym"
      },
      "execution_count": null,
      "outputs": []
    },
    {
      "cell_type": "markdown",
      "source": [
        "#### **Problem #5.1.4**\n",
        "\n",
        "Using the scatter plot from the problem above, change the size of the scatter points using the variable `size_table_scaled`."
      ],
      "metadata": {
        "id": "EhK1ndAGms-O"
      }
    },
    {
      "cell_type": "code",
      "source": [
        "# use size_table_scaled for size\n",
        "size_table = tips_df['size'].to_numpy()\n",
        "size_table_scaled = [3*s**2 for s in size_table]\n",
        "\n",
        "print(size_table_scaled)\n",
        "# update plot\n"
      ],
      "metadata": {
        "id": "t2MCTEgcV0_b"
      },
      "execution_count": null,
      "outputs": []
    },
    {
      "cell_type": "code",
      "source": [
        "# Change size\n",
        "\n"
      ],
      "metadata": {
        "id": "NHaL6w0nOgBY"
      },
      "execution_count": null,
      "outputs": []
    },
    {
      "cell_type": "markdown",
      "source": [
        "<a name=\"p5.2\"></a>\n",
        "\n",
        "---\n",
        "### **Part 5.2: Improving Line Plots**\n",
        "---"
      ],
      "metadata": {
        "id": "ekZX9XHgvpBh"
      }
    },
    {
      "cell_type": "markdown",
      "source": [
        "#### **Problem #5.2.1**\n",
        "\n",
        "Let's create a line plot with the following features:\n",
        "\n",
        "\n",
        "* A dashed line\n",
        "* Change the dashed line and markers to the color purple\n",
        "* A legend\n",
        "\n"
      ],
      "metadata": {
        "id": "tCDKL5LXIDtm"
      }
    },
    {
      "cell_type": "code",
      "source": [
        "Year = [1920,1930,1940,1950,1960,1970,1980,1990,2000,2010]\n",
        "Unemployment_Rate = [9.8,12,8,7.2,6.9,7,6.5,6.2,5.5,6.3]"
      ],
      "metadata": {
        "id": "u04mZF2WYrb1"
      },
      "execution_count": null,
      "outputs": []
    },
    {
      "cell_type": "code",
      "source": [
        "# Making further improvements\n",
        "\n",
        "\n"
      ],
      "metadata": {
        "id": "NYq809wfOiUe"
      },
      "execution_count": null,
      "outputs": []
    },
    {
      "cell_type": "markdown",
      "source": [
        "#### **Problem #5.2.2**\n",
        "\n",
        "Using the following data, create a line plot. In addition:\n",
        "* Make that line dashed and dotted with `\"-.\"`\n",
        "* Add a grid to the background"
      ],
      "metadata": {
        "id": "Jf5F6kZOZFoI"
      }
    },
    {
      "cell_type": "code",
      "source": [
        "# x axis values\n",
        "x = [1,2,3]\n",
        "# corresponding y axis values\n",
        "y = [2,4,1]"
      ],
      "metadata": {
        "id": "jWVJ7xzZZfk1"
      },
      "execution_count": null,
      "outputs": []
    },
    {
      "cell_type": "code",
      "source": [
        "# Making improvements\n",
        "\n",
        "\n"
      ],
      "metadata": {
        "id": "J2vGRGAHOk1Y"
      },
      "execution_count": null,
      "outputs": []
    },
    {
      "cell_type": "markdown",
      "source": [
        "<a name=\"p5.3\"></a>\n",
        "\n",
        "---\n",
        "### **Part 5.3: Improving Bar Plots**\n",
        "---"
      ],
      "metadata": {
        "id": "n0zfv749v-qj"
      }
    },
    {
      "cell_type": "markdown",
      "source": [
        "#### **Problem #5.3.1**\n",
        "\n",
        "Let's make a bar plot with each bar as a different color."
      ],
      "metadata": {
        "id": "MsZMPksXamGz"
      }
    },
    {
      "cell_type": "code",
      "source": [
        "langs = ['English', 'French', 'Spanish', 'Chinese', 'Arabic']\n",
        "students = [23,17,35,29,12]"
      ],
      "metadata": {
        "id": "tun4npXIUqH9"
      },
      "execution_count": null,
      "outputs": []
    },
    {
      "cell_type": "code",
      "source": [
        "# Bar plot\n",
        "\n"
      ],
      "metadata": {
        "id": "AeG2wGZBOm-I"
      },
      "execution_count": null,
      "outputs": []
    },
    {
      "cell_type": "markdown",
      "source": [
        "#### **Problem #5.3.2**\n",
        "\n",
        "Use the following data to create a simple bar plot. Make all of the bars blue except bar `E`; make bar `E` red."
      ],
      "metadata": {
        "id": "UBfUrUZBa0jQ"
      }
    },
    {
      "cell_type": "code",
      "source": [
        "height = [3, 12, 5, 18, 45]       # y\n",
        "bars = ['A', 'B', 'C', 'D', 'E']  # x"
      ],
      "metadata": {
        "id": "0WAX4X4wbGnS"
      },
      "execution_count": null,
      "outputs": []
    },
    {
      "cell_type": "code",
      "source": [
        "# Bar plot modifications\n",
        "\n"
      ],
      "metadata": {
        "id": "lcI6wXQEOqPs"
      },
      "execution_count": null,
      "outputs": []
    },
    {
      "cell_type": "markdown",
      "source": [
        "#### **Run the cell below to import the data for the following problems.**\n",
        "\n",
        "This dataset contains information on U.S. agricultural exports in 2011."
      ],
      "metadata": {
        "id": "v52xBX4hPYcF"
      }
    },
    {
      "cell_type": "code",
      "source": [
        "url = 'https://raw.githubusercontent.com/plotly/datasets/master/2011_us_ag_exports.csv'\n",
        "export_df = pd.read_csv(url)\n",
        "export_df.head()"
      ],
      "metadata": {
        "id": "7ltA47zfPiTN"
      },
      "execution_count": null,
      "outputs": []
    },
    {
      "cell_type": "markdown",
      "source": [
        "#### **Problem #5.3.3**\n",
        "\n",
        "Let's compare beef export of different states using a bar plot. Adjust the size of the plot so that the graph and its labels are legible.\n",
        "\n",
        "\n",
        "\n",
        "**NOTE**: to use a dataframe for a graph, here is the syntax:\n",
        "```\n",
        "plt.bar(DF_NAME['x_variable'],export_df['y_variable'])\n",
        "```"
      ],
      "metadata": {
        "id": "nN0tkLl8PoT4"
      }
    },
    {
      "cell_type": "code",
      "source": [
        "# Adjusting size of the graph plot\n",
        "\n"
      ],
      "metadata": {
        "id": "0JArGmUYP2jQ"
      },
      "execution_count": null,
      "outputs": []
    },
    {
      "cell_type": "markdown",
      "source": [
        "#### **Problem #5.3.4**\n",
        "\n",
        "Compare the export of corn from different states using a bar plot. Make sure you adjust the size of the plot."
      ],
      "metadata": {
        "id": "_TtWLwGvQS7U"
      }
    },
    {
      "cell_type": "code",
      "source": [],
      "metadata": {
        "id": "aRIt-71SQTvy"
      },
      "execution_count": null,
      "outputs": []
    },
    {
      "cell_type": "markdown",
      "source": [
        "#### **Problem #5.3.5**\n",
        "\n",
        "Update your line plot from above to include the following:\n",
        "\n",
        "* Make the title bold and in the font `serif`\n",
        "* Make the x- and y-labels large and in the font `serif`"
      ],
      "metadata": {
        "id": "DrsWeKWtGs8d"
      }
    },
    {
      "cell_type": "code",
      "source": [
        "Year = [1920,1930,1940,1950,1960,1970,1980,1990,2000,2010]\n",
        "Unemployment_Rate = [9.8,12,8,7.2,6.9,7,6.5,6.2,5.5,6.3]\n",
        "\n",
        "plt.plot(Year, Unemployment_Rate, color = \"purple\", marker = \".\", label = \"Unemp. Rate\", ls = \"--\")\n",
        "plt.xlabel(\"Year\")\n",
        "plt.ylabel(\"Unemployment Rate\")\n",
        "plt.title(\"Unemployment rate over the years\")\n",
        "plt.grid()\n",
        "plt.legend()\n",
        "plt.show()"
      ],
      "metadata": {
        "id": "90dZKCTGcjFr"
      },
      "execution_count": null,
      "outputs": []
    },
    {
      "cell_type": "code",
      "source": [
        "# YOUR CODE HERE\n",
        "\n",
        "\n"
      ],
      "metadata": {
        "id": "ocg6jRm7OyUA"
      },
      "execution_count": null,
      "outputs": []
    },
    {
      "cell_type": "markdown",
      "source": [
        "<a name=\"p5.4\"></a>\n",
        "\n",
        "---\n",
        "### **Part 5.4: Independent Practice on Styling Graphs**\n",
        "---"
      ],
      "metadata": {
        "id": "NDtjzSxflNul"
      }
    },
    {
      "cell_type": "markdown",
      "source": [
        "#### **Problem #5.4.1**\n",
        "\n",
        "Using the following data, create a line plot.\n",
        "\n",
        "**Hint:** Your graph should have three distinct lines corresponding to `y1`, `y2`, and `y3`.\n",
        "\n",
        "In addition:\n",
        "* Make sure each line is a different color\n",
        "* Make `y1` a dashed line\n",
        "* Add a grid to the background and make the background color black\n",
        "* Add a legend"
      ],
      "metadata": {
        "id": "N2s15JrL54G8"
      }
    },
    {
      "cell_type": "code",
      "source": [
        "# x axis values\n",
        "x = [1,2,3,4,5]\n",
        "# corresponding y axis values\n",
        "y1 = [2,4,6,8,10] # y = 2x\n",
        "y2 = [0.5,1,1.5,2,2.5] # y = 0.5x\n",
        "y3 = [1,4,9,16,25] # y = x^2\n",
        "\n",
        "# plot"
      ],
      "metadata": {
        "id": "n_wxFXOn54HF"
      },
      "execution_count": null,
      "outputs": []
    },
    {
      "cell_type": "markdown",
      "source": [
        "#### **Problem #5.5.2**\n",
        "\n",
        "Using the following data, create a scatter plot. In addition:\n",
        "* Make the data points green\n",
        "* Change the transparency to 0.6\n",
        "* Make the x-label `Temperature (Fahrenheit)` and in the font `fantasy`\n",
        "* Make the y-label `Number of People` and in the font `fantasy`\n",
        "* Make the title `Number of People at the Beach` and in the font `fantasy`"
      ],
      "metadata": {
        "id": "1zi19lH88t_L"
      }
    },
    {
      "cell_type": "code",
      "source": [
        "# x axis values\n",
        "x = [87, 94, 98, 102, 96, 90, 92, 93, 85, 82, 96, 80, 90, 91]\n",
        "# corresponding y axis values\n",
        "y = [204, 375, 522, 731, 439, 302, 317, 346, 268, 197, 649, 158, 327, 353]\n",
        "\n",
        "# plot"
      ],
      "metadata": {
        "id": "HzKR7meU8t_W"
      },
      "execution_count": null,
      "outputs": []
    },
    {
      "cell_type": "markdown",
      "source": [
        "#### **Problem #5.5.3**\n",
        "\n",
        "Using the following data, create a bar plot. In addition:\n",
        "* Make each bar's color the same as the color name\n",
        "* Make the x-label `Favorite Color` and with a font size of 12\n",
        "* Make the y-label `Number of People` and with a font size of 12\n",
        "* Make the title `Number of People vs Favorite Color` and with a font size of 20\n",
        "* Make the bar width 0.6"
      ],
      "metadata": {
        "id": "y-ILZBA-8ukB"
      }
    },
    {
      "cell_type": "code",
      "source": [
        "# x axis values\n",
        "x = [1,2,3,4,5]\n",
        "# corresponding y axis values\n",
        "y1 = [2,4,6,8,10]\n",
        "y2 = [0.5,1,1.5,2,2.5]\n",
        "y3 = [1,4,9,16,25]\n",
        "\n",
        "# plot"
      ],
      "metadata": {
        "id": "C-PM-Uc18ukC"
      },
      "execution_count": null,
      "outputs": []
    },
    {
      "cell_type": "markdown",
      "source": [
        "#### **Problem #5.5.4**\n",
        "\n",
        "Using the following data, create a line plot. In addition:\n",
        "* Make line y1 brown and dashed, and make line y2 pink\n",
        "* Add a grid to the background\n",
        "* Add a legend\n",
        "* Make the title `X vs Y` in font `monospace` and in size 18\n"
      ],
      "metadata": {
        "id": "CArAIjgv8vLv"
      }
    },
    {
      "cell_type": "code",
      "source": [
        "# x axis values\n",
        "x = [1,2,3,4,5,6,7]\n",
        "# corresponding y axis values\n",
        "y1 = [9, 4, 6, 8, 22, 17, 13]\n",
        "y2 = [3, 5, 8, 12, 17, 23, 30]\n",
        "\n",
        "# plot"
      ],
      "metadata": {
        "id": "FwFLRWyN8vLw"
      },
      "execution_count": null,
      "outputs": []
    },
    {
      "cell_type": "markdown",
      "source": [
        "#### **Problem #5.5.5**\n",
        "\n",
        "Create a bar plot for the following data with the following:\n",
        "* One bar showing the number of females in the dataset and another bar showing the number of males in the dataset.\n",
        "* Bars labeled 'Female' and 'Male'.\n",
        "* The y-axis labeled 'Number in Dataset' with extra large font.\n",
        "* A title called \"Number of Males and Females in the Dataset\" with extra large font.\n",
        "\n",
        "<br>\n",
        "\n",
        "**Hint**: You will need to use pandas functions to get the count of males and females in the data frame."
      ],
      "metadata": {
        "id": "wtniW7m3xIw8"
      }
    },
    {
      "cell_type": "code",
      "source": [
        "url = 'https://docs.google.com/spreadsheets/d/e/2PACX-1vSa0metcKBFqn-MHLn05vVGWONMlzljcWa-xIM1wJPXIa5kbrmIzGqmWcMh8eKG_ntByF9qqn6Mx3MT/pub?gid=1052859518&single=true&output=csv'\n",
        "df = pd.read_csv(url)\n",
        "df.head()\n",
        "# COMPLETE THIS CODE"
      ],
      "metadata": {
        "id": "sIlQ3hR5yXJE"
      },
      "execution_count": null,
      "outputs": []
    },
    {
      "cell_type": "markdown",
      "source": [
        "#### **Problem #5.5.6**\n",
        "\n",
        "Create a *grouped* bar plot for the following data with the following:\n",
        "* One bar graph showing the number of females with heart attacks and without in the dataset.\n",
        "* This bar graph should be labeled 'Female' for the legend.\n",
        "* Another bar graph showing the number of males with heart attacks and without in the dataset.\n",
        "* This bar graph should be labeled 'Male' for the legend.\n",
        "* Both bar graphs should be located on the x-axis and given a width to make the graph readable.\n",
        "* The y-axis labeled 'Number in Dataset' with extra large font.\n",
        "* A title called \"Breakdown of Heart Attacks by Sex\" with extra large font.\n",
        "\n",
        "<br>\n",
        "\n",
        "**Hint**: You will need to use pandas functions and comparisons to get the count of males and females with and without heart attacks in the data frame."
      ],
      "metadata": {
        "id": "dWREWbsVykUC"
      }
    },
    {
      "cell_type": "code",
      "source": [
        "df_female = df[# COMPLETE THIS LINE\n",
        "df_male = df[# COMPLETE THIS LINE\n",
        "\n",
        "# COMPLETE THIS CODE\n",
        "\n",
        "plt.xticks(ticks = [0, 1], labels = ['No Heart Attack', 'Heart Attack'], fontsize = 'x-large')\n",
        "\n",
        "plt.# COMPLETE THIS LINE"
      ],
      "metadata": {
        "id": "FIMkkvVizT58"
      },
      "execution_count": null,
      "outputs": []
    },
    {
      "cell_type": "markdown",
      "source": [
        "#### **Comment on this Dataset**\n",
        "\n",
        "This is an unfortunately common case of biased data, specifically *unbalanced data*, leading to potentially harmful results. We could attempt removing `'Sex'` as a feature to blind any ML models to the sex of the patient. However, bias often runs deeper than the most superficial variables and may be correlated with others in ways that humans and especially advanced ML algorithms can still pick up on. Consider some of the following ideas for improving on these results:\n",
        "\n",
        "* Using statistical methods for balancing the data. For instance, upsampling and downsampling are common first approaches to tackling this problem.\n",
        "\n",
        "* Find a dataset that is more balanced to begin with. In an ideal world, we would make sure that the data is balanced (representative) upon collection."
      ],
      "metadata": {
        "id": "8Y87uet9b5qb"
      }
    },
    {
      "cell_type": "markdown",
      "source": [
        "---\n",
        "#End of Notebook\n",
        "\n",
        "© 2023 The Coding School, All rights reserved"
      ],
      "metadata": {
        "id": "_HyK3MU03rBY"
      }
    }
  ]
}