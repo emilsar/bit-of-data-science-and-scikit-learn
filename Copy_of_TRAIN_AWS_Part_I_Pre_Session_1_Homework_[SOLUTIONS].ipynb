{
  "nbformat": 4,
  "nbformat_minor": 0,
  "metadata": {
    "colab": {
      "provenance": [],
      "collapsed_sections": [
        "6SmJqVpQyk5t",
        "xihUA2cZzw5S",
        "lIhX3Ylb1gVW",
        "UFYqcxws29-I",
        "7WjmGKyu4vbo"
      ],
      "include_colab_link": true
    },
    "kernelspec": {
      "name": "python3",
      "display_name": "Python 3"
    },
    "language_info": {
      "name": "python"
    }
  },
  "cells": [
    {
      "cell_type": "markdown",
      "metadata": {
        "id": "view-in-github",
        "colab_type": "text"
      },
      "source": [
        "<a href=\"https://colab.research.google.com/github/emilsar/bit-of-data-science-and-scikit-learn/blob/master/Copy_of_TRAIN_AWS_Part_I_Pre_Session_1_Homework_%5BSOLUTIONS%5D.ipynb\" target=\"_parent\"><img src=\"https://colab.research.google.com/assets/colab-badge.svg\" alt=\"Open In Colab\"/></a>"
      ]
    },
    {
      "cell_type": "markdown",
      "source": [
        "# **Homework: Python Basics - Part 1**\n",
        "---\n",
        "\n"
      ],
      "metadata": {
        "id": "VpJoSzHkmseh"
      }
    },
    {
      "cell_type": "markdown",
      "source": [
        "### **Problem #1**\n",
        "---\n",
        "\n",
        "Modify the code to calculate the area of a rectangle whose length is 10 and width is 5."
      ],
      "metadata": {
        "id": "xwi8nagW-1ad"
      }
    },
    {
      "cell_type": "code",
      "source": [
        "length = 5\n",
        "width = 4\n",
        "area = length*width\n",
        "print(area)"
      ],
      "metadata": {
        "id": "ntGXhAFY9Yd-",
        "colab": {
          "base_uri": "https://localhost:8080/"
        },
        "outputId": "d80b25f1-1206-4c8f-9e29-05f107a79ba4"
      },
      "execution_count": null,
      "outputs": [
        {
          "output_type": "stream",
          "name": "stdout",
          "text": [
            "20\n"
          ]
        }
      ]
    },
    {
      "cell_type": "markdown",
      "source": [
        "#####**Solution**"
      ],
      "metadata": {
        "id": "_Y8O3Z_5WzT1"
      }
    },
    {
      "cell_type": "code",
      "source": [
        "length = 10\n",
        "width = 5\n",
        "area = length*width\n",
        "print(area)"
      ],
      "metadata": {
        "colab": {
          "base_uri": "https://localhost:8080/"
        },
        "id": "A6LXdVZvW0IQ",
        "outputId": "2128a62b-b23a-43c4-ca06-f17b49fca99a"
      },
      "execution_count": null,
      "outputs": [
        {
          "output_type": "stream",
          "name": "stdout",
          "text": [
            "50\n"
          ]
        }
      ]
    },
    {
      "cell_type": "markdown",
      "source": [
        "### **Problem #2**\n",
        "---\n",
        "\n",
        "Modify the code to calculate the `cost_per_person` if the `total_cost` is 500."
      ],
      "metadata": {
        "id": "zLYs9izPCfMM"
      }
    },
    {
      "cell_type": "code",
      "source": [
        "total_cost = 100\n",
        "number_of_people = 5\n",
        "cost_per_person = total_cost/number_of_people\n",
        "print(cost_per_person)"
      ],
      "metadata": {
        "id": "QfgQPydj9gIl"
      },
      "execution_count": null,
      "outputs": []
    },
    {
      "cell_type": "markdown",
      "source": [
        "#####**Solution**"
      ],
      "metadata": {
        "id": "TGvOh9JiW7Ek"
      }
    },
    {
      "cell_type": "code",
      "source": [
        "total_cost = 500\n",
        "number_of_people = 5\n",
        "cost_per_person = total_cost/number_of_people\n",
        "print(cost_per_person)"
      ],
      "metadata": {
        "colab": {
          "base_uri": "https://localhost:8080/"
        },
        "id": "LvQwfLhPW-nT",
        "outputId": "11075b04-dd8e-4f75-89e4-e2d8de94a024"
      },
      "execution_count": null,
      "outputs": [
        {
          "output_type": "stream",
          "name": "stdout",
          "text": [
            "100.0\n"
          ]
        }
      ]
    },
    {
      "cell_type": "markdown",
      "source": [
        "### **Problem #3**\n",
        "---\n",
        "\n",
        "Modify the code shown below to calculate the final exam grade needed when:\n",
        "\n",
        "| Exam         \t| Grade \t| Weight \t|\n",
        "|--------------\t|-------\t|--------\t|\n",
        "| Exam 1:      \t| 75    \t| 0.2    \t|\n",
        "| Exam 2:      \t| 82    \t| 0.2    \t|\n",
        "| Final Exam:  \t| ?     \t| 0.6    \t|\n",
        "| Final Grade: \t| 85    \t|        \t|"
      ],
      "metadata": {
        "id": "9FS3rfX9CrNU"
      }
    },
    {
      "cell_type": "code",
      "source": [
        "exam_1_grade = 90\n",
        "exam_1_weight = 0.25\n",
        "\n",
        "exam_2_grade = 84\n",
        "exam_2_weight = 0.3\n",
        "\n",
        "final_exam_weight = 0.45\n",
        "wanted_final_grade = 90\n",
        "\n",
        "required_grade_on_final = (wanted_final_grade- exam_1_grade*exam_1_weight - exam_2_grade*exam_2_weight)/final_exam_weight\n",
        "print(required_grade_on_final)"
      ],
      "metadata": {
        "colab": {
          "base_uri": "https://localhost:8080/"
        },
        "id": "_waPzkfG9sK4",
        "outputId": "0043a437-a0a4-4cf8-c5d5-5497e3caa97a"
      },
      "execution_count": null,
      "outputs": [
        {
          "output_type": "stream",
          "name": "stdout",
          "text": [
            "93.99999999999999\n"
          ]
        }
      ]
    },
    {
      "cell_type": "markdown",
      "source": [
        "#####**Solution**"
      ],
      "metadata": {
        "id": "XdpvE674XL-M"
      }
    },
    {
      "cell_type": "code",
      "source": [
        "exam_1_grade = 75\n",
        "exam_1_weight = 0.2\n",
        "\n",
        "exam_2_grade = 82\n",
        "exam_2_weight = 0.2\n",
        "\n",
        "final_exam_weight = 0.6\n",
        "wanted_final_grade = 85\n",
        "\n",
        "required_grade_on_final = (wanted_final_grade- exam_1_grade*exam_1_weight - exam_2_grade*exam_2_weight)/final_exam_weight\n",
        "print(required_grade_on_final)"
      ],
      "metadata": {
        "colab": {
          "base_uri": "https://localhost:8080/"
        },
        "id": "4tKA6g5OXNgu",
        "outputId": "cc191129-3068-4dc5-d6d4-8ebf37d00070"
      },
      "execution_count": null,
      "outputs": [
        {
          "output_type": "stream",
          "name": "stdout",
          "text": [
            "89.33333333333333\n"
          ]
        }
      ]
    },
    {
      "cell_type": "markdown",
      "source": [
        "### **Problem #4**\n",
        "---\n",
        "Print `Hello friends.`"
      ],
      "metadata": {
        "id": "XQ3zpD9G_rb3"
      }
    },
    {
      "cell_type": "code",
      "source": [],
      "metadata": {
        "id": "czESqJz_AKQP"
      },
      "execution_count": null,
      "outputs": []
    },
    {
      "cell_type": "markdown",
      "source": [
        "#####**Solution**"
      ],
      "metadata": {
        "id": "spnfy7nsAKYi"
      }
    },
    {
      "cell_type": "code",
      "source": [
        "# print(\"TEXT\")\n",
        "print(\"Hello friends.\")"
      ],
      "metadata": {
        "id": "cJi0QDfGAMEX"
      },
      "execution_count": null,
      "outputs": []
    },
    {
      "cell_type": "markdown",
      "source": [
        "### **Problem #5**\n",
        "---\n",
        "Print the number `10`."
      ],
      "metadata": {
        "id": "QinoVuPOAdBg"
      }
    },
    {
      "cell_type": "code",
      "source": [],
      "metadata": {
        "id": "arINPqrTAh5P"
      },
      "execution_count": null,
      "outputs": []
    },
    {
      "cell_type": "markdown",
      "source": [
        "#####**Solution**"
      ],
      "metadata": {
        "id": "Kt2Z0leNAiBT"
      }
    },
    {
      "cell_type": "code",
      "source": [
        "# print(NUM)\n",
        "print(10)"
      ],
      "metadata": {
        "id": "gvoPCiaGAji9"
      },
      "execution_count": null,
      "outputs": []
    },
    {
      "cell_type": "markdown",
      "source": [
        "### **Problem #6**\n",
        "---\n",
        "Create a variable that stores a list of three countries. Print the variable."
      ],
      "metadata": {
        "id": "oMCHyhfet4wi"
      }
    },
    {
      "cell_type": "code",
      "source": [],
      "metadata": {
        "id": "x-OTbMmiuMU1"
      },
      "execution_count": null,
      "outputs": []
    },
    {
      "cell_type": "markdown",
      "source": [
        "#####**Solution**"
      ],
      "metadata": {
        "id": "6AD8FGTHuLuZ"
      }
    },
    {
      "cell_type": "code",
      "source": [
        "countries = [\"USA\", \"England\", \"Japan\"]\n",
        "print(countries)"
      ],
      "metadata": {
        "id": "2HPR629FuOQU"
      },
      "execution_count": null,
      "outputs": []
    },
    {
      "cell_type": "markdown",
      "source": [
        "### **Problem #7**\n",
        "---\n",
        "Print the year."
      ],
      "metadata": {
        "id": "brKDsi2BuT75"
      }
    },
    {
      "cell_type": "code",
      "source": [],
      "metadata": {
        "id": "9liBz_fUus6T"
      },
      "execution_count": null,
      "outputs": []
    },
    {
      "cell_type": "markdown",
      "source": [
        "#####**Solution**"
      ],
      "metadata": {
        "id": "xXoYLnwgutEq"
      }
    },
    {
      "cell_type": "code",
      "source": [
        "print(2023)"
      ],
      "metadata": {
        "id": "I5Vs7CaquvDi",
        "colab": {
          "base_uri": "https://localhost:8080/"
        },
        "outputId": "772b834c-1f0c-4522-b247-84bf5a4e0f38"
      },
      "execution_count": null,
      "outputs": [
        {
          "output_type": "stream",
          "name": "stdout",
          "text": [
            "2023\n"
          ]
        }
      ]
    },
    {
      "cell_type": "markdown",
      "source": [
        "### **Problem #8**\n",
        "---\n",
        "What is wrong with these declarations? If there is a problem, correct it. If there is not a problem, use a comment to write \"NONE\" on the same line."
      ],
      "metadata": {
        "id": "FeID_zqavKiq"
      }
    },
    {
      "cell_type": "markdown",
      "source": [
        "```\n",
        "1var = 10\n",
        "2var = 20\n",
        "3var = 30\n",
        "Var4 = 40\n",
        "VAR5 = 50\n",
        "var6 = 60\n",
        "month&year = \"July 2022\"\n",
        "hello = \"hello\"\n",
        "in = \"in\"\n",
        "```"
      ],
      "metadata": {
        "id": "BLgXAY79xwqs"
      }
    },
    {
      "cell_type": "markdown",
      "source": [
        "#####**Solution**"
      ],
      "metadata": {
        "id": "dtROBVV7xAmL"
      }
    },
    {
      "cell_type": "code",
      "source": [
        "var1 = 10\n",
        "var2 = 20\n",
        "var3 = 30\n",
        "var4 = 40\n",
        "var5 = 50\n",
        "var6 = 60   # NONE\n",
        "month_and_year = \"July 2022\"\n",
        "hello = \"hello\"   # NONE\n",
        "in_word = \"in\"    # you cannot use Python keywords!"
      ],
      "metadata": {
        "id": "5GrziWxUxCDZ"
      },
      "execution_count": null,
      "outputs": []
    },
    {
      "cell_type": "markdown",
      "source": [
        "### **Problem #9**\n",
        "---\n",
        "Create a variable `name` and assign it to your name. Print `name`. Then, reassign `name` to a friend's name. Print again."
      ],
      "metadata": {
        "id": "-bnV4zY2yMs8"
      }
    },
    {
      "cell_type": "code",
      "source": [],
      "metadata": {
        "id": "xLdAevEYyREb"
      },
      "execution_count": null,
      "outputs": []
    },
    {
      "cell_type": "markdown",
      "source": [
        "#####**Solution**"
      ],
      "metadata": {
        "id": "6SmJqVpQyk5t"
      }
    },
    {
      "cell_type": "code",
      "source": [
        "name = \"Name 1\"\n",
        "print(name)\n",
        "name = \"Name 2\"\n",
        "print(name)"
      ],
      "metadata": {
        "id": "imWyqGvnymc1"
      },
      "execution_count": null,
      "outputs": []
    },
    {
      "cell_type": "markdown",
      "source": [
        "### **Problem #10**\n",
        "---\n",
        "Label the following data types.\n",
        "```\n",
        "2\n",
        "8.9\n",
        "\"Train\"\n",
        "[\"string\"]\n",
        "5.0\n",
        "```\n",
        "\n",
        "\n"
      ],
      "metadata": {
        "id": "8E_hjAwnzJIJ"
      }
    },
    {
      "cell_type": "markdown",
      "source": [
        "#####**Solution**"
      ],
      "metadata": {
        "id": "xihUA2cZzw5S"
      }
    },
    {
      "cell_type": "code",
      "source": [
        "2           # int\n",
        "8.9         # float\n",
        "\"Train\"     # string\n",
        "[\"string\"]  # list\n",
        "5.0         # float"
      ],
      "metadata": {
        "id": "qaauav6Nz0RI"
      },
      "execution_count": null,
      "outputs": []
    },
    {
      "cell_type": "markdown",
      "source": [
        "### **Problem #11**\n",
        "---\n",
        "Create a list called `nums` with the numbers 1, 2, and 3 inside."
      ],
      "metadata": {
        "id": "SrPLMMwVz8KX"
      }
    },
    {
      "cell_type": "code",
      "source": [],
      "metadata": {
        "id": "g9KJJhEB1gOE"
      },
      "execution_count": null,
      "outputs": []
    },
    {
      "cell_type": "markdown",
      "source": [
        "#####**Solution**"
      ],
      "metadata": {
        "id": "lIhX3Ylb1gVW"
      }
    },
    {
      "cell_type": "code",
      "source": [
        "nums = [1, 2, 3]\n",
        "print(nums)"
      ],
      "metadata": {
        "id": "GswXpUNl1h-V"
      },
      "execution_count": null,
      "outputs": []
    },
    {
      "cell_type": "markdown",
      "source": [
        "### **Problem #12**\n",
        "---\n",
        "Which of the following is a valid variable name in Python:\n",
        "```\n",
        "a variable\n",
        "A_variable\n",
        "a.variable\n",
        "a_variable\n",
        "```"
      ],
      "metadata": {
        "id": "qnwg2dCe1waV"
      }
    },
    {
      "cell_type": "code",
      "source": [],
      "metadata": {
        "id": "bVMp5TTe1zHK"
      },
      "execution_count": null,
      "outputs": []
    },
    {
      "cell_type": "markdown",
      "source": [
        "#####**Solution**"
      ],
      "metadata": {
        "id": "UFYqcxws29-I"
      }
    },
    {
      "cell_type": "code",
      "source": [
        "# a_variable"
      ],
      "metadata": {
        "id": "KDRbRzKn3AL1"
      },
      "execution_count": null,
      "outputs": []
    },
    {
      "cell_type": "markdown",
      "source": [
        "### **Problem #13**\n",
        "---\n",
        "Using only variables, print the statement `\"I love coding\"`."
      ],
      "metadata": {
        "id": "GBHg9Rpo3CUS"
      }
    },
    {
      "cell_type": "code",
      "source": [],
      "metadata": {
        "id": "mScrpvGv4vTH"
      },
      "execution_count": null,
      "outputs": []
    },
    {
      "cell_type": "markdown",
      "source": [
        "#####**Solution**"
      ],
      "metadata": {
        "id": "7WjmGKyu4vbo"
      }
    },
    {
      "cell_type": "code",
      "source": [
        "x = \"I love \"\n",
        "y = \"coding!\"\n",
        "z = x + y\n",
        "print(z)"
      ],
      "metadata": {
        "id": "PoMEJtRN4w3k"
      },
      "execution_count": null,
      "outputs": []
    },
    {
      "cell_type": "markdown",
      "source": [
        "### **Problem #14**\n",
        "---\n",
        "Create variables `age` and `name`. Using these variables, print a message that says \"Hello, [your name]! You are [your age] years old.\""
      ],
      "metadata": {
        "id": "rn1m4Qxf404c"
      }
    },
    {
      "cell_type": "code",
      "source": [],
      "metadata": {
        "id": "fIwSmGAX43HV"
      },
      "execution_count": null,
      "outputs": []
    },
    {
      "cell_type": "markdown",
      "source": [
        "#####**Solution**"
      ],
      "metadata": {
        "id": "Qf_xruV06D6y"
      }
    },
    {
      "cell_type": "code",
      "source": [
        "name = \"Marie\"\n",
        "age = 22\n",
        "print(\"Hello, \" + name + \"! You are \" + str(22) + \" years old.\")"
      ],
      "metadata": {
        "id": "ANIxHSLR6GAG",
        "colab": {
          "base_uri": "https://localhost:8080/"
        },
        "outputId": "c0448992-7738-4250-9fb3-b09962ff5557"
      },
      "execution_count": null,
      "outputs": [
        {
          "output_type": "stream",
          "name": "stdout",
          "text": [
            "Hello, Marie! You are 22 years old.\n"
          ]
        }
      ]
    },
    {
      "cell_type": "markdown",
      "source": [
        "---\n",
        "© 2023 The Coding School, All rights reserved"
      ],
      "metadata": {
        "id": "5hseCUE85_AK"
      }
    },
    {
      "cell_type": "markdown",
      "source": [
        "### **Problem #15**\n",
        "---\n",
        "Create variables `zipcode`, `city` and `state`. Using these variables, print a message that says \"[your zipcode] is a zipcode in [your city], [your state].\""
      ],
      "metadata": {
        "id": "vdykJ8qiZWnz"
      }
    },
    {
      "cell_type": "code",
      "source": [],
      "metadata": {
        "id": "zFN2pAisZWoA"
      },
      "execution_count": null,
      "outputs": []
    },
    {
      "cell_type": "markdown",
      "source": [
        "#####**Solution**"
      ],
      "metadata": {
        "id": "ioe9Ma3wZWoA"
      }
    },
    {
      "cell_type": "code",
      "source": [
        "zipcode = 92110\n",
        "city = 'San Diego'\n",
        "state = 'California'\n",
        "\n",
        "print(str(92110) + \" is a zipcode in \" + city + \", \" + state + \".\")"
      ],
      "metadata": {
        "colab": {
          "base_uri": "https://localhost:8080/"
        },
        "outputId": "4db57f22-277e-4911-f649-7b9677c88257",
        "id": "Y1jEv2wFZWoA"
      },
      "execution_count": null,
      "outputs": [
        {
          "output_type": "stream",
          "name": "stdout",
          "text": [
            "92110 is a zipcode in San Diego, California.\n"
          ]
        }
      ]
    },
    {
      "cell_type": "markdown",
      "source": [
        "### **Problem #16**\n",
        "---\n",
        "If the `entered_password` is not equal to \"password123\", print \"Incorrect password.\" Otherwise, print \"Login successful.\""
      ],
      "metadata": {
        "id": "4hrlhxbIYk4H"
      }
    },
    {
      "cell_type": "code",
      "source": [
        "entered_password = \"pasword123\"\n",
        "\n",
        "# COMPLETE THIS CODE"
      ],
      "metadata": {
        "id": "5PXY8POAYk4U"
      },
      "execution_count": null,
      "outputs": []
    },
    {
      "cell_type": "markdown",
      "source": [
        "#####**Solution**"
      ],
      "metadata": {
        "id": "TnhBzCL8Yk4U"
      }
    },
    {
      "cell_type": "code",
      "source": [
        "entered_password = \"pasword123\"\n",
        "\n",
        "if entered_password != \"password123\":\n",
        "    print(\"Incorrect password.\")\n",
        "else:\n",
        "    print(\"Login successful.\")"
      ],
      "metadata": {
        "colab": {
          "base_uri": "https://localhost:8080/"
        },
        "outputId": "f1dcf7c6-b824-4b09-aa9c-26d6c9c487c9",
        "id": "5RC0RGROYk4U"
      },
      "execution_count": null,
      "outputs": [
        {
          "output_type": "stream",
          "name": "stdout",
          "text": [
            "Incorrect password.\n"
          ]
        }
      ]
    },
    {
      "cell_type": "markdown",
      "source": [
        "# End of Notebook\n",
        "\n",
        "---\n",
        "© 2023 The Coding School, All rights reserved"
      ],
      "metadata": {
        "id": "xDePO3cvYk4U"
      }
    }
  ]
}