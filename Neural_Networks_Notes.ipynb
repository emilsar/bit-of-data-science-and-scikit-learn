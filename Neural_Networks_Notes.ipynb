{
  "nbformat": 4,
  "nbformat_minor": 0,
  "metadata": {
    "colab": {
      "provenance": [],
      "authorship_tag": "ABX9TyMlMaJShw7WjZenTS5Iorq+",
      "include_colab_link": true
    },
    "kernelspec": {
      "name": "python3",
      "display_name": "Python 3"
    },
    "language_info": {
      "name": "python"
    }
  },
  "cells": [
    {
      "cell_type": "markdown",
      "metadata": {
        "id": "view-in-github",
        "colab_type": "text"
      },
      "source": [
        "<a href=\"https://colab.research.google.com/github/emilsar/bit-of-data-science-and-scikit-learn/blob/master/Neural_Networks_Notes.ipynb\" target=\"_parent\"><img src=\"https://colab.research.google.com/assets/colab-badge.svg\" alt=\"Open In Colab\"/></a>"
      ]
    },
    {
      "cell_type": "code",
      "execution_count": 1,
      "metadata": {
        "colab": {
          "base_uri": "https://localhost:8080/"
        },
        "id": "I1eNkL7yntyk",
        "outputId": "3e0f5879-5a9b-451f-b471-7def104a8f8d"
      },
      "outputs": [
        {
          "output_type": "stream",
          "name": "stdout",
          "text": [
            "Collecting torchviz\n",
            "  Downloading torchviz-0.0.2.tar.gz (4.9 kB)\n",
            "  Preparing metadata (setup.py) ... \u001b[?25l\u001b[?25hdone\n",
            "Requirement already satisfied: torch in /usr/local/lib/python3.10/dist-packages (from torchviz) (2.1.0+cu118)\n",
            "Requirement already satisfied: graphviz in /usr/local/lib/python3.10/dist-packages (from torchviz) (0.20.1)\n",
            "Requirement already satisfied: filelock in /usr/local/lib/python3.10/dist-packages (from torch->torchviz) (3.13.1)\n",
            "Requirement already satisfied: typing-extensions in /usr/local/lib/python3.10/dist-packages (from torch->torchviz) (4.5.0)\n",
            "Requirement already satisfied: sympy in /usr/local/lib/python3.10/dist-packages (from torch->torchviz) (1.12)\n",
            "Requirement already satisfied: networkx in /usr/local/lib/python3.10/dist-packages (from torch->torchviz) (3.2.1)\n",
            "Requirement already satisfied: jinja2 in /usr/local/lib/python3.10/dist-packages (from torch->torchviz) (3.1.2)\n",
            "Requirement already satisfied: fsspec in /usr/local/lib/python3.10/dist-packages (from torch->torchviz) (2023.6.0)\n",
            "Requirement already satisfied: triton==2.1.0 in /usr/local/lib/python3.10/dist-packages (from torch->torchviz) (2.1.0)\n",
            "Requirement already satisfied: MarkupSafe>=2.0 in /usr/local/lib/python3.10/dist-packages (from jinja2->torch->torchviz) (2.1.3)\n",
            "Requirement already satisfied: mpmath>=0.19 in /usr/local/lib/python3.10/dist-packages (from sympy->torch->torchviz) (1.3.0)\n",
            "Building wheels for collected packages: torchviz\n",
            "  Building wheel for torchviz (setup.py) ... \u001b[?25l\u001b[?25hdone\n",
            "  Created wheel for torchviz: filename=torchviz-0.0.2-py3-none-any.whl size=4131 sha256=1403daaa53780c68a71373d5fac6b43f18e2a7a709320e7c25698b048356c492\n",
            "  Stored in directory: /root/.cache/pip/wheels/4c/97/88/a02973217949e0db0c9f4346d154085f4725f99c4f15a87094\n",
            "Successfully built torchviz\n",
            "Installing collected packages: torchviz\n",
            "Successfully installed torchviz-0.0.2\n"
          ]
        }
      ],
      "source": [
        "pip install torchviz"
      ]
    },
    {
      "cell_type": "code",
      "source": [
        "from torchviz import make_dot\n",
        "import torch\n",
        "import torch.nn as nn"
      ],
      "metadata": {
        "id": "Ia8tPK7nnxry"
      },
      "execution_count": 3,
      "outputs": []
    },
    {
      "cell_type": "code",
      "source": [
        "# Define a simple 2-layer neural network with 5 feature inputs and 1 output\n",
        "class SimpleNeuralNetwork(nn.Module):\n",
        "    def __init__(self):\n",
        "        super(SimpleNeuralNetwork, self).__init__()\n",
        "        self.layer1 = nn.Linear(5, 3)  # First layer: 5 inputs, 3 outputs\n",
        "        self.layer2 = nn.Linear(3, 1)  # Second layer: 3 inputs, 1 output\n",
        "\n",
        "    def forward(self, x):\n",
        "        x = torch.relu(self.layer1(x))\n",
        "        x = self.layer2(x)\n",
        "        return x\n",
        "\n",
        "# Create an instance of the network\n",
        "model = SimpleNeuralNetwork()"
      ],
      "metadata": {
        "id": "iyCs2n2sn2MJ"
      },
      "execution_count": 4,
      "outputs": []
    },
    {
      "cell_type": "code",
      "source": [
        "# Generate a random tensor to pass through the network for visualization\n",
        "x = torch.randn(1, 5)\n",
        "print(x)\n",
        "# Forward pass through the network\n",
        "y = model(x)\n",
        "\n",
        "# Create a visualization of the model\n",
        "dot = make_dot(y, params=dict(model.named_parameters()))\n",
        "\n",
        "# Save or display the diagram\n",
        "dot.render(\"simple_neural_network_graph\", format=\"png\", cleanup=True)"
      ],
      "metadata": {
        "colab": {
          "base_uri": "https://localhost:8080/",
          "height": 53
        },
        "id": "HcuMLIvqn7GN",
        "outputId": "44b066b3-cf38-408c-a92c-92ff44ed94dc"
      },
      "execution_count": 10,
      "outputs": [
        {
          "output_type": "stream",
          "name": "stdout",
          "text": [
            "tensor([[ 0.4894,  1.2027,  0.1973, -0.6516,  0.6914]])\n"
          ]
        },
        {
          "output_type": "execute_result",
          "data": {
            "text/plain": [
              "'simple_neural_network_graph.png'"
            ],
            "application/vnd.google.colaboratory.intrinsic+json": {
              "type": "string"
            }
          },
          "metadata": {},
          "execution_count": 10
        }
      ]
    },
    {
      "cell_type": "code",
      "source": [
        "from IPython.display import Image, display\n",
        "\n",
        "# Display the image\n",
        "display(Image(filename='simple_neural_network_graph.png'))"
      ],
      "metadata": {
        "colab": {
          "base_uri": "https://localhost:8080/",
          "height": 568
        },
        "id": "w2495IPqogXj",
        "outputId": "628f5db3-a1cc-433e-dfd8-6eaf68ad6b22"
      },
      "execution_count": 7,
      "outputs": [
        {
          "output_type": "display_data",
          "data": {
            "image/png": "[encoded data removed]",
            "text/plain": [
              "<IPython.core.display.Image object>"
            ]
          },
          "metadata": {}
        }
      ]
    },
    {
      "cell_type": "code",
      "source": [
        "layer1.weight.data"
      ],
      "metadata": {
        "colab": {
          "base_uri": "https://localhost:8080/"
        },
        "id": "GMpBHYKQtTSU",
        "outputId": "32d82b8c-c08d-4aca-a6ce-515bc6bf3cc6"
      },
      "execution_count": 12,
      "outputs": [
        {
          "output_type": "execute_result",
          "data": {
            "text/plain": [
              "tensor([[ 0.1468, -0.2005, -0.4329, -0.2666, -0.1414],\n",
              "        [-0.3322, -0.2549, -0.0892, -0.1716,  0.3773],\n",
              "        [-0.0151,  0.2688, -0.0763, -0.0196,  0.4061]])"
            ]
          },
          "metadata": {},
          "execution_count": 12
        }
      ]
    },
    {
      "cell_type": "code",
      "source": [
        "import torch\n",
        "import torch.nn.functional as F"
      ],
      "metadata": {
        "id": "k_7OYBeFuXGC"
      },
      "execution_count": 14,
      "outputs": []
    },
    {
      "cell_type": "code",
      "source": [
        "layer1 = torch.nn.Linear(5, 1)  # First layer: 5 inputs, 3 outputs\n",
        "print(layer1.weight.data)\n",
        "# Define a function for the forward pass\n",
        "def forward_pass(x):\n",
        "    x = layer1(x)\n",
        "    return x\n",
        "\n",
        "# Example of using the forward pass function\n",
        "x = torch.randn(1, 5)  # Example input\n",
        "print(x)\n",
        "output = forward_pass(x)\n",
        "\n",
        "output  # Display the output of the network for the example input"
      ],
      "metadata": {
        "colab": {
          "base_uri": "https://localhost:8080/"
        },
        "id": "th6nuRX4o1ez",
        "outputId": "1cd2eee6-85d2-4821-c953-19be4e0e21c6"
      },
      "execution_count": 19,
      "outputs": [
        {
          "output_type": "stream",
          "name": "stdout",
          "text": [
            "tensor([[0.3369, 0.4239, 0.0989, 0.0957, 0.1433]])\n",
            "tensor([[-0.6690, -0.5533, -0.6118, -1.1556,  0.9402]])\n"
          ]
        },
        {
          "output_type": "execute_result",
          "data": {
            "text/plain": [
              "tensor([[-0.0826]], grad_fn=<AddmmBackward0>)"
            ]
          },
          "metadata": {},
          "execution_count": 19
        }
      ]
    },
    {
      "cell_type": "code",
      "source": [],
      "metadata": {
        "id": "xMYKOFFrv4lJ"
      },
      "execution_count": null,
      "outputs": []
    }
  ]
}