{
  "nbformat": 4,
  "nbformat_minor": 0,
  "metadata": {
    "colab": {
      "provenance": [],
      "include_colab_link": true
    },
    "kernelspec": {
      "name": "python3",
      "display_name": "Python 3"
    },
    "language_info": {
      "name": "python"
    }
  },
  "cells": [
    {
      "cell_type": "markdown",
      "metadata": {
        "id": "view-in-github",
        "colab_type": "text"
      },
      "source": [
        "<a href=\"https://colab.research.google.com/github/emilsar/bit-of-data-science-and-scikit-learn/blob/master/TRAIN_AWS_Part_II_Day_2_Lab_Notebook_%5BEmil%20Sargsyan%5D.ipynb\" target=\"_parent\"><img src=\"https://colab.research.google.com/assets/colab-badge.svg\" alt=\"Open In Colab\"/></a>"
      ]
    },
    {
      "cell_type": "markdown",
      "source": [
        "# **Lab 2: Review of Classification and Model Selection**\n",
        "---\n",
        "### **Description**\n",
        "This lab provides a comprehensive overview of implementing and evaluating KNN, Logistic Regression, and Hyperparameter Tuning.\n",
        "\n",
        "<br>\n",
        "\n",
        "### **Lab Structure**\n",
        "**Part 1**: [Day 1 Review](#p1)\n",
        "\n",
        "> **Part 1.1**: [Data Exploration](#p1.1)\n",
        ">\n",
        "> **Part 1.2**: [Linear Regression](#p1.2)\n",
        ">\n",
        "\n",
        "**Part 2**: [Classification with sklearn](#p2)\n",
        "\n",
        "> **Part 2.1**: [K-Nearest Neighbors](#p2.1)\n",
        ">\n",
        "> **Part 2.2**: [Logistic Regression](#p2.2)\n",
        ">\n",
        "\n",
        "**Part 3**: [K-Folds Cross Validation](#p3)\n",
        "\n",
        "\n",
        "\n",
        "<br>\n",
        "\n",
        "### **Learning Objectives**\n",
        " By the end of this lab, we will:\n",
        "* Understand how to implement and evaluate KNN and Logistic Regression models in sklearn.\n",
        "* Understand how to use K-Folds CV in sklearn.\n",
        "\n",
        "\n",
        "<br>\n",
        "\n",
        "\n",
        "### **Resources**\n",
        "* [EDA with pandas Cheat Sheet](https://docs.google.com/document/d/1FFoqw45P-kuoq912ARP4qfdGeLTqoq73_qjZThPp2_8/edit?usp=drive_link)\n",
        "\n",
        "* [Data Visualization with matplotlib Cheat Sheet](https://docs.google.com/document/d/1YlUp6ll81qOyDpU1OWzE-SPxQ3hnF5C9ukLRL_6PYKE/edit?usp=drive_link)\n",
        "\n",
        "* [Linear Regression with sklearn Cheat Sheet](https://docs.google.com/document/d/1iVieBynTpoKq1LA0kR-4pqDo6evoW5wvbNyE0wOGhYY/edit?usp=drive_link)\n",
        "\n",
        "* [KNN with sklearn Cheat Sheet](https://docs.google.com/document/d/1U-AWXkJEDXZFqhBwFlDjyp9bLsVOeeXGYaxa6SZ7KpY/edit#heading=h.y8q92z25l6we)\n",
        "\n",
        "* [Logistic Regression](https://docs.google.com/document/d/1Xi4fXFROik5Rs6C0d3oIM-OmK3pvw7MwkvM3TJw7vn4/edit)\n",
        "\n",
        "\n",
        "<br>\n",
        "\n",
        "**Before starting, run the code below to import all necessary functions and libraries.**\n"
      ],
      "metadata": {
        "id": "nvymFWiixQvT"
      }
    },
    {
      "cell_type": "code",
      "source": [
        "import warnings\n",
        "warnings.filterwarnings('ignore')\n",
        "\n",
        "import pandas as pd\n",
        "import matplotlib.pyplot as plt\n",
        "\n",
        "from sklearn import model_selection\n",
        "from sklearn import datasets\n",
        "from sklearn.metrics import *"
      ],
      "metadata": {
        "id": "b9h5nmwbIYEc"
      },
      "execution_count": null,
      "outputs": []
    },
    {
      "cell_type": "markdown",
      "source": [
        "<a name=\"p1\"></a>\n",
        "\n",
        "---\n",
        "## **Part 1: Day 1 Review**\n",
        "---\n",
        "\n",
        "In this part, we will explore and model the relationship between the numerical features and the `Runtime (min)` variable as the label using linear regression.\n",
        "\n",
        "\n",
        "**Run the cell below to load in the data.**"
      ],
      "metadata": {
        "id": "ZcbJjD4lELCc"
      }
    },
    {
      "cell_type": "code",
      "source": [
        "url = \"https://docs.google.com/spreadsheets/d/e/2PACX-1vS9jPkeKJ8QUuAl-fFdg3nJPDP6vx1byvIBl4yW8UZZJ9QEscyALJp1eywKeAg7aAffwdKP63D9osF1/pub?gid=169291584&single=true&output=csv\"\n",
        "movie_df = pd.read_csv(url)\n",
        "\n",
        "movie_df.drop_duplicates(inplace=True)\n",
        "\n",
        "mean_runtime = movie_df['Runtime'].mean()\n",
        "movie_df['Runtime'] = movie_df['Runtime'].fillna(mean_runtime)\n",
        "\n",
        "movie_df = movie_df.rename(columns = {\"Runtime\": \"Runtime (min)\"})\n",
        "movie_df = movie_df.astype({\"Runtime (min)\": \"int64\"})"
      ],
      "metadata": {
        "id": "3e2U3qBtVK-1"
      },
      "execution_count": null,
      "outputs": []
    },
    {
      "cell_type": "markdown",
      "source": [
        "<a name=\"p1.1\"></a>\n",
        "\n",
        "---\n",
        "### **Part 1.1: Data Exploration**\n",
        "---"
      ],
      "metadata": {
        "id": "XxQR7m6jcBOg"
      }
    },
    {
      "cell_type": "markdown",
      "source": [
        "#### **Problem #1.2.1**\n",
        "\n",
        "Use `.head()` to take an initial look at the DataFrame."
      ],
      "metadata": {
        "id": "OFqt5q24FCkm"
      }
    },
    {
      "cell_type": "code",
      "source": [],
      "metadata": {
        "id": "VMK7yW3kFCkn"
      },
      "execution_count": null,
      "outputs": []
    },
    {
      "cell_type": "markdown",
      "source": [
        "#### **Problem #1.2.2**\n",
        "\n",
        "Use `.info()` to determine which variables are numerical. These will be the ones you can use to model `Runtime (min)` since we cannot train linear regression on text."
      ],
      "metadata": {
        "id": "7yZxyAkYFJww"
      }
    },
    {
      "cell_type": "code",
      "source": [],
      "metadata": {
        "id": "vMm6kg6sFJw9"
      },
      "execution_count": null,
      "outputs": []
    },
    {
      "cell_type": "markdown",
      "source": [
        "#### **Problem #1.2.3**\n",
        "\n",
        "Use `.describe()` to determine max, min, and average `Runtime (min`) of all numerical variables."
      ],
      "metadata": {
        "id": "-KDLolWLFy7w"
      }
    },
    {
      "cell_type": "code",
      "source": [],
      "metadata": {
        "id": "CisYIZbOFy78"
      },
      "execution_count": null,
      "outputs": []
    },
    {
      "cell_type": "markdown",
      "source": [
        "#### **Problem #1.2.4**\n",
        "\n",
        "Create a scatterplot using `Runtime (min)` as the x-axis value and `Gross` as the y-axis value.\n",
        "\n",
        "Make sure to include a meaningful:\n",
        "* `Title`: \"Gross Money vs. Runtime:\n",
        "* `X-axis`: \"Gross (USD)\"\n",
        "* `Y-axis`: \"Runtime (min)\""
      ],
      "metadata": {
        "id": "TmujqDuMDmua"
      }
    },
    {
      "cell_type": "code",
      "source": [],
      "metadata": {
        "id": "4z1ytVFrDmub"
      },
      "execution_count": null,
      "outputs": []
    },
    {
      "cell_type": "markdown",
      "source": [
        "#### **Problem #1.2.5**\n",
        "\n",
        "Create a scatterplot using `Released_Year` as the x-axis value and `Runtime (min)` as the y-axis value.\n",
        "\n",
        "Make sure to include a meaningful:\n",
        "* `Title`: \"Runtime vs. Released_Year\"\n",
        "* `X-axis`: \"Year\"\n",
        "* `Y-axis`: \"Runtime (min)\""
      ],
      "metadata": {
        "id": "8kCYTBSCFaM9"
      }
    },
    {
      "cell_type": "code",
      "source": [],
      "metadata": {
        "id": "wAuYh9xqFaM-"
      },
      "execution_count": null,
      "outputs": []
    },
    {
      "cell_type": "markdown",
      "source": [
        "#### **Problem #1.2.6**\n",
        "\n",
        "Create a *lineplot* using `Runtime (min)` as the x-axis value and `Gross` as the y-axis value.\n",
        "\n",
        "Make sure to include a meaningful:\n",
        "* Title, ex: `'Gross Money vs. Runtime'`.\n",
        "* X-axis label including units `'min'`.\n",
        "* Y-axis label including units `'USD'`.\n",
        "\n",
        "<br>\n",
        "\n",
        "**NOTE**: This is not going to be a particularly helpful graph (the scatter plot is a better choice), but we oftentimes will not know this ahead of time. A lot of EDA and visualizations involves trying a number of things and seeing what is useful."
      ],
      "metadata": {
        "id": "A7ZZMz9CJQKU"
      }
    },
    {
      "cell_type": "code",
      "source": [],
      "metadata": {
        "id": "V9Nwq-BhJQKU"
      },
      "execution_count": null,
      "outputs": []
    },
    {
      "cell_type": "markdown",
      "source": [
        "#### **Problem #1.2.7**\n",
        "\n",
        "Create a *lineplot* using `Released_Year` as the x-axis value and `Average Gross in Year` as the y-axis value.\n",
        "\n",
        "Make sure to include a meaningful:\n",
        "* Title, ex: `'Average Gross Money vs. Released Year'`.\n",
        "* X-axis label.\n",
        "* Y-axis label including units `'USD'`."
      ],
      "metadata": {
        "id": "h9Xvd-tBJkja"
      }
    },
    {
      "cell_type": "code",
      "source": [
        "mean_gross = movie_df.groupby(# COMPLETE THIS LINE\n"
      ],
      "metadata": {
        "id": "Tugg473VJkjb"
      },
      "execution_count": null,
      "outputs": []
    },
    {
      "cell_type": "markdown",
      "source": [
        "#### **Problem #1.2.8**\n",
        "\n",
        "Create a bar plot of the number of movies released per year.\n",
        "\n",
        "Use the DataFrame provided, `movies_per_year` and make sure to include a meaningful:\n",
        "* Title.\n",
        "* X-axis label.\n",
        "* Y-axis label."
      ],
      "metadata": {
        "id": "ZBbQ_A7SHG84"
      }
    },
    {
      "cell_type": "code",
      "source": [
        "movies_per_year = movie_df['Released_Year'].value_counts()\n",
        "\n",
        "plt.bar(movies_per_year.index, # COMPLETE THIS CODE"
      ],
      "metadata": {
        "id": "1mgDNmnWHG85"
      },
      "execution_count": null,
      "outputs": []
    },
    {
      "cell_type": "markdown",
      "source": [
        "#### **Problem #1.2.9**\n",
        "\n",
        "Create a bar plot of the number of Dramas released per year.\n",
        "\n",
        "Use the DataFrame provided, `movies_per_year` and make sure to include a meaningful:\n",
        "* Title.\n",
        "* X-axis label.\n",
        "* Y-axis label.\n",
        "\n",
        "<br>\n",
        "\n",
        "**Hint**: Recall that you can use `.loc[CRITERIA, :]` to find all data matching given criteria and the example in Problem #6 for finding the number of movies realeased per year."
      ],
      "metadata": {
        "id": "hA9Yjy0UGHtS"
      }
    },
    {
      "cell_type": "code",
      "source": [
        "# COMPLETE THIS CODE"
      ],
      "metadata": {
        "id": "OTLvzDLNGHtT"
      },
      "execution_count": null,
      "outputs": []
    },
    {
      "cell_type": "markdown",
      "source": [
        "<a name=\"p1.2\"></a>\n",
        "\n",
        "---\n",
        "### **Part 1.2: Linear Regression**\n",
        "---\n",
        "\n",
        "In this part, we will model the relationship between the numerical features and the `Runtime (min)` variable as the label using linear regression."
      ],
      "metadata": {
        "id": "4MNrBgFrz4ET"
      }
    },
    {
      "cell_type": "markdown",
      "source": [
        "#### **Step #1: Load the data**\n",
        "\n",
        "This has already been completed above."
      ],
      "metadata": {
        "id": "YQPB7XZ9v-sn"
      }
    },
    {
      "cell_type": "markdown",
      "source": [
        "#### **Step #2: Decide independent and dependent variables**\n",
        "\n",
        "Examining the DataFrame, choose only the numerical variables (other than `Runtime (min)`) for the features and `Runtime (min)` for the label.\n"
      ],
      "metadata": {
        "id": "E5z0mLEQF565"
      }
    },
    {
      "cell_type": "code",
      "source": [
        "features = # COMPLETE THIS CODE\n",
        "label = # COMPLETE THIS CODE"
      ],
      "metadata": {
        "id": "Le7RzFSXS7FW"
      },
      "execution_count": null,
      "outputs": []
    },
    {
      "cell_type": "markdown",
      "source": [
        "#### **Step #3: Split data into training and testing data**\n",
        "\n",
        "Split the data using a 80 / 20 split."
      ],
      "metadata": {
        "id": "lMDn8ONk600c"
      }
    },
    {
      "cell_type": "code",
      "source": [
        "X_train, X_test, y_train, y_test = train_test_split(# COMPLETE THIS CODE"
      ],
      "metadata": {
        "id": "IOuMRPdQlAVz"
      },
      "execution_count": null,
      "outputs": []
    },
    {
      "cell_type": "markdown",
      "source": [
        "#### **Step #4: Import your model**"
      ],
      "metadata": {
        "id": "5ADG4KRM69dJ"
      }
    },
    {
      "cell_type": "code",
      "source": [
        "# COMPLETE THIS CODE"
      ],
      "metadata": {
        "id": "VZMm4IAClBLO"
      },
      "execution_count": null,
      "outputs": []
    },
    {
      "cell_type": "markdown",
      "source": [
        "#### **Step #5: Initialize your model and set hyperparameters**\n",
        "\n",
        "\n",
        "Linear regression takes no hyperparameters, so just initialize the model."
      ],
      "metadata": {
        "id": "PFUiA67CHAMc"
      }
    },
    {
      "cell_type": "code",
      "source": [],
      "metadata": {
        "id": "faXqWmQElEFD"
      },
      "execution_count": null,
      "outputs": []
    },
    {
      "cell_type": "markdown",
      "source": [
        "#### **Step #6: Fit your model, test on the testing data, and create a visualization if applicable**"
      ],
      "metadata": {
        "id": "xMnlj4W0HF9U"
      }
    },
    {
      "cell_type": "code",
      "source": [],
      "metadata": {
        "id": "h5iPDJmJlFAQ"
      },
      "execution_count": null,
      "outputs": []
    },
    {
      "cell_type": "markdown",
      "source": [
        "##### **Create a visualization**\n",
        "\n",
        "Use `y_test` and your `prediction` from the model to create a scatter plot. Then use the following line to visualize where a correct prediction would be. The code has already been given to you.\n",
        "```\n",
        "plt.plot([y_test.min(), y_test.max()], [y_test.min(), y_test.max()], '--k', label=\"Correct prediction\")\n",
        "```"
      ],
      "metadata": {
        "id": "6DmQtTt9HNJE"
      }
    },
    {
      "cell_type": "code",
      "source": [
        "plt.figure(figsize=(8, 8))\n",
        "\n",
        "plt.scatter(# COMPLETE THIS CODE\n",
        "plt.plot(# COMPLETE THIS CODE, '--k', label=\"Correct prediction\")\\\n",
        "\n",
        "plt.xlabel(# COMPLETE THIS CODE\n",
        "plt.ylabel(# COMPLETE THIS CODE\n",
        "plt.title(# COMPLETE THIS CODE\n",
        "\n",
        "\n",
        "plt.legend()"
      ],
      "metadata": {
        "id": "-kRYw_V5y9qP"
      },
      "execution_count": null,
      "outputs": []
    },
    {
      "cell_type": "markdown",
      "source": [
        "#### **Step #7: Evaluate your model**\n",
        "\n",
        "Use mean squared error and the R2 score as the evaluation metrics.\n"
      ],
      "metadata": {
        "id": "9hqWuSqc7Tpp"
      }
    },
    {
      "cell_type": "code",
      "source": [],
      "metadata": {
        "id": "9Q0ABlESlNDE"
      },
      "execution_count": null,
      "outputs": []
    },
    {
      "cell_type": "markdown",
      "source": [
        "#### **Step #8: Use the model**\n",
        "\n",
        "Using the model we created, predict the runtime of movies based on the following `Released_Year`, `IMDB_Rating`, `No_of_Votes`, and `Gross`:\n",
        "\n",
        "* `1999`, `7.9`, `100000`, `8000000`\n",
        "* `2007`, `8.5`, `1000000`, `10000000`"
      ],
      "metadata": {
        "id": "kKm0SpTVQMkn"
      }
    },
    {
      "cell_type": "code",
      "source": [
        "movie_df.describe()"
      ],
      "metadata": {
        "id": "I6lImblY6OM-"
      },
      "execution_count": null,
      "outputs": []
    },
    {
      "cell_type": "markdown",
      "source": [
        "<a name=\"p2\"></a>\n",
        "\n",
        "---\n",
        "## **Part 2: Classification with sklearn**\n",
        "---"
      ],
      "metadata": {
        "id": "DrnIqeIqJO16"
      }
    },
    {
      "cell_type": "markdown",
      "metadata": {
        "id": "OGa6OZCpfJPh"
      },
      "source": [
        "<a name=\"p2.1\"></a>\n",
        "\n",
        "---\n",
        "### **Part 2.1: K-Nearest Neighbors**\n",
        "---\n",
        "In this, we will implement a K-Nearest Neighbors (KNN) model aimed at predicting the diagnosis of breast cancer samples. The goal is to classify new samples as either malignant or benign based on their feature characteristics.\n",
        "\n",
        "<br>\n",
        "\n",
        "This dataset contains crucial information related to breast cancer, including various features such as mean radius, mean texture, and mean smoothness. The target variable (label) indicates the diagnosis, distinguishing between malignant and benign cases."
      ]
    },
    {
      "cell_type": "markdown",
      "metadata": {
        "id": "p5tQtCwufJPr"
      },
      "source": [
        "#### **Step #1: Load in Data**\n",
        "\n",
        "**Run the code below to load the data.**"
      ]
    },
    {
      "cell_type": "code",
      "execution_count": null,
      "metadata": {
        "tags": [],
        "id": "WtSg7z-3fJPr"
      },
      "outputs": [],
      "source": [
        "from sklearn.datasets import load_breast_cancer\n",
        "data = load_breast_cancer()\n",
        "selected_features = [\"mean radius\", \"mean texture\", \"mean perimeter\", \"mean area\", \"mean smoothness\", \"mean compactness\", \"mean concavity\", \"mean concave points\", \"mean symmetry\", \"mean fractal dimension\"]\n",
        "df = pd.DataFrame(data.data, columns=data.feature_names)\n",
        "df = df[selected_features]\n",
        "df['Target'] = data.target"
      ]
    },
    {
      "cell_type": "markdown",
      "metadata": {
        "id": "QFGDY2skfJPs"
      },
      "source": [
        "#### **Step #2: Choose your Variables**\n",
        "\n"
      ]
    },
    {
      "cell_type": "code",
      "execution_count": null,
      "metadata": {
        "id": "k-JjG229fJPs"
      },
      "outputs": [],
      "source": [
        "inputs = # COMPLETE THIS CODE\n",
        "output = # COMPLETE THIS CODE"
      ]
    },
    {
      "cell_type": "markdown",
      "metadata": {
        "id": "HbEr0TBEfJPs"
      },
      "source": [
        "#### **Step #3: Split your Data**\n"
      ]
    },
    {
      "cell_type": "code",
      "execution_count": null,
      "metadata": {
        "tags": [],
        "id": "BiI_7n98fJPs"
      },
      "outputs": [],
      "source": [
        "X_train, X_test, y_train, y_test = # COMPLETE THIS CODE"
      ]
    },
    {
      "cell_type": "markdown",
      "metadata": {
        "id": "AyBDIqqGfJPs"
      },
      "source": [
        "#### **Step #4: Import an ML Algorithm**\n",
        "\n",
        "\n"
      ]
    },
    {
      "cell_type": "code",
      "source": [],
      "metadata": {
        "id": "3zUWy-C-fJPs"
      },
      "execution_count": null,
      "outputs": []
    },
    {
      "cell_type": "markdown",
      "metadata": {
        "id": "q4tlM_dQfJPt"
      },
      "source": [
        "#### **Step #5: Initialize the Model**\n"
      ]
    },
    {
      "cell_type": "code",
      "execution_count": null,
      "metadata": {
        "id": "NrqbrvqmfJPt"
      },
      "outputs": [],
      "source": [
        "model = # COMPLETE THIS LINE"
      ]
    },
    {
      "cell_type": "markdown",
      "metadata": {
        "id": "dwsTR3NBfJPt"
      },
      "source": [
        "#### **Step #6: Fit and Test**\n"
      ]
    },
    {
      "cell_type": "code",
      "execution_count": null,
      "metadata": {
        "id": "nFEKlifHfJPt"
      },
      "outputs": [],
      "source": [
        "model.fit(X_train, # COMPLETE THIS LINE"
      ]
    },
    {
      "cell_type": "code",
      "source": [
        "predictions = # COMPLETE THIS LINE"
      ],
      "metadata": {
        "id": "lBki9dH1fJPt"
      },
      "execution_count": null,
      "outputs": []
    },
    {
      "cell_type": "markdown",
      "metadata": {
        "id": "GOjuQCV6fJPu"
      },
      "source": [
        "#### **Step #7: Evaluate**\n",
        "\n",
        "Let's evaluate this model and put it to the test! Specifically, use the accuracy score to get a simple overall picture of your model's performance, and the confusion matrix to get a more nuanced view of where the model is performing the best and worst\n"
      ]
    },
    {
      "cell_type": "code",
      "source": [
        "print(accuracy_score(# COMPLETE THIS CODE"
      ],
      "metadata": {
        "id": "7iYRgB9yfJPu"
      },
      "execution_count": null,
      "outputs": []
    },
    {
      "cell_type": "code",
      "source": [
        "cm = confusion_matrix(# COMPLETE THIS CODE\n",
        "disp = ConfusionMatrixDisplay(# COMPLETE THIS CODE\n",
        "disp.plot()\n",
        "plt.show()"
      ],
      "metadata": {
        "id": "bF9jaTzyhAjy"
      },
      "execution_count": null,
      "outputs": []
    },
    {
      "cell_type": "markdown",
      "metadata": {
        "id": "BPKZh2EsfJPu"
      },
      "source": [
        "#### **Step #8: Apply your Model**\n",
        "\n",
        "You are provided with data from two new breast cancer samples, and you want to assess the predicted class labels (Malignant or Benign) for each of them. The goal is to determine whether either sample is likely to be malignant or benign based on the model's predictions.\n",
        "\n",
        "Here is the data for the two samples:\n",
        "\n",
        "**Sample 1:**\n",
        "\n",
        "* Mean Radius = 12.5\n",
        "* Mean Texture = 18.2\n",
        "* Mean Perimeter = 80.3\n",
        "* Mean Area = 490.2\n",
        "* Mean Smoothness = 0.09\n",
        "* Mean Compactness = 0.08\n",
        "* Mean Concavity = 0.05\n",
        "* Mean Concave Points = 0.03\n",
        "* Mean Symmetry = 0.18\n",
        "* Mean Fractal Dimension = 0.06\n",
        "\n",
        "**Sample 2:**\n",
        "\n",
        "* Mean Radius = 14.3\n",
        "* Mean Texture = 20.8\n",
        "* Mean Perimeter = 92.6\n",
        "* Mean Area = 650.9\n",
        "* Mean Smoothness = 0.1\n",
        "* Mean Compactness = 0.12\n",
        "* Mean Concavity = 0.09\n",
        "* Mean Concave Points = 0.05\n",
        "* Mean Symmetry = 0.2\n",
        "* Mean Fractal Dimension = 0.07\n",
        "\n",
        "You will use your KNN (k-nearest neighbors) model to predict the class labels for these samples and assess their relative likelihood of being malignant or benign based on the predictions."
      ]
    },
    {
      "cell_type": "markdown",
      "metadata": {
        "id": "fIqwMPFIfJPu"
      },
      "source": [
        "##### **1. Predict the diagnosis of Sample 1**\n"
      ]
    },
    {
      "cell_type": "code",
      "execution_count": null,
      "metadata": {
        "tags": [],
        "id": "JwdKPvv7fJPu"
      },
      "outputs": [],
      "source": [
        "sample_1_features = pd.DataFrame([[# COMPLETE THIS CODE\n",
        "\n",
        "prediction_sample_1 = model.predict(# COMPLETE THIS CODE\n",
        "\n",
        "print(\"Predicted label for Sample 1:\", \"Malignant\" if prediction_sample_1[0] == 1 else \"Benign\")"
      ]
    },
    {
      "cell_type": "markdown",
      "metadata": {
        "id": "3fqNDBVcfJPu"
      },
      "source": [
        "##### **2. Predict the diagnosis of Sample 2**"
      ]
    },
    {
      "cell_type": "code",
      "execution_count": null,
      "metadata": {
        "id": "Y-WGCnEMfJPv"
      },
      "outputs": [],
      "source": [
        "sample_2_features = pd.DataFrame([[# COMPLETE THIS CODE\n",
        "\n",
        "prediction_sample_2 = model.predict(# COMPLETE THIS CODE\n",
        "\n",
        "print(\"Predicted label for Sample 2:\", \"Malignant\" if prediction_sample_1[0] == 1 else \"Benign\")"
      ]
    },
    {
      "cell_type": "markdown",
      "metadata": {
        "id": "gkXRnTVEnSHG"
      },
      "source": [
        "<a name=\"p2.2\"></a>\n",
        "\n",
        "---\n",
        "### **Part 2.2: Logistic Regression**\n",
        "---\n",
        "\n",
        "In this part, we will develop a Logistic Regression model to predict diabetes diagnoses based on these features. The primary objective is to classify new individuals as either having diabetes or not, based on the provided attribute values.\n",
        "\n",
        "<br>\n",
        "\n",
        "The Pima Indians Diabetes dataset is an essential collection of medical records related to diabetes diagnoses among women of Pima Indian heritage. It comprises various attributes, including the number of times pregnant, plasma glucose concentration, diastolic blood pressure, triceps skinfold thickness, and several others. The target variable (label) indicates whether an individual has diabetes."
      ]
    },
    {
      "cell_type": "markdown",
      "metadata": {
        "id": "obpWexZhnSHT"
      },
      "source": [
        "#### **Step #1: Load in Data**\n",
        "\n",
        "**Run the code below to load the data.**"
      ]
    },
    {
      "cell_type": "code",
      "execution_count": null,
      "metadata": {
        "tags": [],
        "id": "4TNtHcwPnSHT"
      },
      "outputs": [],
      "source": [
        "url = \"https://raw.githubusercontent.com/jbrownlee/Datasets/master/pima-indians-diabetes.data.csv\"\n",
        "\n",
        "column_names = [\n",
        "    \"Number of times pregnant\",\n",
        "    \"Plasma glucose concentration\",\n",
        "    \"Diastolic blood pressure\",\n",
        "    \"Triceps skinfold thickness\",\n",
        "    \"2-Hour serum insulin\",\n",
        "    \"BMI\",\n",
        "    \"Diabetes pedigree function\",\n",
        "    \"Age\",\n",
        "    \"Class\"\n",
        "]\n",
        "\n",
        "df = pd.read_csv(url, names=column_names)"
      ]
    },
    {
      "cell_type": "markdown",
      "metadata": {
        "id": "dZOzjuQYnSHT"
      },
      "source": [
        "#### **Step #2: Choose your Variables**\n",
        "\n"
      ]
    },
    {
      "cell_type": "code",
      "execution_count": null,
      "metadata": {
        "id": "nQ1aruUcnSHT"
      },
      "outputs": [],
      "source": [
        "inputs = # COMPLETE THIS CODE\n",
        "output = # COMPLETE THIS CODE"
      ]
    },
    {
      "cell_type": "markdown",
      "metadata": {
        "id": "lFhN2PG7nSHT"
      },
      "source": [
        "#### **Step #3: Split your Data**\n"
      ]
    },
    {
      "cell_type": "code",
      "execution_count": null,
      "metadata": {
        "tags": [],
        "id": "cgVOTNhunSHT"
      },
      "outputs": [],
      "source": [
        "X_train, X_test, y_train, y_test = # COMPLETE THIS CODE"
      ]
    },
    {
      "cell_type": "markdown",
      "metadata": {
        "id": "R1mAbSPJnSHU"
      },
      "source": [
        "#### **Step #4: Import an ML Algorithm**\n",
        "\n",
        "\n"
      ]
    },
    {
      "cell_type": "code",
      "source": [],
      "metadata": {
        "id": "T6k09y0RnSHU"
      },
      "execution_count": null,
      "outputs": []
    },
    {
      "cell_type": "markdown",
      "metadata": {
        "id": "UwQlk0rEnSHU"
      },
      "source": [
        "#### **Step #5: Initialize the Model**\n"
      ]
    },
    {
      "cell_type": "code",
      "execution_count": null,
      "metadata": {
        "id": "tzfvA-wwnSHU"
      },
      "outputs": [],
      "source": [
        "model = # COMPLETE THIS LINE"
      ]
    },
    {
      "cell_type": "markdown",
      "metadata": {
        "id": "feAKw7nQnSHU"
      },
      "source": [
        "#### **Step #6: Fit and Test**\n"
      ]
    },
    {
      "cell_type": "code",
      "execution_count": null,
      "metadata": {
        "id": "8cgiV-7XnSHU"
      },
      "outputs": [],
      "source": [
        "model.fit(X_train, # COMPLETE THIS LINE"
      ]
    },
    {
      "cell_type": "code",
      "source": [
        "predictions = # COMPLETE THIS LINE"
      ],
      "metadata": {
        "id": "hgsNstQxnSHU"
      },
      "execution_count": null,
      "outputs": []
    },
    {
      "cell_type": "markdown",
      "metadata": {
        "id": "uoTw3CNknSHV"
      },
      "source": [
        "#### **Step #7: Evaluate**\n",
        "\n",
        "Let's evaluate this model and put it to the test! Specifically, use the accuracy score to get a simple overall picture of your model's performance, and the confusion matrix to get a more nuanced view of where the model is performing the best and worst\n"
      ]
    },
    {
      "cell_type": "code",
      "source": [
        "report = classification_report(# COMPLETE THIS LINE\n",
        "print('Classification report ' + str(report))"
      ],
      "metadata": {
        "id": "5mAr35L5nSHV"
      },
      "execution_count": null,
      "outputs": []
    },
    {
      "cell_type": "code",
      "source": [
        "cm = confusion_matrix(# COMPLETE THIS CODE\n",
        "disp = ConfusionMatrixDisplay(# COMPLETE THIS CODE\n",
        "disp.plot()\n",
        "plt.show()"
      ],
      "metadata": {
        "id": "Ns0bP7uFnSHV"
      },
      "execution_count": null,
      "outputs": []
    },
    {
      "cell_type": "markdown",
      "metadata": {
        "id": "F-4xbYWTnSHV"
      },
      "source": [
        "#### **Step #8: Apply your Model**\n",
        "\n",
        "You are provided with data from two new Pima Indian individuals, and you want to assess the predicted class labels (Diabetes or No Diabetes) for each of them. The goal is to determine whether either individual is likely to have diabetes based on the model's predictions.\n",
        "\n",
        "Here is the data for the two individuals:\n",
        "\n",
        "**Individual 1:**\n",
        "\n",
        "* Number of times pregnant: 2\n",
        "* Plasma glucose concentration: 85\n",
        "* Diastolic blood pressure: 66\n",
        "* Triceps skinfold thickness: 29\n",
        "* 2-Hour serum insulin: 0\n",
        "* BMI: 26.6\n",
        "* Diabetes pedigree function: 0.351\n",
        "* Age: 31\n",
        "\n",
        "**Individual 2:**\n",
        "\n",
        "* Number of times pregnant: 8\n",
        "* Plasma glucose concentration: 183\n",
        "* Diastolic blood pressure: 64\n",
        "* Triceps skinfold thickness: 0\n",
        "* 2-Hour serum insulin: 0\n",
        "* BMI: 23.3\n",
        "* Diabetes pedigree function: 0.672\n",
        "* Age: 32\n",
        "\n",
        "You will use your logistic regression model to predict the class labels for these individuals and assess their relative likelihood of having diabetes based on the predictions."
      ]
    },
    {
      "cell_type": "markdown",
      "metadata": {
        "id": "wp9LzzmCnSHV"
      },
      "source": [
        "##### **1. Predict the diagnoses for Individual 1**\n"
      ]
    },
    {
      "cell_type": "code",
      "execution_count": null,
      "metadata": {
        "tags": [],
        "id": "LBd94pe5nSHV"
      },
      "outputs": [],
      "source": [
        "individual_1_features = pd.DataFrame([[# COMPLETE THIS CODE\n",
        "\n",
        "prediction_individual_1 = model.predict(# COMPLETE THIS CODE\n",
        "\n",
        "print(\"Predicted label for Individual 1:\", \"Diabetes\" if prediction_individual_1[0] == 1 else \"No Diabetes\")"
      ]
    },
    {
      "cell_type": "markdown",
      "metadata": {
        "id": "h6x1HKs0nSHX"
      },
      "source": [
        "##### **2. Predict the diagnosis of Individual 2**"
      ]
    },
    {
      "cell_type": "code",
      "execution_count": null,
      "metadata": {
        "id": "N6Rm2L2GnSHX"
      },
      "outputs": [],
      "source": [
        "individual_2_features = pd.DataFrame([[# COMPLETE THIS CODE\n",
        "\n",
        "prediction_individual_2 = model.predict(# COMPLETE THIS CODE\n",
        "\n",
        "print(\"Predicted label for Individual 2:\", \"Diabetes\" if prediction_individual_2[0] == 1 else \"No Diabetes\")"
      ]
    },
    {
      "cell_type": "markdown",
      "metadata": {
        "id": "K4jGMPNPYWEF"
      },
      "source": [
        "<a name=\"p3\"></a>\n",
        "\n",
        "---\n",
        "## **Part 3: K-Folds Cross Validation**\n",
        "---\n",
        "\n",
        "In this section, we will explore how to use K-Folds to evaluate and compare models before deciding on the final model we will use. Only once we have selected our final model should we evaluate it on the test set.\n",
        "\n",
        "<br>\n",
        "\n",
        "In particular, we will use K-Folds Cross Validation to determine the best model for several datasets."
      ]
    },
    {
      "cell_type": "markdown",
      "source": [
        "#### **Problem #3.1**\n",
        "\n",
        "To start, let's train and evaluate a 5NN model on the Iris dataset as usual. This is *bad practice*, but will help motivate why we should use cross validation."
      ],
      "metadata": {
        "id": "cogaXgg3Q5VY"
      }
    },
    {
      "cell_type": "code",
      "source": [
        "iris = load_iris()\n",
        "\n",
        "features = iris.data\n",
        "label = iris.target\n",
        "\n",
        "X_train, X_test, y_train, y_test = sklearn.model_selection.train_test_split(features, label, test_size=0.2, random_state=42)\n",
        "\n",
        "scaler = StandardScaler()\n",
        "X_train = scaler.fit_transform(X_train)\n",
        "X_test = scaler.transform(X_test)"
      ],
      "metadata": {
        "id": "2FJoen-OUOFP"
      },
      "execution_count": null,
      "outputs": []
    },
    {
      "cell_type": "code",
      "source": [
        "knn_5 = KNeighborsClassifier(n_neighbors = # COMPLETE THIS LINE\n",
        "\n",
        "knn_5.fit(# COMPLETE THIS LINE\n",
        "\n",
        "pred = knn_5.predict(# COMPLETE THIS LINE\n",
        "\n",
        "print(classification_report(# COMPLETE THIS LINE"
      ],
      "metadata": {
        "id": "JMBI1bI6UOFb"
      },
      "execution_count": null,
      "outputs": []
    },
    {
      "cell_type": "markdown",
      "source": [
        "#### **Problem #3.2**\n",
        "\n",
        "Now, let's take the proper and more insightful approach: evaluating the model using K-Folds Cross Validation. Complete the code below to evaluate a 5NN model using 10-Folds Cross Validation."
      ],
      "metadata": {
        "id": "qNQCuzYCUKuU"
      }
    },
    {
      "cell_type": "code",
      "source": [
        "knn_5 = KNeighborsClassifier(n_neighbors = 5)\n",
        "\n",
        "scores_5 = cross_val_score(knn_5, X_train, y_train, cv = # COMPLETE THIS LINE\n",
        "print(\"10-Folds CV Scores: \" + str(scores_5.mean()) + \" +/- \" + str(scores_5.std()))"
      ],
      "metadata": {
        "id": "blo0EzUvVIFo"
      },
      "execution_count": null,
      "outputs": []
    },
    {
      "cell_type": "markdown",
      "source": [
        "#### **Visualize the scores by running the cell below.**"
      ],
      "metadata": {
        "id": "_Ww2gbWnVOEz"
      }
    },
    {
      "cell_type": "code",
      "source": [
        "plt.plot(scores_5, label = '5NN')\n",
        "plt.plot([scores_5.mean() for i in range(10)], label = 'average')\n",
        "\n",
        "plt.xlabel('Fold')\n",
        "plt.ylabel('Accuracy')\n",
        "plt.legend()\n",
        "\n",
        "plt.show()"
      ],
      "metadata": {
        "id": "MyVEIW62SBA1"
      },
      "execution_count": null,
      "outputs": []
    },
    {
      "cell_type": "markdown",
      "source": [
        "#### **Problem #3.3**\n",
        "\n",
        "Now, use 10-Folds Cross Validation to evaluate and compare to the following models:\n",
        "1. 1NN\n",
        "2. 11NN (**NOTE**: $\\sqrt{\\text{length of training data}} \\approx 11$)\n",
        "3. 99NN\n",
        "4. Logistic Regression\n",
        "\n",
        "<br>\n",
        "\n",
        "**NOTE**: There is code at the end that will visualize all of these results together.\n"
      ],
      "metadata": {
        "id": "RwQj_FpxVVPR"
      }
    },
    {
      "cell_type": "markdown",
      "source": [
        "##### **1. 1NN**"
      ],
      "metadata": {
        "id": "M37J6c2uV5WI"
      }
    },
    {
      "cell_type": "code",
      "source": [
        "knn_1 = KNeighborsClassifier(# COMPLETE THIS LINE\n",
        "\n",
        "scores_1 = cross_val_score(# COMPLETE THIS LINE\n",
        "print(\"10-Folds CV Scores: \" + str(scores_1.mean()) + \" +/- \" + str(scores_1.std()))"
      ],
      "metadata": {
        "id": "zbnadEPuVVPR"
      },
      "execution_count": null,
      "outputs": []
    },
    {
      "cell_type": "markdown",
      "source": [
        "##### **2. 11NN (**NOTE**: $\\sqrt{\\text{length of training data}} \\approx 11$)**"
      ],
      "metadata": {
        "id": "_hI7TFXtV--B"
      }
    },
    {
      "cell_type": "code",
      "source": [
        "knn_11 = # COMPLETE THIS LINE\n",
        "\n",
        "# COMPLETE THIS CODE"
      ],
      "metadata": {
        "id": "EjxzPIpgWee2"
      },
      "execution_count": null,
      "outputs": []
    },
    {
      "cell_type": "markdown",
      "source": [
        "##### **3. 99NN**"
      ],
      "metadata": {
        "id": "m7Eil1tOWFCF"
      }
    },
    {
      "cell_type": "code",
      "source": [
        "knn_99 = # COMPLETE THIS LINE\n",
        "\n",
        "# COMPLETE THIS CODE"
      ],
      "metadata": {
        "id": "QenmHDIPW8Bq"
      },
      "execution_count": null,
      "outputs": []
    },
    {
      "cell_type": "markdown",
      "source": [
        "##### **4. Logistic Regression**"
      ],
      "metadata": {
        "id": "cCTC9HWuWGl7"
      }
    },
    {
      "cell_type": "code",
      "source": [
        "log = # COMPLETE THIS LINE\n",
        "\n",
        "# COMPLETE THIS CODE"
      ],
      "metadata": {
        "id": "lYg9lpVGXC2S"
      },
      "execution_count": null,
      "outputs": []
    },
    {
      "cell_type": "markdown",
      "source": [
        "#### **Visualize the scores by running the cell below.**"
      ],
      "metadata": {
        "id": "rczz1JAsVVPS"
      }
    },
    {
      "cell_type": "code",
      "source": [
        "plt.plot(scores_1, label = '1NN')\n",
        "plt.plot(scores_5, label = '5NN')\n",
        "plt.plot(scores_11, label = '11NN')\n",
        "plt.plot(scores_99, label = '99NN')\n",
        "plt.plot(scores_log, label = 'Logistic Regression')\n",
        "\n",
        "plt.xlabel('Fold')\n",
        "plt.ylabel('Accuracy')\n",
        "plt.legend()\n",
        "\n",
        "plt.show()"
      ],
      "metadata": {
        "id": "hb1UMa1FVVPS"
      },
      "execution_count": null,
      "outputs": []
    },
    {
      "cell_type": "markdown",
      "source": [
        "#### **Problem #3.4**\n",
        "\n",
        "Assuming we do not plan to try out any other models, we can safely train our final model and evaluate it on the test set. Consider the average, standard deviation, and individual scores we visualized to pick one of the models from above and:\n",
        "* Train it on the entire training set.\n",
        "* Evaluate it on the test set with a classification report.\n"
      ],
      "metadata": {
        "id": "3fecx0jaX0bT"
      }
    },
    {
      "cell_type": "code",
      "source": [],
      "metadata": {
        "id": "6D1RoOmymV9W"
      },
      "execution_count": null,
      "outputs": []
    },
    {
      "cell_type": "markdown",
      "source": [
        "### **Reflection questions**\n",
        "Answer the following questions:\n",
        "\n",
        "1. Which of the five models had the highest performance during cross validation?\n",
        "\n",
        "2. Which of the five models had the lowest performance during cross validation?\n",
        "\n",
        "3. How do the top performing model's cross validation metrics compare to the test metrics? In other words, how does this model perform in Problem #3.3 versus #3.4?"
      ],
      "metadata": {
        "id": "lLpAXtV5Xs20"
      }
    },
    {
      "cell_type": "markdown",
      "source": [
        "---\n",
        "\n",
        "# End of Notebook\n",
        "\n",
        "© 2023 The Coding School, All rights reserved"
      ],
      "metadata": {
        "id": "75g0yrIewirj"
      }
    }
  ]
}